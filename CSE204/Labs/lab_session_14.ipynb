{
 "cells": [
  {
   "cell_type": "markdown",
   "metadata": {},
   "source": [
    "Make sure you fill in any place that says `YOUR CODE HERE` or \"YOUR ANSWER HERE\".\n",
    "\n",
    "Before you turn this problem in, make sure everything runs as expected. First, **restart the kernel** (in the menubar, select Kernel$\\rightarrow$Restart) and then **run all cells** (in the menubar, select Cell$\\rightarrow$Run All). On JupyterLab, you may want to hit the \"Validate\" button as well.\n",
    "\n",
    "Caution: do not mess with the notebook's metadata; do not change a pre-existing cell's type; do not copy pre-existing cells (add new ones with the + button instead). This will break autograding; you will get a 0; you are warned."
   ]
  },
  {
   "cell_type": "markdown",
   "metadata": {},
   "source": [
    "<table style=\"width: 100%; border: none;\" cellspacing=\"0\" cellpadding=\"0\" border=\"0\">\n",
    "  <tr>\n",
    "    <td><img src=\"https://www.planetegrandesecoles.com/wp-content/uploads/2021/07/Identite%CC%81-visuelle-Plane%CC%80te-BAC-8-600x398.png\" style=\"float: left; width: 100%\" />\n",
    "</td>\n",
    "    <td><h1 style=\"text-align: center; vertical-align: middle;\"><a href=\"https://moodle.polytechnique.fr/course/view.php?id=15585\">[CSE204-2022] - Introduction to Machine Learning</a></h1>\n",
    "</td>\n",
    "  </tr>\n",
    "</table>"
   ]
  },
  {
   "cell_type": "markdown",
   "metadata": {},
   "source": [
    "---"
   ]
  },
  {
   "cell_type": "markdown",
   "metadata": {
    "deletable": false,
    "editable": false,
    "nbgrader": {
     "cell_type": "markdown",
     "checksum": "53bed3ad6112b430cb24dd449499d87e",
     "grade": false,
     "grade_id": "cell-a25c0c792fa938b1",
     "locked": true,
     "schema_version": 3,
     "solution": false,
     "task": false
    }
   },
   "source": [
    "# Lab Session 14: Miscellaneous techniques - generative models & genetic algorithms\n",
    "\n",
    "Jesse Read, Adrien Ehrhardt"
   ]
  },
  {
   "cell_type": "code",
   "execution_count": 1,
   "metadata": {
    "deletable": false,
    "editable": false,
    "nbgrader": {
     "cell_type": "code",
     "checksum": "02d17d2213a307012ab4d11a2ae13543",
     "grade": false,
     "grade_id": "cell-115d39ecbd768a7e",
     "locked": true,
     "schema_version": 3,
     "solution": false,
     "task": false
    }
   },
   "outputs": [],
   "source": [
    "import numpy as np\n",
    "import pandas as pd\n",
    "import scipy.stats as stats\n",
    "import multiprocessing\n",
    "from matplotlib import pyplot as plt"
   ]
  },
  {
   "cell_type": "code",
   "execution_count": 2,
   "metadata": {
    "deletable": false,
    "editable": false,
    "nbgrader": {
     "cell_type": "code",
     "checksum": "9f875af4acf93b5a5e8ce970dd68fc39",
     "grade": false,
     "grade_id": "cell-a2a395e78eb819fe",
     "locked": true,
     "schema_version": 3,
     "solution": false,
     "task": false
    }
   },
   "outputs": [],
   "source": [
    "from bokeh.io import output_notebook\n",
    "from bokeh.models import HoverTool\n",
    "from bokeh.palettes import viridis\n",
    "from bokeh.plotting import figure, show"
   ]
  },
  {
   "cell_type": "code",
   "execution_count": 3,
   "metadata": {
    "deletable": false,
    "editable": false,
    "nbgrader": {
     "cell_type": "code",
     "checksum": "bdb67d56047608dfaf38ccc227f31c62",
     "grade": false,
     "grade_id": "cell-0370d52e8d46bdc7",
     "locked": true,
     "schema_version": 3,
     "solution": false,
     "task": false
    }
   },
   "outputs": [
    {
     "data": {
      "text/html": [
       "<div class=\"bk-root\">\n",
       "        <a href=\"https://bokeh.org\" target=\"_blank\" class=\"bk-logo bk-logo-small bk-logo-notebook\"></a>\n",
       "        <span id=\"1002\">Loading BokehJS ...</span>\n",
       "    </div>\n"
      ]
     },
     "metadata": {},
     "output_type": "display_data"
    },
    {
     "data": {
      "application/javascript": [
       "(function(root) {\n",
       "  function now() {\n",
       "    return new Date();\n",
       "  }\n",
       "\n",
       "  const force = true;\n",
       "\n",
       "  if (typeof root._bokeh_onload_callbacks === \"undefined\" || force === true) {\n",
       "    root._bokeh_onload_callbacks = [];\n",
       "    root._bokeh_is_loading = undefined;\n",
       "  }\n",
       "\n",
       "const JS_MIME_TYPE = 'application/javascript';\n",
       "  const HTML_MIME_TYPE = 'text/html';\n",
       "  const EXEC_MIME_TYPE = 'application/vnd.bokehjs_exec.v0+json';\n",
       "  const CLASS_NAME = 'output_bokeh rendered_html';\n",
       "\n",
       "  /**\n",
       "   * Render data to the DOM node\n",
       "   */\n",
       "  function render(props, node) {\n",
       "    const script = document.createElement(\"script\");\n",
       "    node.appendChild(script);\n",
       "  }\n",
       "\n",
       "  /**\n",
       "   * Handle when an output is cleared or removed\n",
       "   */\n",
       "  function handleClearOutput(event, handle) {\n",
       "    const cell = handle.cell;\n",
       "\n",
       "    const id = cell.output_area._bokeh_element_id;\n",
       "    const server_id = cell.output_area._bokeh_server_id;\n",
       "    // Clean up Bokeh references\n",
       "    if (id != null && id in Bokeh.index) {\n",
       "      Bokeh.index[id].model.document.clear();\n",
       "      delete Bokeh.index[id];\n",
       "    }\n",
       "\n",
       "    if (server_id !== undefined) {\n",
       "      // Clean up Bokeh references\n",
       "      const cmd_clean = \"from bokeh.io.state import curstate; print(curstate().uuid_to_server['\" + server_id + \"'].get_sessions()[0].document.roots[0]._id)\";\n",
       "      cell.notebook.kernel.execute(cmd_clean, {\n",
       "        iopub: {\n",
       "          output: function(msg) {\n",
       "            const id = msg.content.text.trim();\n",
       "            if (id in Bokeh.index) {\n",
       "              Bokeh.index[id].model.document.clear();\n",
       "              delete Bokeh.index[id];\n",
       "            }\n",
       "          }\n",
       "        }\n",
       "      });\n",
       "      // Destroy server and session\n",
       "      const cmd_destroy = \"import bokeh.io.notebook as ion; ion.destroy_server('\" + server_id + \"')\";\n",
       "      cell.notebook.kernel.execute(cmd_destroy);\n",
       "    }\n",
       "  }\n",
       "\n",
       "  /**\n",
       "   * Handle when a new output is added\n",
       "   */\n",
       "  function handleAddOutput(event, handle) {\n",
       "    const output_area = handle.output_area;\n",
       "    const output = handle.output;\n",
       "\n",
       "    // limit handleAddOutput to display_data with EXEC_MIME_TYPE content only\n",
       "    if ((output.output_type != \"display_data\") || (!Object.prototype.hasOwnProperty.call(output.data, EXEC_MIME_TYPE))) {\n",
       "      return\n",
       "    }\n",
       "\n",
       "    const toinsert = output_area.element.find(\".\" + CLASS_NAME.split(' ')[0]);\n",
       "\n",
       "    if (output.metadata[EXEC_MIME_TYPE][\"id\"] !== undefined) {\n",
       "      toinsert[toinsert.length - 1].firstChild.textContent = output.data[JS_MIME_TYPE];\n",
       "      // store reference to embed id on output_area\n",
       "      output_area._bokeh_element_id = output.metadata[EXEC_MIME_TYPE][\"id\"];\n",
       "    }\n",
       "    if (output.metadata[EXEC_MIME_TYPE][\"server_id\"] !== undefined) {\n",
       "      const bk_div = document.createElement(\"div\");\n",
       "      bk_div.innerHTML = output.data[HTML_MIME_TYPE];\n",
       "      const script_attrs = bk_div.children[0].attributes;\n",
       "      for (let i = 0; i < script_attrs.length; i++) {\n",
       "        toinsert[toinsert.length - 1].firstChild.setAttribute(script_attrs[i].name, script_attrs[i].value);\n",
       "        toinsert[toinsert.length - 1].firstChild.textContent = bk_div.children[0].textContent\n",
       "      }\n",
       "      // store reference to server id on output_area\n",
       "      output_area._bokeh_server_id = output.metadata[EXEC_MIME_TYPE][\"server_id\"];\n",
       "    }\n",
       "  }\n",
       "\n",
       "  function register_renderer(events, OutputArea) {\n",
       "\n",
       "    function append_mime(data, metadata, element) {\n",
       "      // create a DOM node to render to\n",
       "      const toinsert = this.create_output_subarea(\n",
       "        metadata,\n",
       "        CLASS_NAME,\n",
       "        EXEC_MIME_TYPE\n",
       "      );\n",
       "      this.keyboard_manager.register_events(toinsert);\n",
       "      // Render to node\n",
       "      const props = {data: data, metadata: metadata[EXEC_MIME_TYPE]};\n",
       "      render(props, toinsert[toinsert.length - 1]);\n",
       "      element.append(toinsert);\n",
       "      return toinsert\n",
       "    }\n",
       "\n",
       "    /* Handle when an output is cleared or removed */\n",
       "    events.on('clear_output.CodeCell', handleClearOutput);\n",
       "    events.on('delete.Cell', handleClearOutput);\n",
       "\n",
       "    /* Handle when a new output is added */\n",
       "    events.on('output_added.OutputArea', handleAddOutput);\n",
       "\n",
       "    /**\n",
       "     * Register the mime type and append_mime function with output_area\n",
       "     */\n",
       "    OutputArea.prototype.register_mime_type(EXEC_MIME_TYPE, append_mime, {\n",
       "      /* Is output safe? */\n",
       "      safe: true,\n",
       "      /* Index of renderer in `output_area.display_order` */\n",
       "      index: 0\n",
       "    });\n",
       "  }\n",
       "\n",
       "  // register the mime type if in Jupyter Notebook environment and previously unregistered\n",
       "  if (root.Jupyter !== undefined) {\n",
       "    const events = require('base/js/events');\n",
       "    const OutputArea = require('notebook/js/outputarea').OutputArea;\n",
       "\n",
       "    if (OutputArea.prototype.mime_types().indexOf(EXEC_MIME_TYPE) == -1) {\n",
       "      register_renderer(events, OutputArea);\n",
       "    }\n",
       "  }\n",
       "  if (typeof (root._bokeh_timeout) === \"undefined\" || force === true) {\n",
       "    root._bokeh_timeout = Date.now() + 5000;\n",
       "    root._bokeh_failed_load = false;\n",
       "  }\n",
       "\n",
       "  const NB_LOAD_WARNING = {'data': {'text/html':\n",
       "     \"<div style='background-color: #fdd'>\\n\"+\n",
       "     \"<p>\\n\"+\n",
       "     \"BokehJS does not appear to have successfully loaded. If loading BokehJS from CDN, this \\n\"+\n",
       "     \"may be due to a slow or bad network connection. Possible fixes:\\n\"+\n",
       "     \"</p>\\n\"+\n",
       "     \"<ul>\\n\"+\n",
       "     \"<li>re-rerun `output_notebook()` to attempt to load from CDN again, or</li>\\n\"+\n",
       "     \"<li>use INLINE resources instead, as so:</li>\\n\"+\n",
       "     \"</ul>\\n\"+\n",
       "     \"<code>\\n\"+\n",
       "     \"from bokeh.resources import INLINE\\n\"+\n",
       "     \"output_notebook(resources=INLINE)\\n\"+\n",
       "     \"</code>\\n\"+\n",
       "     \"</div>\"}};\n",
       "\n",
       "  function display_loaded() {\n",
       "    const el = document.getElementById(\"1002\");\n",
       "    if (el != null) {\n",
       "      el.textContent = \"BokehJS is loading...\";\n",
       "    }\n",
       "    if (root.Bokeh !== undefined) {\n",
       "      if (el != null) {\n",
       "        el.textContent = \"BokehJS \" + root.Bokeh.version + \" successfully loaded.\";\n",
       "      }\n",
       "    } else if (Date.now() < root._bokeh_timeout) {\n",
       "      setTimeout(display_loaded, 100)\n",
       "    }\n",
       "  }\n",
       "\n",
       "  function run_callbacks() {\n",
       "    try {\n",
       "      root._bokeh_onload_callbacks.forEach(function(callback) {\n",
       "        if (callback != null)\n",
       "          callback();\n",
       "      });\n",
       "    } finally {\n",
       "      delete root._bokeh_onload_callbacks\n",
       "    }\n",
       "    console.debug(\"Bokeh: all callbacks have finished\");\n",
       "  }\n",
       "\n",
       "  function load_libs(css_urls, js_urls, callback) {\n",
       "    if (css_urls == null) css_urls = [];\n",
       "    if (js_urls == null) js_urls = [];\n",
       "\n",
       "    root._bokeh_onload_callbacks.push(callback);\n",
       "    if (root._bokeh_is_loading > 0) {\n",
       "      console.debug(\"Bokeh: BokehJS is being loaded, scheduling callback at\", now());\n",
       "      return null;\n",
       "    }\n",
       "    if (js_urls == null || js_urls.length === 0) {\n",
       "      run_callbacks();\n",
       "      return null;\n",
       "    }\n",
       "    console.debug(\"Bokeh: BokehJS not loaded, scheduling load and callback at\", now());\n",
       "    root._bokeh_is_loading = css_urls.length + js_urls.length;\n",
       "\n",
       "    function on_load() {\n",
       "      root._bokeh_is_loading--;\n",
       "      if (root._bokeh_is_loading === 0) {\n",
       "        console.debug(\"Bokeh: all BokehJS libraries/stylesheets loaded\");\n",
       "        run_callbacks()\n",
       "      }\n",
       "    }\n",
       "\n",
       "    function on_error(url) {\n",
       "      console.error(\"failed to load \" + url);\n",
       "    }\n",
       "\n",
       "    for (let i = 0; i < css_urls.length; i++) {\n",
       "      const url = css_urls[i];\n",
       "      const element = document.createElement(\"link\");\n",
       "      element.onload = on_load;\n",
       "      element.onerror = on_error.bind(null, url);\n",
       "      element.rel = \"stylesheet\";\n",
       "      element.type = \"text/css\";\n",
       "      element.href = url;\n",
       "      console.debug(\"Bokeh: injecting link tag for BokehJS stylesheet: \", url);\n",
       "      document.body.appendChild(element);\n",
       "    }\n",
       "\n",
       "    for (let i = 0; i < js_urls.length; i++) {\n",
       "      const url = js_urls[i];\n",
       "      const element = document.createElement('script');\n",
       "      element.onload = on_load;\n",
       "      element.onerror = on_error.bind(null, url);\n",
       "      element.async = false;\n",
       "      element.src = url;\n",
       "      console.debug(\"Bokeh: injecting script tag for BokehJS library: \", url);\n",
       "      document.head.appendChild(element);\n",
       "    }\n",
       "  };\n",
       "\n",
       "  function inject_raw_css(css) {\n",
       "    const element = document.createElement(\"style\");\n",
       "    element.appendChild(document.createTextNode(css));\n",
       "    document.body.appendChild(element);\n",
       "  }\n",
       "\n",
       "  const js_urls = [\"https://cdn.bokeh.org/bokeh/release/bokeh-2.4.3.min.js\", \"https://cdn.bokeh.org/bokeh/release/bokeh-gl-2.4.3.min.js\", \"https://cdn.bokeh.org/bokeh/release/bokeh-widgets-2.4.3.min.js\", \"https://cdn.bokeh.org/bokeh/release/bokeh-tables-2.4.3.min.js\", \"https://cdn.bokeh.org/bokeh/release/bokeh-mathjax-2.4.3.min.js\"];\n",
       "  const css_urls = [];\n",
       "\n",
       "  const inline_js = [    function(Bokeh) {\n",
       "      Bokeh.set_log_level(\"info\");\n",
       "    },\n",
       "function(Bokeh) {\n",
       "    }\n",
       "  ];\n",
       "\n",
       "  function run_inline_js() {\n",
       "    if (root.Bokeh !== undefined || force === true) {\n",
       "          for (let i = 0; i < inline_js.length; i++) {\n",
       "      inline_js[i].call(root, root.Bokeh);\n",
       "    }\n",
       "if (force === true) {\n",
       "        display_loaded();\n",
       "      }} else if (Date.now() < root._bokeh_timeout) {\n",
       "      setTimeout(run_inline_js, 100);\n",
       "    } else if (!root._bokeh_failed_load) {\n",
       "      console.log(\"Bokeh: BokehJS failed to load within specified timeout.\");\n",
       "      root._bokeh_failed_load = true;\n",
       "    } else if (force !== true) {\n",
       "      const cell = $(document.getElementById(\"1002\")).parents('.cell').data().cell;\n",
       "      cell.output_area.append_execute_result(NB_LOAD_WARNING)\n",
       "    }\n",
       "  }\n",
       "\n",
       "  if (root._bokeh_is_loading === 0) {\n",
       "    console.debug(\"Bokeh: BokehJS loaded, going straight to plotting\");\n",
       "    run_inline_js();\n",
       "  } else {\n",
       "    load_libs(css_urls, js_urls, function() {\n",
       "      console.debug(\"Bokeh: BokehJS plotting callback run at\", now());\n",
       "      run_inline_js();\n",
       "    });\n",
       "  }\n",
       "}(window));"
      ],
      "application/vnd.bokehjs_load.v0+json": "(function(root) {\n  function now() {\n    return new Date();\n  }\n\n  const force = true;\n\n  if (typeof root._bokeh_onload_callbacks === \"undefined\" || force === true) {\n    root._bokeh_onload_callbacks = [];\n    root._bokeh_is_loading = undefined;\n  }\n\n\n  if (typeof (root._bokeh_timeout) === \"undefined\" || force === true) {\n    root._bokeh_timeout = Date.now() + 5000;\n    root._bokeh_failed_load = false;\n  }\n\n  const NB_LOAD_WARNING = {'data': {'text/html':\n     \"<div style='background-color: #fdd'>\\n\"+\n     \"<p>\\n\"+\n     \"BokehJS does not appear to have successfully loaded. If loading BokehJS from CDN, this \\n\"+\n     \"may be due to a slow or bad network connection. Possible fixes:\\n\"+\n     \"</p>\\n\"+\n     \"<ul>\\n\"+\n     \"<li>re-rerun `output_notebook()` to attempt to load from CDN again, or</li>\\n\"+\n     \"<li>use INLINE resources instead, as so:</li>\\n\"+\n     \"</ul>\\n\"+\n     \"<code>\\n\"+\n     \"from bokeh.resources import INLINE\\n\"+\n     \"output_notebook(resources=INLINE)\\n\"+\n     \"</code>\\n\"+\n     \"</div>\"}};\n\n  function display_loaded() {\n    const el = document.getElementById(\"1002\");\n    if (el != null) {\n      el.textContent = \"BokehJS is loading...\";\n    }\n    if (root.Bokeh !== undefined) {\n      if (el != null) {\n        el.textContent = \"BokehJS \" + root.Bokeh.version + \" successfully loaded.\";\n      }\n    } else if (Date.now() < root._bokeh_timeout) {\n      setTimeout(display_loaded, 100)\n    }\n  }\n\n  function run_callbacks() {\n    try {\n      root._bokeh_onload_callbacks.forEach(function(callback) {\n        if (callback != null)\n          callback();\n      });\n    } finally {\n      delete root._bokeh_onload_callbacks\n    }\n    console.debug(\"Bokeh: all callbacks have finished\");\n  }\n\n  function load_libs(css_urls, js_urls, callback) {\n    if (css_urls == null) css_urls = [];\n    if (js_urls == null) js_urls = [];\n\n    root._bokeh_onload_callbacks.push(callback);\n    if (root._bokeh_is_loading > 0) {\n      console.debug(\"Bokeh: BokehJS is being loaded, scheduling callback at\", now());\n      return null;\n    }\n    if (js_urls == null || js_urls.length === 0) {\n      run_callbacks();\n      return null;\n    }\n    console.debug(\"Bokeh: BokehJS not loaded, scheduling load and callback at\", now());\n    root._bokeh_is_loading = css_urls.length + js_urls.length;\n\n    function on_load() {\n      root._bokeh_is_loading--;\n      if (root._bokeh_is_loading === 0) {\n        console.debug(\"Bokeh: all BokehJS libraries/stylesheets loaded\");\n        run_callbacks()\n      }\n    }\n\n    function on_error(url) {\n      console.error(\"failed to load \" + url);\n    }\n\n    for (let i = 0; i < css_urls.length; i++) {\n      const url = css_urls[i];\n      const element = document.createElement(\"link\");\n      element.onload = on_load;\n      element.onerror = on_error.bind(null, url);\n      element.rel = \"stylesheet\";\n      element.type = \"text/css\";\n      element.href = url;\n      console.debug(\"Bokeh: injecting link tag for BokehJS stylesheet: \", url);\n      document.body.appendChild(element);\n    }\n\n    for (let i = 0; i < js_urls.length; i++) {\n      const url = js_urls[i];\n      const element = document.createElement('script');\n      element.onload = on_load;\n      element.onerror = on_error.bind(null, url);\n      element.async = false;\n      element.src = url;\n      console.debug(\"Bokeh: injecting script tag for BokehJS library: \", url);\n      document.head.appendChild(element);\n    }\n  };\n\n  function inject_raw_css(css) {\n    const element = document.createElement(\"style\");\n    element.appendChild(document.createTextNode(css));\n    document.body.appendChild(element);\n  }\n\n  const js_urls = [\"https://cdn.bokeh.org/bokeh/release/bokeh-2.4.3.min.js\", \"https://cdn.bokeh.org/bokeh/release/bokeh-gl-2.4.3.min.js\", \"https://cdn.bokeh.org/bokeh/release/bokeh-widgets-2.4.3.min.js\", \"https://cdn.bokeh.org/bokeh/release/bokeh-tables-2.4.3.min.js\", \"https://cdn.bokeh.org/bokeh/release/bokeh-mathjax-2.4.3.min.js\"];\n  const css_urls = [];\n\n  const inline_js = [    function(Bokeh) {\n      Bokeh.set_log_level(\"info\");\n    },\nfunction(Bokeh) {\n    }\n  ];\n\n  function run_inline_js() {\n    if (root.Bokeh !== undefined || force === true) {\n          for (let i = 0; i < inline_js.length; i++) {\n      inline_js[i].call(root, root.Bokeh);\n    }\nif (force === true) {\n        display_loaded();\n      }} else if (Date.now() < root._bokeh_timeout) {\n      setTimeout(run_inline_js, 100);\n    } else if (!root._bokeh_failed_load) {\n      console.log(\"Bokeh: BokehJS failed to load within specified timeout.\");\n      root._bokeh_failed_load = true;\n    } else if (force !== true) {\n      const cell = $(document.getElementById(\"1002\")).parents('.cell').data().cell;\n      cell.output_area.append_execute_result(NB_LOAD_WARNING)\n    }\n  }\n\n  if (root._bokeh_is_loading === 0) {\n    console.debug(\"Bokeh: BokehJS loaded, going straight to plotting\");\n    run_inline_js();\n  } else {\n    load_libs(css_urls, js_urls, function() {\n      console.debug(\"Bokeh: BokehJS plotting callback run at\", now());\n      run_inline_js();\n    });\n  }\n}(window));"
     },
     "metadata": {},
     "output_type": "display_data"
    }
   ],
   "source": [
    "# This is required for bokeh plots to appear in the notebook\n",
    "output_notebook()"
   ]
  },
  {
   "cell_type": "markdown",
   "metadata": {
    "deletable": false,
    "editable": false,
    "nbgrader": {
     "cell_type": "markdown",
     "checksum": "e59311a8c411a78a3d2d846abbbb9547",
     "grade": false,
     "grade_id": "cell-44c9b1aa0127ef6f",
     "locked": true,
     "schema_version": 3,
     "solution": false,
     "task": false
    }
   },
   "source": [
    "## Part 1: Generative Models and Latent Variables (10 pts)\n",
    "\n",
    "In this part of the lab we will look at generative models, as seen in the lecture. \n",
    "\n",
    "### Toy Dataset\n",
    "\n",
    "Toy dataset: A number of beetles `x`, recording their length in centimeters. A label `y` (either `0` or `1`) indicates the species the beetle belongs to. \n",
    "\n",
    "**Task**: Have a look. "
   ]
  },
  {
   "cell_type": "code",
   "execution_count": 4,
   "metadata": {
    "deletable": false,
    "editable": false,
    "nbgrader": {
     "cell_type": "code",
     "checksum": "ba70965bb070dc236858fcaa48c51791",
     "grade": false,
     "grade_id": "cell-f1981bc0e3bb3e69",
     "locked": true,
     "schema_version": 3,
     "solution": false,
     "task": false
    }
   },
   "outputs": [
    {
     "data": {
      "image/png": "[encoded data removed]",
      "text/plain": [
       "<Figure size 640x480 with 1 Axes>"
      ]
     },
     "metadata": {},
     "output_type": "display_data"
    }
   ],
   "source": [
    "# Beetle lengths (cm)\n",
    "x = np.array([-0.13,  1.52, -0.81, -0.61, -0.24, 1.07, 2.36, 1.20, 3.88, 3.05]) + 5\n",
    "# Beetle species id\n",
    "y = np.array([0, 0, 0, 0, 0, 1, 1, 1, 1, 1], dtype=int)  \n",
    "# Plot it\n",
    "fig = plt.figure()\n",
    "plt.scatter(x,np.zeros_like(x),c=y)\n",
    "plt.xlabel(\"$x$: beetle length (cm)\")\n",
    "plt.show()"
   ]
  },
  {
   "cell_type": "markdown",
   "metadata": {},
   "source": [
    "### Gaussian Probabily Density Functions\n",
    "\n",
    "This is a function we're going to use later: $p(x)$ where $p$ is a 1D density function defined from a Gaussian distribution of mean `m` and standard deviation `s`. And `x` is, e.g., a beetle length in cm.\n",
    "\n",
    "**Task**: Implement the function.\n",
    "\n",
    "**Hint**: Use `scipy.stats` if you like (specifically: [`stats.norm.pdf`](https://docs.scipy.org/doc/scipy/reference/generated/scipy.stats.norm.html))."
   ]
  },
  {
   "cell_type": "code",
   "execution_count": 5,
   "metadata": {
    "deletable": false,
    "nbgrader": {
     "cell_type": "code",
     "checksum": "cff596d5beeff80ef07588516917e404",
     "grade": false,
     "grade_id": "cell-e36b509789036809",
     "locked": false,
     "schema_version": 3,
     "solution": true,
     "task": false
    }
   },
   "outputs": [],
   "source": [
    "def p(x: float, m: float = 0.0, s: float = 1.0) -> float:\n",
    "    \"\"\"\n",
    "    Gaussian probability density function\n",
    "\n",
    "    Parameters\n",
    "    ----------\n",
    "\n",
    "    x : a float to evaluate the pdf\n",
    "    m : the mean\n",
    "    s : the standard deviation\n",
    "\n",
    "    Return\n",
    "    ------\n",
    "    p : relative probability of x wrt gaussian distribution of mean m, std dev s\n",
    "    \"\"\"\n",
    "    # YOUR CODE HERE\n",
    "    return stats.norm.pdf(x, loc=m, scale=s)"
   ]
  },
  {
   "cell_type": "code",
   "execution_count": null,
   "metadata": {
    "deletable": false,
    "editable": false,
    "nbgrader": {
     "cell_type": "code",
     "checksum": "69e409fb2dc9c2d77839586393a1247d",
     "grade": true,
     "grade_id": "cell-cd232fb716b72358",
     "locked": true,
     "points": 1,
     "schema_version": 3,
     "solution": false,
     "task": false
    }
   },
   "outputs": [],
   "source": []
  },
  {
   "cell_type": "markdown",
   "metadata": {
    "deletable": false,
    "editable": false,
    "nbgrader": {
     "cell_type": "markdown",
     "checksum": "b5e923c48034a3e682794e7062579681",
     "grade": false,
     "grade_id": "cell-457659703d3fa0da",
     "locked": true,
     "schema_version": 3,
     "solution": false,
     "task": false
    }
   },
   "source": [
    "### Gaussian Mixture Models \n",
    "\n",
    "You are going to fit a *Gausian Mixture Model* (GMM) to the data `x,y` (that you looked at above), by completing the code below. Essentially you are 'learning' $p(x,y) = p(x | y)p(y)$ via the two components on the right hand side: $p(x|y)$, for which you will assume a 1D Gaussian distribution (i.e., having *parameters* mean `m` and standard deviation `s`); and $p(y)$ for which you will assume a Bernoulli distribution (i.e., having *parameter* `w`, the proportion of class `y`).   \n",
    "\n",
    "**Task:** provide a *maximum likelihood estimate* of parameters `m`,`s`,`w`, by completing the code below. \n",
    "\n",
    "**Hint:** This is a supervised-learning task; there is one set of parameters involved *for each label*."
   ]
  },
  {
   "cell_type": "code",
   "execution_count": 6,
   "metadata": {
    "deletable": false,
    "nbgrader": {
     "cell_type": "code",
     "checksum": "9d4e469e5cc9c1c0d10a5dcf244b9394",
     "grade": false,
     "grade_id": "cell-3a08ec2d5d77105e",
     "locked": false,
     "schema_version": 3,
     "solution": true,
     "task": false
    }
   },
   "outputs": [],
   "source": [
    "def fit(x,y):\n",
    "    \"\"\"\n",
    "    Maximum Likelihood Estimaiton.\n",
    "    \n",
    "    Estimate the most likely parameters for this data, under the assumption of a Gaussian distribution per label.\n",
    "\n",
    "    You may assume that the labels are either 0 or 1 (the binary case).\n",
    "    \n",
    "    Parameters\n",
    "    ----------\n",
    "    \n",
    "    x : a vector of n samples\n",
    "    y : a vector of n labels\n",
    "\n",
    "    Return\n",
    "    ------\n",
    "    \n",
    "    w : a vector of weights, where w[j] represents p(y = j)\n",
    "    m : a vector of means \n",
    "    s : a vector of standard deviations\n",
    "    \"\"\"\n",
    "\n",
    "    n = len(y)\n",
    "    labels = np.unique(y)\n",
    "    k = len(labels)\n",
    "    w = np.zeros(k)\n",
    "    m = np.zeros(k)\n",
    "    s = np.zeros(k)   \n",
    "\n",
    "    # YOUR CODE HERE\n",
    "    for j in range(k):\n",
    "        w[j] = np.mean(y == labels[j])\n",
    "        x_j = x[y == labels[j]]\n",
    "        m[j] = np.mean(x_j)\n",
    "        s[j] = np.std(x_j)\n",
    "\n",
    "    return w, m, s"
   ]
  },
  {
   "cell_type": "code",
   "execution_count": 7,
   "metadata": {
    "deletable": false,
    "editable": false,
    "nbgrader": {
     "cell_type": "code",
     "checksum": "36bf86e8c61a4442efbf09f5e3931572",
     "grade": false,
     "grade_id": "cell-99d3ab08dd1fffca",
     "locked": true,
     "schema_version": 3,
     "solution": false,
     "task": false
    }
   },
   "outputs": [
    {
     "name": "stdout",
     "output_type": "stream",
     "text": [
      "[0.5 0.5] [4.946 7.312] [0.82444163 1.07560959]\n"
     ]
    }
   ],
   "source": [
    "# Using your code to fit the model (estimate the parameters)\n",
    "w, m, s = fit(x, y)\n",
    "print(w, m, s)"
   ]
  },
  {
   "cell_type": "code",
   "execution_count": 8,
   "metadata": {
    "deletable": false,
    "editable": false,
    "nbgrader": {
     "cell_type": "code",
     "checksum": "73e82cbf7eadd248f5eb28d693073b56",
     "grade": true,
     "grade_id": "cell-6640b1151c9cd07e",
     "locked": true,
     "points": 2,
     "schema_version": 3,
     "solution": false,
     "task": false
    }
   },
   "outputs": [],
   "source": [
    "assert w.shape == m.shape == s.shape == (2, )  # 2 parameters, 1 per label!"
   ]
  },
  {
   "cell_type": "markdown",
   "metadata": {
    "deletable": false,
    "editable": false,
    "nbgrader": {
     "cell_type": "markdown",
     "checksum": "fceb0d934d6bb3b0d933186ec0089c28",
     "grade": false,
     "grade_id": "cell-498dc88e01cfa662",
     "locked": true,
     "schema_version": 3,
     "solution": false,
     "task": false
    }
   },
   "source": [
    "### Generative Models for Classification\n",
    "\n",
    "We can use generative models for classification. \n",
    "\n",
    "**Task:** Provide a classification/prediction `yp` (of the same shape and type as `y`) according to your generative model. \n",
    "\n",
    "**Hint:** Use your function `p` from above.\n",
    "\n",
    "*N.B.:* We're breaking a few cardinal rules of ML to make this lab simpler; i.e., don't worry about overfitting or anything here; for the purpose of learning about generative models. "
   ]
  },
  {
   "cell_type": "code",
   "execution_count": 9,
   "metadata": {
    "deletable": false,
    "nbgrader": {
     "cell_type": "code",
     "checksum": "05453b8cbe92311c8f65f58fff0bc1b8",
     "grade": false,
     "grade_id": "cell-076a6f951261a38f",
     "locked": false,
     "schema_version": 3,
     "solution": true,
     "task": false
    }
   },
   "outputs": [],
   "source": [
    "def pred(x, w, m, s):\n",
    "    \"\"\"\n",
    "    Prediction.\n",
    "    Predict the labels for this data.\n",
    "    You may assume that the labels in y are either 0 or 1 (the binary case).\n",
    "\n",
    "    Parameters\n",
    "    ----------\n",
    "\n",
    "    x : a vector of n samples\n",
    "    w : a vector of weights, where w[j] represents p(y = j)\n",
    "    m : a vector of means \n",
    "    s : a vector of standard deviations\n",
    "\n",
    "    Return\n",
    "    ------\n",
    "\n",
    "    yp : a vector of the predicted labels for x, according to params w, m, s \n",
    "    \"\"\"\n",
    "    \n",
    "    n = len(x)\n",
    "    yp = np.zeros(n, dtype=int)\n",
    "    for i in range(n):\n",
    "        p_x_given_y = [p(x[i], m[j], s[j]) for j in range(len(w))]\n",
    "        p_x_y = w * p_x_given_y\n",
    "        yp[i] = np.argmax(p_x_y)\n",
    "\n",
    "    return yp"
   ]
  },
  {
   "cell_type": "code",
   "execution_count": 10,
   "metadata": {
    "deletable": false,
    "editable": false,
    "nbgrader": {
     "cell_type": "code",
     "checksum": "6a66e069ed2925a7675f253f83fd2dc7",
     "grade": false,
     "grade_id": "cell-4707b46490b4da36",
     "locked": true,
     "schema_version": 3,
     "solution": false,
     "task": false
    }
   },
   "outputs": [],
   "source": [
    "# Using your code to get predictions\n",
    "yp = pred(x, w, m, s)"
   ]
  },
  {
   "cell_type": "code",
   "execution_count": 11,
   "metadata": {
    "deletable": false,
    "editable": false,
    "nbgrader": {
     "cell_type": "code",
     "checksum": "3874d524d155335063fd4ae74f06c6d9",
     "grade": true,
     "grade_id": "cell-295abe7cf4294a13",
     "locked": true,
     "points": 3,
     "schema_version": 3,
     "solution": false,
     "task": false
    }
   },
   "outputs": [],
   "source": [
    "assert len(yp) == len(x)"
   ]
  },
  {
   "cell_type": "code",
   "execution_count": 12,
   "metadata": {
    "deletable": false,
    "editable": false,
    "nbgrader": {
     "cell_type": "code",
     "checksum": "7df4cf18c680d79042a28107eff80531",
     "grade": false,
     "grade_id": "cell-b7bd5d46246a9840",
     "locked": true,
     "schema_version": 3,
     "solution": false,
     "task": false
    }
   },
   "outputs": [
    {
     "data": {
      "image/png": "[encoded data removed]",
      "text/plain": [
       "<Figure size 640x480 with 1 Axes>"
      ]
     },
     "metadata": {},
     "output_type": "display_data"
    }
   ],
   "source": [
    "fig = plt.figure()\n",
    "xx = np.linspace(0, 10, num=100)\n",
    "\n",
    "plt.plot(xx, p(xx, m[0], s[0]), 'r-', label=\"$p(x \\mid y = 0)$\")\n",
    "plt.plot(xx, p(xx, m[1], s[1]), 'b-', label=\"$p(x \\mid y = 1)$\")\n",
    "plt.plot(xx, w[0] * p(xx, m[0], s[0]) + w[1] * p(xx, m[1], s[1]), 'm:', label=\"$p(x,y)$\")\n",
    "plt.legend()\n",
    "plt.xlabel(\"$x$: beetle length (cm)\")\n",
    "plt.ylabel(\"density\")\n",
    "plt.scatter(x, np.zeros_like(x), c=yp, label=\"beetles\");"
   ]
  },
  {
   "cell_type": "markdown",
   "metadata": {
    "deletable": false,
    "editable": false,
    "nbgrader": {
     "cell_type": "markdown",
     "checksum": "a98d0a0b1ca90e1fcd65d0d1c09eb85b",
     "grade": false,
     "grade_id": "cell-1e078d86af27d3a1",
     "locked": true,
     "schema_version": 3,
     "solution": false,
     "task": false
    }
   },
   "source": [
    "### Generative Models for Generation\n",
    "\n",
    "And of course, generative models can be used for generation. \n",
    "\n",
    "**Task:** Generate 100 beetles (their lengths and their species label) according to $p(x,y)$ as you have modeled so far.\n",
    "\n",
    "**Hint:** In the following you will generate beetles of both species, but it should be clear to you (in fact, it would be a slightly easier task), how to generate beetles from a specific species. "
   ]
  },
  {
   "cell_type": "code",
   "execution_count": 13,
   "metadata": {
    "deletable": false,
    "nbgrader": {
     "cell_type": "code",
     "checksum": "08ad5105e93e03e60d3261bbc3a7b49f",
     "grade": false,
     "grade_id": "cell-c46ed0a8459d5c1f",
     "locked": false,
     "schema_version": 3,
     "solution": true,
     "task": false
    }
   },
   "outputs": [
    {
     "name": "stdout",
     "output_type": "stream",
     "text": [
      "Beetle 1: Length=4.933277521082076, Species=0\n",
      "Beetle 2: Length=3.663378272234073, Species=0\n",
      "Beetle 3: Length=3.9787321399609503, Species=0\n",
      "Beetle 4: Length=7.682387856974215, Species=1\n",
      "Beetle 5: Length=5.707765374842526, Species=0\n",
      "Beetle 6: Length=8.475348784894514, Species=1\n",
      "Beetle 7: Length=3.607443727677574, Species=0\n",
      "Beetle 8: Length=5.875319749070426, Species=1\n",
      "Beetle 9: Length=6.614214031372423, Species=1\n",
      "Beetle 10: Length=5.7244065889299875, Species=0\n",
      "Beetle 11: Length=7.415938312620346, Species=1\n",
      "Beetle 12: Length=6.281833996100521, Species=1\n",
      "Beetle 13: Length=6.023038277924953, Species=0\n",
      "Beetle 14: Length=6.7693480955612575, Species=1\n",
      "Beetle 15: Length=3.5780638441061248, Species=0\n",
      "Beetle 16: Length=5.022896569016407, Species=0\n",
      "Beetle 17: Length=6.987453592829825, Species=1\n",
      "Beetle 18: Length=6.977952586526169, Species=1\n",
      "Beetle 19: Length=4.027036108483341, Species=0\n",
      "Beetle 20: Length=7.342555968015992, Species=1\n",
      "Beetle 21: Length=7.364075127027923, Species=1\n",
      "Beetle 22: Length=8.322720664454666, Species=1\n",
      "Beetle 23: Length=5.764217459269115, Species=0\n",
      "Beetle 24: Length=6.591966359282738, Species=1\n",
      "Beetle 25: Length=3.736468636986916, Species=0\n",
      "Beetle 26: Length=5.016132718697132, Species=0\n",
      "Beetle 27: Length=4.420950359302818, Species=0\n",
      "Beetle 28: Length=4.445807964487053, Species=1\n",
      "Beetle 29: Length=5.250366899404183, Species=0\n",
      "Beetle 30: Length=6.368649162184383, Species=1\n",
      "Beetle 31: Length=4.923224883016933, Species=0\n",
      "Beetle 32: Length=6.880930484767998, Species=1\n",
      "Beetle 33: Length=7.670584952001629, Species=1\n",
      "Beetle 34: Length=5.299924716261797, Species=1\n",
      "Beetle 35: Length=3.828919817807672, Species=0\n",
      "Beetle 36: Length=6.825857182199599, Species=1\n",
      "Beetle 37: Length=7.928601175779174, Species=1\n",
      "Beetle 38: Length=5.77315314077955, Species=1\n",
      "Beetle 39: Length=3.4209814620913663, Species=0\n",
      "Beetle 40: Length=4.645699452786008, Species=0\n",
      "Beetle 41: Length=4.7316114366281905, Species=1\n",
      "Beetle 42: Length=7.876300301800739, Species=1\n",
      "Beetle 43: Length=4.677396658036267, Species=0\n",
      "Beetle 44: Length=5.555798439377428, Species=0\n",
      "Beetle 45: Length=7.0814776321139865, Species=1\n",
      "Beetle 46: Length=5.742980840416879, Species=0\n",
      "Beetle 47: Length=5.444234468111942, Species=1\n",
      "Beetle 48: Length=4.496772401519014, Species=0\n",
      "Beetle 49: Length=7.183082824056269, Species=1\n",
      "Beetle 50: Length=4.193307947110947, Species=0\n",
      "Beetle 51: Length=5.286977923557189, Species=0\n",
      "Beetle 52: Length=9.076449502074265, Species=1\n",
      "Beetle 53: Length=7.275985496606438, Species=1\n",
      "Beetle 54: Length=6.734218745215006, Species=1\n",
      "Beetle 55: Length=6.454034699373523, Species=1\n",
      "Beetle 56: Length=7.832778877867903, Species=1\n",
      "Beetle 57: Length=6.13155860675574, Species=1\n",
      "Beetle 58: Length=5.063039683128528, Species=0\n",
      "Beetle 59: Length=8.488088738139021, Species=1\n",
      "Beetle 60: Length=7.111261060374078, Species=1\n",
      "Beetle 61: Length=5.151925122098436, Species=0\n",
      "Beetle 62: Length=7.213280413397269, Species=1\n",
      "Beetle 63: Length=2.9932707792277857, Species=0\n",
      "Beetle 64: Length=7.285843944059896, Species=1\n",
      "Beetle 65: Length=7.580051306952323, Species=1\n",
      "Beetle 66: Length=4.468041019101664, Species=0\n",
      "Beetle 67: Length=6.152278163996357, Species=1\n",
      "Beetle 68: Length=5.429892596198854, Species=0\n",
      "Beetle 69: Length=8.231978546444308, Species=1\n",
      "Beetle 70: Length=7.081208418383025, Species=1\n",
      "Beetle 71: Length=5.452363721030802, Species=0\n",
      "Beetle 72: Length=3.2588023838924247, Species=0\n",
      "Beetle 73: Length=5.65800024840018, Species=0\n",
      "Beetle 74: Length=6.335035357391372, Species=0\n",
      "Beetle 75: Length=8.156514233235972, Species=1\n",
      "Beetle 76: Length=6.288413189830239, Species=1\n",
      "Beetle 77: Length=7.45287022933451, Species=1\n",
      "Beetle 78: Length=6.017108062034815, Species=0\n",
      "Beetle 79: Length=5.110445855176903, Species=0\n",
      "Beetle 80: Length=6.883370574808548, Species=1\n",
      "Beetle 81: Length=4.017862241885167, Species=0\n",
      "Beetle 82: Length=4.787202060934627, Species=0\n",
      "Beetle 83: Length=4.664742430898786, Species=0\n",
      "Beetle 84: Length=4.094063049753318, Species=0\n",
      "Beetle 85: Length=7.273391806566423, Species=1\n",
      "Beetle 86: Length=3.795648174996441, Species=0\n",
      "Beetle 87: Length=8.036886598159665, Species=1\n",
      "Beetle 88: Length=7.6233144546835, Species=1\n",
      "Beetle 89: Length=5.749727949685872, Species=0\n",
      "Beetle 90: Length=4.5694229130339, Species=0\n",
      "Beetle 91: Length=5.689811476578462, Species=0\n",
      "Beetle 92: Length=6.326076891755808, Species=0\n",
      "Beetle 93: Length=6.839951763203626, Species=1\n",
      "Beetle 94: Length=7.956001531497723, Species=1\n",
      "Beetle 95: Length=5.364943729286969, Species=1\n",
      "Beetle 96: Length=5.1042787168640205, Species=0\n",
      "Beetle 97: Length=7.470015038195433, Species=1\n",
      "Beetle 98: Length=5.810476649029086, Species=0\n",
      "Beetle 99: Length=5.047051971285567, Species=0\n",
      "Beetle 100: Length=5.192943789850022, Species=0\n"
     ]
    }
   ],
   "source": [
    "n_gen = 100\n",
    "\n",
    "# You will need to change this:\n",
    "x_gen = np.ones(n_gen, dtype=float)\n",
    "y_gen = np.ones(n_gen, dtype=int)\n",
    "\n",
    "# YOUR CODE HERE\n",
    "for i in range(n_gen):\n",
    "    y_gen[i] = np.random.choice([0, 1], p=w)\n",
    "    j = y_gen[i]\n",
    "    x_gen[i] = np.random.normal(loc=m[j], scale=s[j])\n",
    "for i in range(n_gen):\n",
    "    print(f\"Beetle {i+1}: Length={x_gen[i]}, Species={y_gen[i]}\")"
   ]
  },
  {
   "cell_type": "code",
   "execution_count": 14,
   "metadata": {
    "deletable": false,
    "editable": false,
    "nbgrader": {
     "cell_type": "code",
     "checksum": "d8e33016cfad0140441e8545a96c7e98",
     "grade": false,
     "grade_id": "cell-5f56d07c59238ac9",
     "locked": true,
     "schema_version": 3,
     "solution": false,
     "task": false
    }
   },
   "outputs": [
    {
     "data": {
      "image/png": "[encoded data removed]",
      "text/plain": [
       "<Figure size 640x480 with 1 Axes>"
      ]
     },
     "metadata": {},
     "output_type": "display_data"
    }
   ],
   "source": [
    "# Let's have a look ...\n",
    "fig = plt.figure()\n",
    "xx = np.linspace(0, 10, num=100)\n",
    "\n",
    "plt.plot(xx, p(xx, m[0], s[0]), 'r-', label=\"$p(x \\mid y = 0$\")\n",
    "plt.plot(xx, p(xx, m[1], s[1]), 'b-', label=\"$p(x \\mid y = 1)$\")\n",
    "plt.plot(xx, w[0] * p(xx, m[0], s[0]) + w[1] * p(xx, m[1], s[1]), 'm:', label=\"$p(x,y)$\")\n",
    "\n",
    "\n",
    "plt.legend()\n",
    "plt.xlabel(\"$x$: beetle length (cm)\")\n",
    "plt.ylabel(\"density\")\n",
    "plt.scatter(x_gen, np.zeros_like(x_gen), c=y_gen, label=\"beetles\")\n",
    "plt.show()"
   ]
  },
  {
   "cell_type": "code",
   "execution_count": null,
   "metadata": {
    "deletable": false,
    "editable": false,
    "nbgrader": {
     "cell_type": "code",
     "checksum": "dbfbc35a8258cbcf29c6c70bb69eb9f6",
     "grade": true,
     "grade_id": "cell-7e2a4691bc529ea3",
     "locked": true,
     "points": 4,
     "schema_version": 3,
     "solution": false,
     "task": false
    }
   },
   "outputs": [],
   "source": []
  },
  {
   "cell_type": "markdown",
   "metadata": {
    "deletable": false,
    "editable": false,
    "nbgrader": {
     "cell_type": "markdown",
     "checksum": "87894eaa1e97d5c936f8317dec455312",
     "grade": false,
     "grade_id": "cell-186cf27954c87121",
     "locked": true,
     "schema_version": 3,
     "solution": false,
     "task": false
    }
   },
   "source": [
    "### Latent Variables\n",
    "\n",
    "But suppose that species labels `y` *are not available* in your training data; you only *suspect* they might be comprised of two different species. Gaussian Mixture Models and Expectation Maximization would be an excellent combination here to investigate this question further. \n",
    "\n",
    "**Task:** Think about it, keep in mind the lecture material on this! \n",
    "\n",
    "**Hint:** It will end up being like a 'soft' and probabilistic version of k-means clustering."
   ]
  },
  {
   "cell_type": "code",
   "execution_count": 15,
   "metadata": {
    "deletable": false,
    "nbgrader": {
     "cell_type": "code",
     "checksum": "75e1433d239e0965e4c38bc2df2b75a1",
     "grade": true,
     "grade_id": "cell-5b0610434ee55c3a",
     "locked": false,
     "points": 0,
     "schema_version": 3,
     "solution": true,
     "task": false
    }
   },
   "outputs": [
    {
     "name": "stdout",
     "output_type": "stream",
     "text": [
      "Estimated Parameters:\n",
      "Weight of Component 0: 0.6196860662362231\n",
      "Mean of Component 0: 7.100968125172517\n",
      "Standard Deviation of Component 0: 1.1000725524957577\n",
      "Weight of Component 1: 0.3803139337637769\n",
      "Mean of Component 1: 4.54526863882071\n",
      "Standard Deviation of Component 1: 0.27401004867445833\n",
      "\n",
      "Classified Labels:\n",
      "[1 0 1 1 1 0 0 0 0 0]\n"
     ]
    }
   ],
   "source": [
    "# YOUR CODE HERE\n",
    "from sklearn.mixture import GaussianMixture\n",
    "gmm = GaussianMixture(n_components=2)\n",
    "gmm.fit(x.reshape(-1, 1))\n",
    "weights = gmm.weights_\n",
    "means = gmm.means_.flatten()\n",
    "stds = np.sqrt(gmm.covariances_).flatten()\n",
    "labels = gmm.predict(x.reshape(-1, 1))\n",
    "print(\"Estimated Parameters:\")\n",
    "print(\"Weight of Component 0:\", weights[0])\n",
    "print(\"Mean of Component 0:\", means[0])\n",
    "print(\"Standard Deviation of Component 0:\", stds[0])\n",
    "print(\"Weight of Component 1:\", weights[1])\n",
    "print(\"Mean of Component 1:\", means[1])\n",
    "print(\"Standard Deviation of Component 1:\", stds[1])\n",
    "\n",
    "print(\"\\nClassified Labels:\")\n",
    "print(labels)"
   ]
  },
  {
   "cell_type": "markdown",
   "metadata": {
    "deletable": false,
    "editable": false,
    "nbgrader": {
     "cell_type": "markdown",
     "checksum": "47a552ff6d6228d61902341568202f24",
     "grade": false,
     "grade_id": "cell-77d250d3d1326d0e",
     "locked": true,
     "schema_version": 3,
     "solution": false,
     "task": false
    }
   },
   "source": [
    "## Part 2: genetic algorithms (5 pts)\n",
    "\n",
    "### 1. Problem setting\n",
    "\n",
    "You are a big [Corporate and Investment Bank](https://www.investopedia.com/articles/professionals/100215/career-advice-investment-banking-vscorporate-finance.asp) which has many \"companies\" (their securities: equities, loans, bonds, ...) in its [portfolio](https://www.investopedia.com/terms/p/portfolio.asp).\n",
    "\n",
    "To satisfy your reglementary obligations, you have to estimate each company's [probability of default](https://en.wikipedia.org/wiki/Probability_of_default): you have probably heard of the \"AAA\" rating of France (which is treated as a big company) by so-called *rating agencies* (meaning they disclose their ratings), recently downgraded to \"AA\".\n",
    "\n",
    "You can view the default of a company as a binary variable $Y$. We're measuring $p(y | x)$ where $x$ are the company's characteristics (turnover, EBITDA, ...).\n",
    "\n",
    "These *grades* (A, B, C, ...) are then used to assess the *global* quality of a bank's portfolio in many ways:\n",
    "1. Is it at the brink of insolvency?\n",
    "(Read: Lehman Brothers)\n",
    "2. How much should the bank provision for this year's **expected** losses?\n",
    "(How they do so is out of the scope of the present lab, but it's more or less a big SUMPROD: multiply the probability of default by the outstanding - how much the company owes you - and the \"loss given default\" - how much you expect to lose if a default happens, e.g. what is left when a bailiff sold the company's furniture).\n",
    "3. How much would be lost if their is an economic downturn (read: a subprime crisis)?\n",
    "This is the use case we're interested in today.\n",
    "\n",
    "In a [stress test](https://en.wikipedia.org/wiki/Stress_test_(financial)), the bank tries to link the quality of its portfolio to macro-economic variables. This is usually done through downgrading the transition matrix.\n",
    "\n",
    "The transition matrix represents the fraction of companies transitioning from one grade to another from this year to next year.\n",
    "\n",
    "Take the example of grade \"A\": we want to estimate how many companies with this grade will fall into grade \"B\" next year, grade \"C\", etc."
   ]
  },
  {
   "cell_type": "code",
   "execution_count": 16,
   "metadata": {
    "deletable": false,
    "editable": false,
    "nbgrader": {
     "cell_type": "code",
     "checksum": "0dd5ea56d48a0d9b34d23612ac72f21f",
     "grade": false,
     "grade_id": "cell-141d6dc51b31b71c",
     "locked": true,
     "schema_version": 3,
     "solution": false,
     "task": false
    }
   },
   "outputs": [],
   "source": [
    "grades =[\"A+\", \"A\", \"B+\", \"B\", \"C+\", \"C\", \"C-\", \"D+\", \"D\", \"D-\", \"E+\", \"E\", \"E-\"]"
   ]
  },
  {
   "cell_type": "code",
   "execution_count": 17,
   "metadata": {
    "deletable": false,
    "editable": false,
    "nbgrader": {
     "cell_type": "code",
     "checksum": "4c75f94bdd84b53c7d78e6f8c91540ec",
     "grade": false,
     "grade_id": "cell-9912def9cceedf53",
     "locked": true,
     "schema_version": 3,
     "solution": false,
     "task": false
    }
   },
   "outputs": [],
   "source": [
    "initial_per_grade = {'A+': 1000,\n",
    "                     'A':  2000,\n",
    "                     'B+': 3000,\n",
    "                     'B':  4000,\n",
    "                     'C+': 4500,\n",
    "                     'C':  5000,\n",
    "                     'C-': 4500,\n",
    "                     'D+': 4000,\n",
    "                     'D':  3000,\n",
    "                     'D-': 2000,\n",
    "                     'E+': 1000,\n",
    "                     'E':  500,\n",
    "                     'E-': 250}"
   ]
  },
  {
   "cell_type": "markdown",
   "metadata": {
    "deletable": false,
    "editable": false,
    "nbgrader": {
     "cell_type": "markdown",
     "checksum": "78b5e495b2b1c3d81cc190d11ee74665",
     "grade": false,
     "grade_id": "cell-2cf9ec7fe148459d",
     "locked": true,
     "schema_version": 3,
     "solution": false,
     "task": false
    }
   },
   "source": [
    "Let's assume there is no new counterparts, nor any counterpart that gets out by defaulting and / or not having any outstanding. We generate a true transition matrix (which we'll aim at recovering later on!):"
   ]
  },
  {
   "cell_type": "code",
   "execution_count": 18,
   "metadata": {
    "deletable": false,
    "editable": false,
    "nbgrader": {
     "cell_type": "code",
     "checksum": "82d4c33bf0beee4a63f50f73cc430699",
     "grade": false,
     "grade_id": "cell-0ace428a5cb6bab1",
     "locked": true,
     "schema_version": 3,
     "solution": false,
     "task": false
    }
   },
   "outputs": [],
   "source": [
    "true_transition_matrix = pd.DataFrame(\n",
    "    data=np.random.rand(len(initial_per_grade), len(initial_per_grade)),\n",
    "    index=initial_per_grade.keys(),\n",
    "    columns=initial_per_grade.keys())\n",
    "\n",
    "true_transition_matrix = (true_transition_matrix + \n",
    "                          4 * np.eye(true_transition_matrix.shape[0]))\n",
    "true_transition_matrix = true_transition_matrix.div(true_transition_matrix.sum(axis=1), axis=0)\n",
    "\n",
    "true_transition_matrix.index.name = \"from\"\n",
    "true_transition_matrix.columns.name = \"to\""
   ]
  },
  {
   "cell_type": "markdown",
   "metadata": {
    "deletable": false,
    "editable": false,
    "nbgrader": {
     "cell_type": "markdown",
     "checksum": "7d054984764535a770d29f68406fedd7",
     "grade": false,
     "grade_id": "cell-f83a03c13e0a084b",
     "locked": true,
     "schema_version": 3,
     "solution": false,
     "task": false
    }
   },
   "source": [
    "The rows represent the grade \"from\" which counterparts transition, the columns represent the grade \"to\" which they transition, *e.g.* in cell $(i, j)$ is the proportion of counterparts in grade $i$ in year Y that have grade $j$ in year Y+1."
   ]
  },
  {
   "cell_type": "code",
   "execution_count": 19,
   "metadata": {
    "deletable": false,
    "editable": false,
    "nbgrader": {
     "cell_type": "code",
     "checksum": "3b593881d77c1f2f2deb706440c309fc",
     "grade": false,
     "grade_id": "cell-855d0d755776c681",
     "locked": true,
     "schema_version": 3,
     "solution": false,
     "task": false
    }
   },
   "outputs": [
    {
     "data": {
      "text/html": [
       "<div>\n",
       "<style scoped>\n",
       "    .dataframe tbody tr th:only-of-type {\n",
       "        vertical-align: middle;\n",
       "    }\n",
       "\n",
       "    .dataframe tbody tr th {\n",
       "        vertical-align: top;\n",
       "    }\n",
       "\n",
       "    .dataframe thead th {\n",
       "        text-align: right;\n",
       "    }\n",
       "</style>\n",
       "<table border=\"1\" class=\"dataframe\">\n",
       "  <thead>\n",
       "    <tr style=\"text-align: right;\">\n",
       "      <th>to</th>\n",
       "      <th>A+</th>\n",
       "      <th>A</th>\n",
       "      <th>B+</th>\n",
       "      <th>B</th>\n",
       "      <th>C+</th>\n",
       "      <th>C</th>\n",
       "      <th>C-</th>\n",
       "      <th>D+</th>\n",
       "      <th>D</th>\n",
       "      <th>D-</th>\n",
       "      <th>E+</th>\n",
       "      <th>E</th>\n",
       "      <th>E-</th>\n",
       "    </tr>\n",
       "    <tr>\n",
       "      <th>from</th>\n",
       "      <th></th>\n",
       "      <th></th>\n",
       "      <th></th>\n",
       "      <th></th>\n",
       "      <th></th>\n",
       "      <th></th>\n",
       "      <th></th>\n",
       "      <th></th>\n",
       "      <th></th>\n",
       "      <th></th>\n",
       "      <th></th>\n",
       "      <th></th>\n",
       "      <th></th>\n",
       "    </tr>\n",
       "  </thead>\n",
       "  <tbody>\n",
       "    <tr>\n",
       "      <th>A+</th>\n",
       "      <td>0.431505</td>\n",
       "      <td>0.025281</td>\n",
       "      <td>0.008601</td>\n",
       "      <td>0.064045</td>\n",
       "      <td>0.022569</td>\n",
       "      <td>0.067609</td>\n",
       "      <td>0.026199</td>\n",
       "      <td>0.008257</td>\n",
       "      <td>0.037254</td>\n",
       "      <td>0.082408</td>\n",
       "      <td>0.082441</td>\n",
       "      <td>0.087542</td>\n",
       "      <td>0.056289</td>\n",
       "    </tr>\n",
       "    <tr>\n",
       "      <th>A</th>\n",
       "      <td>0.083375</td>\n",
       "      <td>0.437274</td>\n",
       "      <td>0.101213</td>\n",
       "      <td>0.011674</td>\n",
       "      <td>0.040398</td>\n",
       "      <td>0.006298</td>\n",
       "      <td>0.006333</td>\n",
       "      <td>0.080271</td>\n",
       "      <td>0.088026</td>\n",
       "      <td>0.005650</td>\n",
       "      <td>0.061191</td>\n",
       "      <td>0.002458</td>\n",
       "      <td>0.075841</td>\n",
       "    </tr>\n",
       "    <tr>\n",
       "      <th>B+</th>\n",
       "      <td>0.069761</td>\n",
       "      <td>0.011409</td>\n",
       "      <td>0.459303</td>\n",
       "      <td>0.017260</td>\n",
       "      <td>0.031492</td>\n",
       "      <td>0.040859</td>\n",
       "      <td>0.071903</td>\n",
       "      <td>0.050510</td>\n",
       "      <td>0.092046</td>\n",
       "      <td>0.016919</td>\n",
       "      <td>0.027902</td>\n",
       "      <td>0.073326</td>\n",
       "      <td>0.037309</td>\n",
       "    </tr>\n",
       "    <tr>\n",
       "      <th>B</th>\n",
       "      <td>0.008857</td>\n",
       "      <td>0.047081</td>\n",
       "      <td>0.000848</td>\n",
       "      <td>0.380861</td>\n",
       "      <td>0.060761</td>\n",
       "      <td>0.066109</td>\n",
       "      <td>0.041196</td>\n",
       "      <td>0.072450</td>\n",
       "      <td>0.053839</td>\n",
       "      <td>0.063375</td>\n",
       "      <td>0.070102</td>\n",
       "      <td>0.066985</td>\n",
       "      <td>0.067535</td>\n",
       "    </tr>\n",
       "    <tr>\n",
       "      <th>C+</th>\n",
       "      <td>0.067947</td>\n",
       "      <td>0.059470</td>\n",
       "      <td>0.015637</td>\n",
       "      <td>0.008388</td>\n",
       "      <td>0.394646</td>\n",
       "      <td>0.073591</td>\n",
       "      <td>0.040917</td>\n",
       "      <td>0.063745</td>\n",
       "      <td>0.017745</td>\n",
       "      <td>0.070968</td>\n",
       "      <td>0.066819</td>\n",
       "      <td>0.035744</td>\n",
       "      <td>0.084383</td>\n",
       "    </tr>\n",
       "    <tr>\n",
       "      <th>C</th>\n",
       "      <td>0.065098</td>\n",
       "      <td>0.025632</td>\n",
       "      <td>0.055814</td>\n",
       "      <td>0.057721</td>\n",
       "      <td>0.062166</td>\n",
       "      <td>0.403528</td>\n",
       "      <td>0.005446</td>\n",
       "      <td>0.025846</td>\n",
       "      <td>0.057989</td>\n",
       "      <td>0.046905</td>\n",
       "      <td>0.077411</td>\n",
       "      <td>0.037541</td>\n",
       "      <td>0.078903</td>\n",
       "    </tr>\n",
       "    <tr>\n",
       "      <th>C-</th>\n",
       "      <td>0.074667</td>\n",
       "      <td>0.005159</td>\n",
       "      <td>0.001875</td>\n",
       "      <td>0.003102</td>\n",
       "      <td>0.079411</td>\n",
       "      <td>0.011682</td>\n",
       "      <td>0.502013</td>\n",
       "      <td>0.020457</td>\n",
       "      <td>0.088100</td>\n",
       "      <td>0.029601</td>\n",
       "      <td>0.086260</td>\n",
       "      <td>0.006831</td>\n",
       "      <td>0.090842</td>\n",
       "    </tr>\n",
       "    <tr>\n",
       "      <th>D+</th>\n",
       "      <td>0.077718</td>\n",
       "      <td>0.021056</td>\n",
       "      <td>0.013645</td>\n",
       "      <td>0.074923</td>\n",
       "      <td>0.034029</td>\n",
       "      <td>0.051294</td>\n",
       "      <td>0.053909</td>\n",
       "      <td>0.388554</td>\n",
       "      <td>0.080912</td>\n",
       "      <td>0.012229</td>\n",
       "      <td>0.062606</td>\n",
       "      <td>0.042088</td>\n",
       "      <td>0.087037</td>\n",
       "    </tr>\n",
       "    <tr>\n",
       "      <th>D</th>\n",
       "      <td>0.058352</td>\n",
       "      <td>0.061667</td>\n",
       "      <td>0.053656</td>\n",
       "      <td>0.057928</td>\n",
       "      <td>0.056159</td>\n",
       "      <td>0.042736</td>\n",
       "      <td>0.012334</td>\n",
       "      <td>0.073254</td>\n",
       "      <td>0.409013</td>\n",
       "      <td>0.003459</td>\n",
       "      <td>0.052565</td>\n",
       "      <td>0.073957</td>\n",
       "      <td>0.044919</td>\n",
       "    </tr>\n",
       "    <tr>\n",
       "      <th>D-</th>\n",
       "      <td>0.020618</td>\n",
       "      <td>0.005974</td>\n",
       "      <td>0.064043</td>\n",
       "      <td>0.075685</td>\n",
       "      <td>0.072624</td>\n",
       "      <td>0.029626</td>\n",
       "      <td>0.067143</td>\n",
       "      <td>0.042657</td>\n",
       "      <td>0.054114</td>\n",
       "      <td>0.370754</td>\n",
       "      <td>0.080329</td>\n",
       "      <td>0.037011</td>\n",
       "      <td>0.079423</td>\n",
       "    </tr>\n",
       "    <tr>\n",
       "      <th>E+</th>\n",
       "      <td>0.085090</td>\n",
       "      <td>0.046309</td>\n",
       "      <td>0.048412</td>\n",
       "      <td>0.067720</td>\n",
       "      <td>0.064150</td>\n",
       "      <td>0.072986</td>\n",
       "      <td>0.057471</td>\n",
       "      <td>0.068043</td>\n",
       "      <td>0.039648</td>\n",
       "      <td>0.018872</td>\n",
       "      <td>0.406862</td>\n",
       "      <td>0.003954</td>\n",
       "      <td>0.020484</td>\n",
       "    </tr>\n",
       "    <tr>\n",
       "      <th>E</th>\n",
       "      <td>0.083894</td>\n",
       "      <td>0.015835</td>\n",
       "      <td>0.020664</td>\n",
       "      <td>0.070627</td>\n",
       "      <td>0.038506</td>\n",
       "      <td>0.039827</td>\n",
       "      <td>0.053583</td>\n",
       "      <td>0.042599</td>\n",
       "      <td>0.042664</td>\n",
       "      <td>0.031526</td>\n",
       "      <td>0.036164</td>\n",
       "      <td>0.454216</td>\n",
       "      <td>0.069897</td>\n",
       "    </tr>\n",
       "    <tr>\n",
       "      <th>E-</th>\n",
       "      <td>0.034949</td>\n",
       "      <td>0.006229</td>\n",
       "      <td>0.066623</td>\n",
       "      <td>0.060936</td>\n",
       "      <td>0.047642</td>\n",
       "      <td>0.050636</td>\n",
       "      <td>0.061115</td>\n",
       "      <td>0.066205</td>\n",
       "      <td>0.025167</td>\n",
       "      <td>0.053288</td>\n",
       "      <td>0.077221</td>\n",
       "      <td>0.059910</td>\n",
       "      <td>0.390082</td>\n",
       "    </tr>\n",
       "  </tbody>\n",
       "</table>\n",
       "</div>"
      ],
      "text/plain": [
       "to          A+         A        B+         B        C+         C        C-  \\\n",
       "from                                                                         \n",
       "A+    0.431505  0.025281  0.008601  0.064045  0.022569  0.067609  0.026199   \n",
       "A     0.083375  0.437274  0.101213  0.011674  0.040398  0.006298  0.006333   \n",
       "B+    0.069761  0.011409  0.459303  0.017260  0.031492  0.040859  0.071903   \n",
       "B     0.008857  0.047081  0.000848  0.380861  0.060761  0.066109  0.041196   \n",
       "C+    0.067947  0.059470  0.015637  0.008388  0.394646  0.073591  0.040917   \n",
       "C     0.065098  0.025632  0.055814  0.057721  0.062166  0.403528  0.005446   \n",
       "C-    0.074667  0.005159  0.001875  0.003102  0.079411  0.011682  0.502013   \n",
       "D+    0.077718  0.021056  0.013645  0.074923  0.034029  0.051294  0.053909   \n",
       "D     0.058352  0.061667  0.053656  0.057928  0.056159  0.042736  0.012334   \n",
       "D-    0.020618  0.005974  0.064043  0.075685  0.072624  0.029626  0.067143   \n",
       "E+    0.085090  0.046309  0.048412  0.067720  0.064150  0.072986  0.057471   \n",
       "E     0.083894  0.015835  0.020664  0.070627  0.038506  0.039827  0.053583   \n",
       "E-    0.034949  0.006229  0.066623  0.060936  0.047642  0.050636  0.061115   \n",
       "\n",
       "to          D+         D        D-        E+         E        E-  \n",
       "from                                                              \n",
       "A+    0.008257  0.037254  0.082408  0.082441  0.087542  0.056289  \n",
       "A     0.080271  0.088026  0.005650  0.061191  0.002458  0.075841  \n",
       "B+    0.050510  0.092046  0.016919  0.027902  0.073326  0.037309  \n",
       "B     0.072450  0.053839  0.063375  0.070102  0.066985  0.067535  \n",
       "C+    0.063745  0.017745  0.070968  0.066819  0.035744  0.084383  \n",
       "C     0.025846  0.057989  0.046905  0.077411  0.037541  0.078903  \n",
       "C-    0.020457  0.088100  0.029601  0.086260  0.006831  0.090842  \n",
       "D+    0.388554  0.080912  0.012229  0.062606  0.042088  0.087037  \n",
       "D     0.073254  0.409013  0.003459  0.052565  0.073957  0.044919  \n",
       "D-    0.042657  0.054114  0.370754  0.080329  0.037011  0.079423  \n",
       "E+    0.068043  0.039648  0.018872  0.406862  0.003954  0.020484  \n",
       "E     0.042599  0.042664  0.031526  0.036164  0.454216  0.069897  \n",
       "E-    0.066205  0.025167  0.053288  0.077221  0.059910  0.390082  "
      ]
     },
     "execution_count": 19,
     "metadata": {},
     "output_type": "execute_result"
    }
   ],
   "source": [
    "true_transition_matrix"
   ]
  },
  {
   "cell_type": "markdown",
   "metadata": {
    "deletable": false,
    "editable": false,
    "nbgrader": {
     "cell_type": "markdown",
     "checksum": "e040db317098b375e1a98260f8c223a6",
     "grade": false,
     "grade_id": "cell-5bbbe6fcb074f64b",
     "locked": true,
     "schema_version": 3,
     "solution": false,
     "task": false
    }
   },
   "source": [
    "We will use this matrix to generate data for the subsequent 10 years. Here is the initial distribution rearranged as a row dataframe:"
   ]
  },
  {
   "cell_type": "code",
   "execution_count": 20,
   "metadata": {
    "deletable": false,
    "editable": false,
    "nbgrader": {
     "cell_type": "code",
     "checksum": "76dcfda44103e333d5bda36004d2fa64",
     "grade": false,
     "grade_id": "cell-771512c7c531548e",
     "locked": true,
     "schema_version": 3,
     "solution": false,
     "task": false
    }
   },
   "outputs": [],
   "source": [
    "initial_per_grade = pd.DataFrame(\n",
    "    data=[initial_per_grade.values()],\n",
    "    columns=initial_per_grade.keys(),\n",
    "    index=[2000])"
   ]
  },
  {
   "cell_type": "code",
   "execution_count": 21,
   "metadata": {
    "deletable": false,
    "editable": false,
    "nbgrader": {
     "cell_type": "code",
     "checksum": "7ea29ce350f161121db438abd7aaf7e7",
     "grade": false,
     "grade_id": "cell-cc25326b79f7f470",
     "locked": true,
     "schema_version": 3,
     "solution": false,
     "task": false
    }
   },
   "outputs": [
    {
     "data": {
      "text/html": [
       "<div>\n",
       "<style scoped>\n",
       "    .dataframe tbody tr th:only-of-type {\n",
       "        vertical-align: middle;\n",
       "    }\n",
       "\n",
       "    .dataframe tbody tr th {\n",
       "        vertical-align: top;\n",
       "    }\n",
       "\n",
       "    .dataframe thead th {\n",
       "        text-align: right;\n",
       "    }\n",
       "</style>\n",
       "<table border=\"1\" class=\"dataframe\">\n",
       "  <thead>\n",
       "    <tr style=\"text-align: right;\">\n",
       "      <th></th>\n",
       "      <th>A+</th>\n",
       "      <th>A</th>\n",
       "      <th>B+</th>\n",
       "      <th>B</th>\n",
       "      <th>C+</th>\n",
       "      <th>C</th>\n",
       "      <th>C-</th>\n",
       "      <th>D+</th>\n",
       "      <th>D</th>\n",
       "      <th>D-</th>\n",
       "      <th>E+</th>\n",
       "      <th>E</th>\n",
       "      <th>E-</th>\n",
       "    </tr>\n",
       "  </thead>\n",
       "  <tbody>\n",
       "    <tr>\n",
       "      <th>2000</th>\n",
       "      <td>1000</td>\n",
       "      <td>2000</td>\n",
       "      <td>3000</td>\n",
       "      <td>4000</td>\n",
       "      <td>4500</td>\n",
       "      <td>5000</td>\n",
       "      <td>4500</td>\n",
       "      <td>4000</td>\n",
       "      <td>3000</td>\n",
       "      <td>2000</td>\n",
       "      <td>1000</td>\n",
       "      <td>500</td>\n",
       "      <td>250</td>\n",
       "    </tr>\n",
       "  </tbody>\n",
       "</table>\n",
       "</div>"
      ],
      "text/plain": [
       "        A+     A    B+     B    C+     C    C-    D+     D    D-    E+    E  \\\n",
       "2000  1000  2000  3000  4000  4500  5000  4500  4000  3000  2000  1000  500   \n",
       "\n",
       "       E-  \n",
       "2000  250  "
      ]
     },
     "execution_count": 21,
     "metadata": {},
     "output_type": "execute_result"
    }
   ],
   "source": [
    "initial_per_grade"
   ]
  },
  {
   "cell_type": "markdown",
   "metadata": {
    "deletable": false,
    "editable": false,
    "nbgrader": {
     "cell_type": "markdown",
     "checksum": "09603487014ab2029371f805ce2681db",
     "grade": false,
     "grade_id": "cell-c7bfe02d8bd35f41",
     "locked": true,
     "schema_version": 3,
     "solution": false,
     "task": false
    }
   },
   "source": [
    "Generating new years simply means multiplying the year before by the transition matrix:"
   ]
  },
  {
   "cell_type": "code",
   "execution_count": 22,
   "metadata": {
    "deletable": false,
    "editable": false,
    "nbgrader": {
     "cell_type": "code",
     "checksum": "62afa3fed6d69607505a20ec10d6e1b9",
     "grade": false,
     "grade_id": "cell-ac4e3d7d04197d3c",
     "locked": true,
     "schema_version": 3,
     "solution": false,
     "task": false
    }
   },
   "outputs": [],
   "source": [
    "df_data = [initial_per_grade]\n",
    "for year in range(2001, 2011):  # we generate 10 years of new data\n",
    "    df_data.append(pd.DataFrame(\n",
    "        data=(df_data[-1].values @ true_transition_matrix.values).astype(int),\n",
    "        columns=initial_per_grade.keys(),\n",
    "        index=[year]))\n",
    "\n",
    "df_data = pd.concat(df_data)\n",
    "df_data.index.name = \"year\"\n",
    "df_data.columns.name = \"grade\""
   ]
  },
  {
   "cell_type": "code",
   "execution_count": 23,
   "metadata": {
    "deletable": false,
    "editable": false,
    "nbgrader": {
     "cell_type": "code",
     "checksum": "f0b5ed79fb8ed7b67aecde3b41ec5d19",
     "grade": false,
     "grade_id": "cell-6fca5307e8f23b8b",
     "locked": true,
     "schema_version": 3,
     "solution": false,
     "task": false
    }
   },
   "outputs": [
    {
     "data": {
      "text/html": [
       "<div>\n",
       "<style scoped>\n",
       "    .dataframe tbody tr th:only-of-type {\n",
       "        vertical-align: middle;\n",
       "    }\n",
       "\n",
       "    .dataframe tbody tr th {\n",
       "        vertical-align: top;\n",
       "    }\n",
       "\n",
       "    .dataframe thead th {\n",
       "        text-align: right;\n",
       "    }\n",
       "</style>\n",
       "<table border=\"1\" class=\"dataframe\">\n",
       "  <thead>\n",
       "    <tr style=\"text-align: right;\">\n",
       "      <th>grade</th>\n",
       "      <th>A+</th>\n",
       "      <th>A</th>\n",
       "      <th>B+</th>\n",
       "      <th>B</th>\n",
       "      <th>C+</th>\n",
       "      <th>C</th>\n",
       "      <th>C-</th>\n",
       "      <th>D+</th>\n",
       "      <th>D</th>\n",
       "      <th>D-</th>\n",
       "      <th>E+</th>\n",
       "      <th>E</th>\n",
       "      <th>E-</th>\n",
       "    </tr>\n",
       "    <tr>\n",
       "      <th>year</th>\n",
       "      <th></th>\n",
       "      <th></th>\n",
       "      <th></th>\n",
       "      <th></th>\n",
       "      <th></th>\n",
       "      <th></th>\n",
       "      <th></th>\n",
       "      <th></th>\n",
       "      <th></th>\n",
       "      <th></th>\n",
       "      <th></th>\n",
       "      <th></th>\n",
       "      <th></th>\n",
       "    </tr>\n",
       "  </thead>\n",
       "  <tbody>\n",
       "    <tr>\n",
       "      <th>2000</th>\n",
       "      <td>1000</td>\n",
       "      <td>2000</td>\n",
       "      <td>3000</td>\n",
       "      <td>4000</td>\n",
       "      <td>4500</td>\n",
       "      <td>5000</td>\n",
       "      <td>4500</td>\n",
       "      <td>4000</td>\n",
       "      <td>3000</td>\n",
       "      <td>2000</td>\n",
       "      <td>1000</td>\n",
       "      <td>500</td>\n",
       "      <td>250</td>\n",
       "    </tr>\n",
       "    <tr>\n",
       "      <th>2001</th>\n",
       "      <td>2473</td>\n",
       "      <td>1878</td>\n",
       "      <td>2369</td>\n",
       "      <td>2746</td>\n",
       "      <td>3430</td>\n",
       "      <td>3366</td>\n",
       "      <td>3376</td>\n",
       "      <td>3083</td>\n",
       "      <td>3197</td>\n",
       "      <td>1933</td>\n",
       "      <td>2657</td>\n",
       "      <td>1669</td>\n",
       "      <td>2567</td>\n",
       "    </tr>\n",
       "    <tr>\n",
       "      <th>2002</th>\n",
       "      <td>3039</td>\n",
       "      <td>1786</td>\n",
       "      <td>2221</td>\n",
       "      <td>2517</td>\n",
       "      <td>2985</td>\n",
       "      <td>2849</td>\n",
       "      <td>2948</td>\n",
       "      <td>2800</td>\n",
       "      <td>3079</td>\n",
       "      <td>1934</td>\n",
       "      <td>3214</td>\n",
       "      <td>2210</td>\n",
       "      <td>3155</td>\n",
       "    </tr>\n",
       "    <tr>\n",
       "      <th>2003</th>\n",
       "      <td>3252</td>\n",
       "      <td>1731</td>\n",
       "      <td>2179</td>\n",
       "      <td>2511</td>\n",
       "      <td>2803</td>\n",
       "      <td>2692</td>\n",
       "      <td>2786</td>\n",
       "      <td>2704</td>\n",
       "      <td>2979</td>\n",
       "      <td>1950</td>\n",
       "      <td>3396</td>\n",
       "      <td>2458</td>\n",
       "      <td>3290</td>\n",
       "    </tr>\n",
       "    <tr>\n",
       "      <th>2004</th>\n",
       "      <td>3329</td>\n",
       "      <td>1701</td>\n",
       "      <td>2161</td>\n",
       "      <td>2536</td>\n",
       "      <td>2729</td>\n",
       "      <td>2647</td>\n",
       "      <td>2725</td>\n",
       "      <td>2668</td>\n",
       "      <td>2925</td>\n",
       "      <td>1964</td>\n",
       "      <td>3454</td>\n",
       "      <td>2570</td>\n",
       "      <td>3316</td>\n",
       "    </tr>\n",
       "    <tr>\n",
       "      <th>2005</th>\n",
       "      <td>3356</td>\n",
       "      <td>1685</td>\n",
       "      <td>2151</td>\n",
       "      <td>2555</td>\n",
       "      <td>2700</td>\n",
       "      <td>2634</td>\n",
       "      <td>2702</td>\n",
       "      <td>2653</td>\n",
       "      <td>2899</td>\n",
       "      <td>1973</td>\n",
       "      <td>3471</td>\n",
       "      <td>2620</td>\n",
       "      <td>3318</td>\n",
       "    </tr>\n",
       "    <tr>\n",
       "      <th>2006</th>\n",
       "      <td>3365</td>\n",
       "      <td>1677</td>\n",
       "      <td>2145</td>\n",
       "      <td>2566</td>\n",
       "      <td>2688</td>\n",
       "      <td>2631</td>\n",
       "      <td>2693</td>\n",
       "      <td>2647</td>\n",
       "      <td>2887</td>\n",
       "      <td>1978</td>\n",
       "      <td>3476</td>\n",
       "      <td>2642</td>\n",
       "      <td>3316</td>\n",
       "    </tr>\n",
       "    <tr>\n",
       "      <th>2007</th>\n",
       "      <td>3367</td>\n",
       "      <td>1673</td>\n",
       "      <td>2141</td>\n",
       "      <td>2571</td>\n",
       "      <td>2683</td>\n",
       "      <td>2630</td>\n",
       "      <td>2690</td>\n",
       "      <td>2644</td>\n",
       "      <td>2882</td>\n",
       "      <td>1980</td>\n",
       "      <td>3477</td>\n",
       "      <td>2651</td>\n",
       "      <td>3315</td>\n",
       "    </tr>\n",
       "    <tr>\n",
       "      <th>2008</th>\n",
       "      <td>3367</td>\n",
       "      <td>1671</td>\n",
       "      <td>2139</td>\n",
       "      <td>2573</td>\n",
       "      <td>2681</td>\n",
       "      <td>2630</td>\n",
       "      <td>2688</td>\n",
       "      <td>2642</td>\n",
       "      <td>2879</td>\n",
       "      <td>1981</td>\n",
       "      <td>3477</td>\n",
       "      <td>2655</td>\n",
       "      <td>3314</td>\n",
       "    </tr>\n",
       "    <tr>\n",
       "      <th>2009</th>\n",
       "      <td>3366</td>\n",
       "      <td>1670</td>\n",
       "      <td>2137</td>\n",
       "      <td>2574</td>\n",
       "      <td>2680</td>\n",
       "      <td>2630</td>\n",
       "      <td>2687</td>\n",
       "      <td>2641</td>\n",
       "      <td>2877</td>\n",
       "      <td>1982</td>\n",
       "      <td>3476</td>\n",
       "      <td>2656</td>\n",
       "      <td>3313</td>\n",
       "    </tr>\n",
       "    <tr>\n",
       "      <th>2010</th>\n",
       "      <td>3365</td>\n",
       "      <td>1670</td>\n",
       "      <td>2136</td>\n",
       "      <td>2574</td>\n",
       "      <td>2680</td>\n",
       "      <td>2629</td>\n",
       "      <td>2686</td>\n",
       "      <td>2640</td>\n",
       "      <td>2876</td>\n",
       "      <td>1982</td>\n",
       "      <td>3476</td>\n",
       "      <td>2656</td>\n",
       "      <td>3313</td>\n",
       "    </tr>\n",
       "  </tbody>\n",
       "</table>\n",
       "</div>"
      ],
      "text/plain": [
       "grade    A+     A    B+     B    C+     C    C-    D+     D    D-    E+     E  \\\n",
       "year                                                                            \n",
       "2000   1000  2000  3000  4000  4500  5000  4500  4000  3000  2000  1000   500   \n",
       "2001   2473  1878  2369  2746  3430  3366  3376  3083  3197  1933  2657  1669   \n",
       "2002   3039  1786  2221  2517  2985  2849  2948  2800  3079  1934  3214  2210   \n",
       "2003   3252  1731  2179  2511  2803  2692  2786  2704  2979  1950  3396  2458   \n",
       "2004   3329  1701  2161  2536  2729  2647  2725  2668  2925  1964  3454  2570   \n",
       "2005   3356  1685  2151  2555  2700  2634  2702  2653  2899  1973  3471  2620   \n",
       "2006   3365  1677  2145  2566  2688  2631  2693  2647  2887  1978  3476  2642   \n",
       "2007   3367  1673  2141  2571  2683  2630  2690  2644  2882  1980  3477  2651   \n",
       "2008   3367  1671  2139  2573  2681  2630  2688  2642  2879  1981  3477  2655   \n",
       "2009   3366  1670  2137  2574  2680  2630  2687  2641  2877  1982  3476  2656   \n",
       "2010   3365  1670  2136  2574  2680  2629  2686  2640  2876  1982  3476  2656   \n",
       "\n",
       "grade    E-  \n",
       "year         \n",
       "2000    250  \n",
       "2001   2567  \n",
       "2002   3155  \n",
       "2003   3290  \n",
       "2004   3316  \n",
       "2005   3318  \n",
       "2006   3316  \n",
       "2007   3315  \n",
       "2008   3314  \n",
       "2009   3313  \n",
       "2010   3313  "
      ]
     },
     "execution_count": 23,
     "metadata": {},
     "output_type": "execute_result"
    }
   ],
   "source": [
    "df_data"
   ]
  },
  {
   "cell_type": "markdown",
   "metadata": {
    "deletable": false,
    "editable": false,
    "nbgrader": {
     "cell_type": "markdown",
     "checksum": "a4eebcae53bef388e6aef1fd884d86b5",
     "grade": false,
     "grade_id": "cell-4b021b05ecf89091",
     "locked": true,
     "schema_version": 3,
     "solution": false,
     "task": false
    }
   },
   "source": [
    "Let's pivot this data so that for each year we have the number of counterparts and their proportion that year per grade:"
   ]
  },
  {
   "cell_type": "code",
   "execution_count": 24,
   "metadata": {
    "deletable": false,
    "editable": false,
    "nbgrader": {
     "cell_type": "code",
     "checksum": "d3ba4113c7b80090274fec974230d2f8",
     "grade": false,
     "grade_id": "cell-310ae2e0538d2b65",
     "locked": true,
     "schema_version": 3,
     "solution": false,
     "task": false
    }
   },
   "outputs": [],
   "source": [
    "df_data = pd.melt(df_data.reset_index(), id_vars='year', value_vars=df_data.columns.to_list())"
   ]
  },
  {
   "cell_type": "code",
   "execution_count": 25,
   "metadata": {
    "deletable": false,
    "editable": false,
    "nbgrader": {
     "cell_type": "code",
     "checksum": "44dde27be8eef444c7a7a2bd4ef4c47a",
     "grade": false,
     "grade_id": "cell-3d2ae778db470ef0",
     "locked": true,
     "schema_version": 3,
     "solution": false,
     "task": false
    }
   },
   "outputs": [
    {
     "data": {
      "text/html": [
       "<div>\n",
       "<style scoped>\n",
       "    .dataframe tbody tr th:only-of-type {\n",
       "        vertical-align: middle;\n",
       "    }\n",
       "\n",
       "    .dataframe tbody tr th {\n",
       "        vertical-align: top;\n",
       "    }\n",
       "\n",
       "    .dataframe thead th {\n",
       "        text-align: right;\n",
       "    }\n",
       "</style>\n",
       "<table border=\"1\" class=\"dataframe\">\n",
       "  <thead>\n",
       "    <tr style=\"text-align: right;\">\n",
       "      <th></th>\n",
       "      <th>year</th>\n",
       "      <th>grade</th>\n",
       "      <th>value</th>\n",
       "    </tr>\n",
       "  </thead>\n",
       "  <tbody>\n",
       "    <tr>\n",
       "      <th>0</th>\n",
       "      <td>2000</td>\n",
       "      <td>A+</td>\n",
       "      <td>1000</td>\n",
       "    </tr>\n",
       "    <tr>\n",
       "      <th>1</th>\n",
       "      <td>2001</td>\n",
       "      <td>A+</td>\n",
       "      <td>2473</td>\n",
       "    </tr>\n",
       "    <tr>\n",
       "      <th>2</th>\n",
       "      <td>2002</td>\n",
       "      <td>A+</td>\n",
       "      <td>3039</td>\n",
       "    </tr>\n",
       "    <tr>\n",
       "      <th>3</th>\n",
       "      <td>2003</td>\n",
       "      <td>A+</td>\n",
       "      <td>3252</td>\n",
       "    </tr>\n",
       "    <tr>\n",
       "      <th>4</th>\n",
       "      <td>2004</td>\n",
       "      <td>A+</td>\n",
       "      <td>3329</td>\n",
       "    </tr>\n",
       "    <tr>\n",
       "      <th>...</th>\n",
       "      <td>...</td>\n",
       "      <td>...</td>\n",
       "      <td>...</td>\n",
       "    </tr>\n",
       "    <tr>\n",
       "      <th>138</th>\n",
       "      <td>2006</td>\n",
       "      <td>E-</td>\n",
       "      <td>3316</td>\n",
       "    </tr>\n",
       "    <tr>\n",
       "      <th>139</th>\n",
       "      <td>2007</td>\n",
       "      <td>E-</td>\n",
       "      <td>3315</td>\n",
       "    </tr>\n",
       "    <tr>\n",
       "      <th>140</th>\n",
       "      <td>2008</td>\n",
       "      <td>E-</td>\n",
       "      <td>3314</td>\n",
       "    </tr>\n",
       "    <tr>\n",
       "      <th>141</th>\n",
       "      <td>2009</td>\n",
       "      <td>E-</td>\n",
       "      <td>3313</td>\n",
       "    </tr>\n",
       "    <tr>\n",
       "      <th>142</th>\n",
       "      <td>2010</td>\n",
       "      <td>E-</td>\n",
       "      <td>3313</td>\n",
       "    </tr>\n",
       "  </tbody>\n",
       "</table>\n",
       "<p>143 rows × 3 columns</p>\n",
       "</div>"
      ],
      "text/plain": [
       "     year grade  value\n",
       "0    2000    A+   1000\n",
       "1    2001    A+   2473\n",
       "2    2002    A+   3039\n",
       "3    2003    A+   3252\n",
       "4    2004    A+   3329\n",
       "..    ...   ...    ...\n",
       "138  2006    E-   3316\n",
       "139  2007    E-   3315\n",
       "140  2008    E-   3314\n",
       "141  2009    E-   3313\n",
       "142  2010    E-   3313\n",
       "\n",
       "[143 rows x 3 columns]"
      ]
     },
     "execution_count": 25,
     "metadata": {},
     "output_type": "execute_result"
    }
   ],
   "source": [
    "df_data"
   ]
  },
  {
   "cell_type": "markdown",
   "metadata": {
    "deletable": false,
    "editable": false,
    "nbgrader": {
     "cell_type": "markdown",
     "checksum": "095001cc482f200bc6510799637caea3",
     "grade": false,
     "grade_id": "cell-58840256352766a1",
     "locked": true,
     "schema_version": 3,
     "solution": false,
     "task": false
    }
   },
   "source": [
    "Let's use a random initial transition matrix:"
   ]
  },
  {
   "cell_type": "code",
   "execution_count": 26,
   "metadata": {
    "deletable": false,
    "editable": false,
    "nbgrader": {
     "cell_type": "code",
     "checksum": "3d1a3e37c018cad4750bf437c14f70f0",
     "grade": false,
     "grade_id": "cell-7ecf45d5713ab6d1",
     "locked": true,
     "schema_version": 3,
     "solution": false,
     "task": false
    }
   },
   "outputs": [],
   "source": [
    "initial_transition_matrix = np.random.rand(*true_transition_matrix.shape)\n",
    "initial_transition_matrix = pd.DataFrame(initial_transition_matrix,\n",
    "                                         index=true_transition_matrix.index.copy(),\n",
    "                                         columns=true_transition_matrix.columns.copy())\n",
    "initial_transition_matrix = initial_transition_matrix.div(initial_transition_matrix.sum(axis=1), axis=0)"
   ]
  },
  {
   "cell_type": "code",
   "execution_count": 27,
   "metadata": {
    "deletable": false,
    "editable": false,
    "nbgrader": {
     "cell_type": "code",
     "checksum": "5d34c906a5e25eeb2ce34c07366bcb02",
     "grade": false,
     "grade_id": "cell-3c2ce3e38e9ae586",
     "locked": true,
     "schema_version": 3,
     "solution": false,
     "task": false
    }
   },
   "outputs": [
    {
     "data": {
      "text/html": [
       "<div>\n",
       "<style scoped>\n",
       "    .dataframe tbody tr th:only-of-type {\n",
       "        vertical-align: middle;\n",
       "    }\n",
       "\n",
       "    .dataframe tbody tr th {\n",
       "        vertical-align: top;\n",
       "    }\n",
       "\n",
       "    .dataframe thead th {\n",
       "        text-align: right;\n",
       "    }\n",
       "</style>\n",
       "<table border=\"1\" class=\"dataframe\">\n",
       "  <thead>\n",
       "    <tr style=\"text-align: right;\">\n",
       "      <th>to</th>\n",
       "      <th>A+</th>\n",
       "      <th>A</th>\n",
       "      <th>B+</th>\n",
       "      <th>B</th>\n",
       "      <th>C+</th>\n",
       "      <th>C</th>\n",
       "      <th>C-</th>\n",
       "      <th>D+</th>\n",
       "      <th>D</th>\n",
       "      <th>D-</th>\n",
       "      <th>E+</th>\n",
       "      <th>E</th>\n",
       "      <th>E-</th>\n",
       "    </tr>\n",
       "    <tr>\n",
       "      <th>from</th>\n",
       "      <th></th>\n",
       "      <th></th>\n",
       "      <th></th>\n",
       "      <th></th>\n",
       "      <th></th>\n",
       "      <th></th>\n",
       "      <th></th>\n",
       "      <th></th>\n",
       "      <th></th>\n",
       "      <th></th>\n",
       "      <th></th>\n",
       "      <th></th>\n",
       "      <th></th>\n",
       "    </tr>\n",
       "  </thead>\n",
       "  <tbody>\n",
       "    <tr>\n",
       "      <th>A+</th>\n",
       "      <td>0.051830</td>\n",
       "      <td>0.123928</td>\n",
       "      <td>0.104774</td>\n",
       "      <td>0.036765</td>\n",
       "      <td>0.064695</td>\n",
       "      <td>0.075291</td>\n",
       "      <td>0.052686</td>\n",
       "      <td>0.133669</td>\n",
       "      <td>0.080315</td>\n",
       "      <td>0.021706</td>\n",
       "      <td>0.108796</td>\n",
       "      <td>0.100851</td>\n",
       "      <td>0.044694</td>\n",
       "    </tr>\n",
       "    <tr>\n",
       "      <th>A</th>\n",
       "      <td>0.090827</td>\n",
       "      <td>0.024301</td>\n",
       "      <td>0.167016</td>\n",
       "      <td>0.121770</td>\n",
       "      <td>0.061606</td>\n",
       "      <td>0.083636</td>\n",
       "      <td>0.127953</td>\n",
       "      <td>0.018412</td>\n",
       "      <td>0.160771</td>\n",
       "      <td>0.000629</td>\n",
       "      <td>0.045332</td>\n",
       "      <td>0.043984</td>\n",
       "      <td>0.053764</td>\n",
       "    </tr>\n",
       "    <tr>\n",
       "      <th>B+</th>\n",
       "      <td>0.063486</td>\n",
       "      <td>0.095363</td>\n",
       "      <td>0.098193</td>\n",
       "      <td>0.017491</td>\n",
       "      <td>0.120063</td>\n",
       "      <td>0.108869</td>\n",
       "      <td>0.008667</td>\n",
       "      <td>0.015400</td>\n",
       "      <td>0.107917</td>\n",
       "      <td>0.065272</td>\n",
       "      <td>0.025211</td>\n",
       "      <td>0.138680</td>\n",
       "      <td>0.135388</td>\n",
       "    </tr>\n",
       "    <tr>\n",
       "      <th>B</th>\n",
       "      <td>0.145784</td>\n",
       "      <td>0.098840</td>\n",
       "      <td>0.061870</td>\n",
       "      <td>0.022955</td>\n",
       "      <td>0.075172</td>\n",
       "      <td>0.132936</td>\n",
       "      <td>0.014165</td>\n",
       "      <td>0.052918</td>\n",
       "      <td>0.080322</td>\n",
       "      <td>0.145900</td>\n",
       "      <td>0.047840</td>\n",
       "      <td>0.007030</td>\n",
       "      <td>0.114268</td>\n",
       "    </tr>\n",
       "    <tr>\n",
       "      <th>C+</th>\n",
       "      <td>0.058166</td>\n",
       "      <td>0.039001</td>\n",
       "      <td>0.032559</td>\n",
       "      <td>0.115149</td>\n",
       "      <td>0.100890</td>\n",
       "      <td>0.093965</td>\n",
       "      <td>0.108258</td>\n",
       "      <td>0.052066</td>\n",
       "      <td>0.057805</td>\n",
       "      <td>0.098561</td>\n",
       "      <td>0.064203</td>\n",
       "      <td>0.091223</td>\n",
       "      <td>0.088155</td>\n",
       "    </tr>\n",
       "    <tr>\n",
       "      <th>C</th>\n",
       "      <td>0.116594</td>\n",
       "      <td>0.092184</td>\n",
       "      <td>0.038721</td>\n",
       "      <td>0.059847</td>\n",
       "      <td>0.044603</td>\n",
       "      <td>0.110681</td>\n",
       "      <td>0.061646</td>\n",
       "      <td>0.120693</td>\n",
       "      <td>0.107822</td>\n",
       "      <td>0.061591</td>\n",
       "      <td>0.030811</td>\n",
       "      <td>0.098579</td>\n",
       "      <td>0.056228</td>\n",
       "    </tr>\n",
       "    <tr>\n",
       "      <th>C-</th>\n",
       "      <td>0.055341</td>\n",
       "      <td>0.037282</td>\n",
       "      <td>0.147155</td>\n",
       "      <td>0.035805</td>\n",
       "      <td>0.156504</td>\n",
       "      <td>0.026388</td>\n",
       "      <td>0.021281</td>\n",
       "      <td>0.129718</td>\n",
       "      <td>0.010396</td>\n",
       "      <td>0.018523</td>\n",
       "      <td>0.134275</td>\n",
       "      <td>0.092574</td>\n",
       "      <td>0.134760</td>\n",
       "    </tr>\n",
       "    <tr>\n",
       "      <th>D+</th>\n",
       "      <td>0.131690</td>\n",
       "      <td>0.058630</td>\n",
       "      <td>0.033442</td>\n",
       "      <td>0.026700</td>\n",
       "      <td>0.142903</td>\n",
       "      <td>0.008460</td>\n",
       "      <td>0.152228</td>\n",
       "      <td>0.068007</td>\n",
       "      <td>0.150154</td>\n",
       "      <td>0.069125</td>\n",
       "      <td>0.049974</td>\n",
       "      <td>0.035575</td>\n",
       "      <td>0.073112</td>\n",
       "    </tr>\n",
       "    <tr>\n",
       "      <th>D</th>\n",
       "      <td>0.122539</td>\n",
       "      <td>0.081503</td>\n",
       "      <td>0.000946</td>\n",
       "      <td>0.032879</td>\n",
       "      <td>0.073474</td>\n",
       "      <td>0.071274</td>\n",
       "      <td>0.130371</td>\n",
       "      <td>0.140020</td>\n",
       "      <td>0.019572</td>\n",
       "      <td>0.092189</td>\n",
       "      <td>0.057343</td>\n",
       "      <td>0.037139</td>\n",
       "      <td>0.140750</td>\n",
       "    </tr>\n",
       "    <tr>\n",
       "      <th>D-</th>\n",
       "      <td>0.048987</td>\n",
       "      <td>0.119931</td>\n",
       "      <td>0.051375</td>\n",
       "      <td>0.111475</td>\n",
       "      <td>0.104886</td>\n",
       "      <td>0.034311</td>\n",
       "      <td>0.083314</td>\n",
       "      <td>0.112611</td>\n",
       "      <td>0.086698</td>\n",
       "      <td>0.060680</td>\n",
       "      <td>0.055656</td>\n",
       "      <td>0.084511</td>\n",
       "      <td>0.045567</td>\n",
       "    </tr>\n",
       "    <tr>\n",
       "      <th>E+</th>\n",
       "      <td>0.036610</td>\n",
       "      <td>0.070000</td>\n",
       "      <td>0.135719</td>\n",
       "      <td>0.148931</td>\n",
       "      <td>0.059597</td>\n",
       "      <td>0.090823</td>\n",
       "      <td>0.111505</td>\n",
       "      <td>0.104528</td>\n",
       "      <td>0.082021</td>\n",
       "      <td>0.087780</td>\n",
       "      <td>0.036063</td>\n",
       "      <td>0.020664</td>\n",
       "      <td>0.015758</td>\n",
       "    </tr>\n",
       "    <tr>\n",
       "      <th>E</th>\n",
       "      <td>0.045769</td>\n",
       "      <td>0.087778</td>\n",
       "      <td>0.094484</td>\n",
       "      <td>0.107624</td>\n",
       "      <td>0.098806</td>\n",
       "      <td>0.068230</td>\n",
       "      <td>0.078370</td>\n",
       "      <td>0.058790</td>\n",
       "      <td>0.129683</td>\n",
       "      <td>0.067910</td>\n",
       "      <td>0.050172</td>\n",
       "      <td>0.050143</td>\n",
       "      <td>0.062240</td>\n",
       "    </tr>\n",
       "    <tr>\n",
       "      <th>E-</th>\n",
       "      <td>0.001277</td>\n",
       "      <td>0.181202</td>\n",
       "      <td>0.034534</td>\n",
       "      <td>0.015698</td>\n",
       "      <td>0.096828</td>\n",
       "      <td>0.109586</td>\n",
       "      <td>0.108644</td>\n",
       "      <td>0.110616</td>\n",
       "      <td>0.111158</td>\n",
       "      <td>0.021297</td>\n",
       "      <td>0.081860</td>\n",
       "      <td>0.038562</td>\n",
       "      <td>0.088738</td>\n",
       "    </tr>\n",
       "  </tbody>\n",
       "</table>\n",
       "</div>"
      ],
      "text/plain": [
       "to          A+         A        B+         B        C+         C        C-  \\\n",
       "from                                                                         \n",
       "A+    0.051830  0.123928  0.104774  0.036765  0.064695  0.075291  0.052686   \n",
       "A     0.090827  0.024301  0.167016  0.121770  0.061606  0.083636  0.127953   \n",
       "B+    0.063486  0.095363  0.098193  0.017491  0.120063  0.108869  0.008667   \n",
       "B     0.145784  0.098840  0.061870  0.022955  0.075172  0.132936  0.014165   \n",
       "C+    0.058166  0.039001  0.032559  0.115149  0.100890  0.093965  0.108258   \n",
       "C     0.116594  0.092184  0.038721  0.059847  0.044603  0.110681  0.061646   \n",
       "C-    0.055341  0.037282  0.147155  0.035805  0.156504  0.026388  0.021281   \n",
       "D+    0.131690  0.058630  0.033442  0.026700  0.142903  0.008460  0.152228   \n",
       "D     0.122539  0.081503  0.000946  0.032879  0.073474  0.071274  0.130371   \n",
       "D-    0.048987  0.119931  0.051375  0.111475  0.104886  0.034311  0.083314   \n",
       "E+    0.036610  0.070000  0.135719  0.148931  0.059597  0.090823  0.111505   \n",
       "E     0.045769  0.087778  0.094484  0.107624  0.098806  0.068230  0.078370   \n",
       "E-    0.001277  0.181202  0.034534  0.015698  0.096828  0.109586  0.108644   \n",
       "\n",
       "to          D+         D        D-        E+         E        E-  \n",
       "from                                                              \n",
       "A+    0.133669  0.080315  0.021706  0.108796  0.100851  0.044694  \n",
       "A     0.018412  0.160771  0.000629  0.045332  0.043984  0.053764  \n",
       "B+    0.015400  0.107917  0.065272  0.025211  0.138680  0.135388  \n",
       "B     0.052918  0.080322  0.145900  0.047840  0.007030  0.114268  \n",
       "C+    0.052066  0.057805  0.098561  0.064203  0.091223  0.088155  \n",
       "C     0.120693  0.107822  0.061591  0.030811  0.098579  0.056228  \n",
       "C-    0.129718  0.010396  0.018523  0.134275  0.092574  0.134760  \n",
       "D+    0.068007  0.150154  0.069125  0.049974  0.035575  0.073112  \n",
       "D     0.140020  0.019572  0.092189  0.057343  0.037139  0.140750  \n",
       "D-    0.112611  0.086698  0.060680  0.055656  0.084511  0.045567  \n",
       "E+    0.104528  0.082021  0.087780  0.036063  0.020664  0.015758  \n",
       "E     0.058790  0.129683  0.067910  0.050172  0.050143  0.062240  \n",
       "E-    0.110616  0.111158  0.021297  0.081860  0.038562  0.088738  "
      ]
     },
     "execution_count": 27,
     "metadata": {},
     "output_type": "execute_result"
    }
   ],
   "source": [
    "initial_transition_matrix"
   ]
  },
  {
   "cell_type": "markdown",
   "metadata": {
    "deletable": false,
    "editable": false,
    "nbgrader": {
     "cell_type": "markdown",
     "checksum": "23186d584dd201cf5b7ed5f3a29ddc28",
     "grade": false,
     "grade_id": "cell-69eeb3a2844225c1",
     "locked": true,
     "schema_version": 3,
     "solution": false,
     "task": false
    }
   },
   "source": [
    "### 2. Fit criteria\n",
    "\n",
    "In genetics algorithms, a feasible solution is called an \"individual\". These algorithms revolve around the idea that individuals evolve from some initial(ization) imperfect individual to a perfect(ly adapted to its environment) individual.\n",
    "\n",
    "We will use the imperfect transition matrix defined above as our initialization of an individual:"
   ]
  },
  {
   "cell_type": "code",
   "execution_count": 28,
   "metadata": {
    "deletable": false,
    "editable": false,
    "nbgrader": {
     "cell_type": "code",
     "checksum": "be28db27c0285d7dfcd9712f8ebd9e82",
     "grade": false,
     "grade_id": "cell-383c355f1953c1c0",
     "locked": true,
     "schema_version": 3,
     "solution": false,
     "task": false
    }
   },
   "outputs": [],
   "source": [
    "def init(individual):\n",
    "    trans_matrix_cpy = initial_transition_matrix.copy()\n",
    "    # Since the algorithm will run in parallel with several initializations,\n",
    "    # we will run init() several times... and want it to use slightly different\n",
    "    # initial individuals, hence the random component below\n",
    "    trans_matrix_cpy = trans_matrix_cpy + 0.1 * np.random.rand(*trans_matrix_cpy.shape)\n",
    "    individual[:] = trans_matrix_cpy.div(trans_matrix_cpy.sum(axis=1), axis=0).values.flatten()\n",
    "    return individual"
   ]
  },
  {
   "cell_type": "markdown",
   "metadata": {
    "deletable": false,
    "editable": false,
    "nbgrader": {
     "cell_type": "markdown",
     "checksum": "4466e811248098d519b3bd6849a09957",
     "grade": false,
     "grade_id": "cell-24dd45bba15fa4f9",
     "locked": true,
     "schema_version": 3,
     "solution": false,
     "task": false
    }
   },
   "source": [
    "#### Fitness (or loss)\n",
    "\n",
    "Subsequently, we have to come up with a loss criterion to quantitatively assess what is a good fitness. Unsurprisingly we rely on squared error: we apply the transition matrix year after year and sum the errors made each year."
   ]
  },
  {
   "cell_type": "code",
   "execution_count": 29,
   "metadata": {
    "deletable": false,
    "editable": false,
    "nbgrader": {
     "cell_type": "code",
     "checksum": "3f5628197897c2e8a5c7224e9a7d7b1e",
     "grade": false,
     "grade_id": "cell-bccedb2bc731e9c0",
     "locked": true,
     "schema_version": 3,
     "solution": false,
     "task": false
    }
   },
   "outputs": [],
   "source": [
    "initial_year = df_data[\"year\"].min()\n",
    "first_year = df_data[df_data[\"year\"] == initial_year]\n",
    "other_years = df_data[df_data[\"year\"] > initial_year][\"year\"].unique()"
   ]
  },
  {
   "cell_type": "markdown",
   "metadata": {
    "deletable": false,
    "editable": false,
    "nbgrader": {
     "cell_type": "markdown",
     "checksum": "c7db7a470c3e752aeade24f606c6ae50",
     "grade": false,
     "grade_id": "cell-8a487bb40f81f190",
     "locked": true,
     "schema_version": 3,
     "solution": false,
     "task": false
    }
   },
   "source": [
    "#### Absolute error\n",
    "\n",
    "The following function takes the proposed transition matrix `transition_matrix`, applies it to the first year iteratively, and computes the squared error made by projecting the percentage of companies in each grade."
   ]
  },
  {
   "cell_type": "code",
   "execution_count": 30,
   "metadata": {},
   "outputs": [],
   "source": [
    "def abs_error(transition_matrix: np.ndarray, ptfl_data: pd.DataFrame, other_years: list):\n",
    "    initial_M = transition_matrix.reshape((13, 13))\n",
    "    current_M = initial_M.copy()\n",
    "    error = 0\n",
    "    for year in sorted(other_years):\n",
    "        current_year = ptfl_data[ptfl_data[\"year\"] == year]\n",
    "        df_estimated = pd.DataFrame(\n",
    "            {\"grade\": grades,\n",
    "             \"value_estimated\": (first_year[\"value\"].values @ current_M).astype(int)})\n",
    "        current_M = current_M @ initial_M\n",
    "        result = df_estimated.merge(current_year, how=\"left\", on=\"grade\")\n",
    "        error += np.abs(result[\"value_estimated\"] - result[\"value\"]).sum()\n",
    "    return error"
   ]
  },
  {
   "cell_type": "code",
   "execution_count": 31,
   "metadata": {},
   "outputs": [
    {
     "data": {
      "text/plain": [
       "array([1000, 2000, 3000, 4000, 4500, 5000, 4500, 4000, 3000, 2000, 1000,\n",
       "        500,  250])"
      ]
     },
     "execution_count": 31,
     "metadata": {},
     "output_type": "execute_result"
    }
   ],
   "source": [
    "first_year[\"value\"].values"
   ]
  },
  {
   "cell_type": "code",
   "execution_count": 32,
   "metadata": {},
   "outputs": [
    {
     "data": {
      "text/plain": [
       "array([1000, 2000, 3000, 4000, 4500, 5000, 4500, 4000, 3000, 2000, 1000,\n",
       "        500,  250])"
      ]
     },
     "execution_count": 32,
     "metadata": {},
     "output_type": "execute_result"
    }
   ],
   "source": [
    "first_year[\"value\"].values"
   ]
  },
  {
   "cell_type": "markdown",
   "metadata": {
    "deletable": false,
    "editable": false,
    "nbgrader": {
     "cell_type": "markdown",
     "checksum": "37991c3b5bd1b3be8eb806820deace43",
     "grade": false,
     "grade_id": "cell-f063b011766b8ee0",
     "locked": true,
     "schema_version": 3,
     "solution": false,
     "task": false
    }
   },
   "source": [
    "The initial one should be relatively bad:"
   ]
  },
  {
   "cell_type": "code",
   "execution_count": 33,
   "metadata": {
    "deletable": false,
    "editable": false,
    "nbgrader": {
     "cell_type": "code",
     "checksum": "1ec32d66b4eb6143f846d0e5dfc117a5",
     "grade": false,
     "grade_id": "cell-eb31c0424a58a8f2",
     "locked": true,
     "schema_version": 3,
     "solution": false,
     "task": false
    }
   },
   "outputs": [
    {
     "data": {
      "text/plain": [
       "61856"
      ]
     },
     "execution_count": 33,
     "metadata": {},
     "output_type": "execute_result"
    }
   ],
   "source": [
    "abs_error(initial_transition_matrix.values.flatten(), df_data, other_years)"
   ]
  },
  {
   "cell_type": "markdown",
   "metadata": {
    "deletable": false,
    "editable": false,
    "nbgrader": {
     "cell_type": "markdown",
     "checksum": "c925e72543228f1114073e11e1452dad",
     "grade": false,
     "grade_id": "cell-90f4aeadb3e6cf57",
     "locked": true,
     "schema_version": 3,
     "solution": false,
     "task": false
    }
   },
   "source": [
    "The true one should conduct to compounding ronding errors only (so much lower):"
   ]
  },
  {
   "cell_type": "code",
   "execution_count": 34,
   "metadata": {
    "deletable": false,
    "editable": false,
    "nbgrader": {
     "cell_type": "code",
     "checksum": "3d1f5729cf27c1207c675297985e57a5",
     "grade": false,
     "grade_id": "cell-c1ba67aab87640b0",
     "locked": true,
     "schema_version": 3,
     "solution": false,
     "task": false
    }
   },
   "outputs": [
    {
     "data": {
      "text/plain": [
       "305"
      ]
     },
     "execution_count": 34,
     "metadata": {},
     "output_type": "execute_result"
    }
   ],
   "source": [
    "abs_error(true_transition_matrix.values.flatten(), df_data, other_years)"
   ]
  },
  {
   "cell_type": "markdown",
   "metadata": {
    "deletable": false,
    "editable": false,
    "nbgrader": {
     "cell_type": "markdown",
     "checksum": "d9fd99b9f9eb1fd20a040782304221c5",
     "grade": false,
     "grade_id": "cell-7db24af260665283",
     "locked": true,
     "schema_version": 3,
     "solution": false,
     "task": false
    }
   },
   "source": [
    "#### Smoothness / penalties\n",
    "\n",
    "We also want to enforce some idea of smoothness: a very high penalty if the maximum probability in the transition matrix is **not** on the diagonal.\n",
    "Also, we want a \"triangular\" shape, i.e. we we want a decrease in the transition probability when we get further from the grade.\n",
    "Example: companies currently in Grade B will stay B with 70 % chance, go A with 10 % chance, go C with 10 % chance, D with 5 % chance, etc.\n",
    "\n",
    "Think of this as the equivalent of ridge/lasso in the context of genetic algorithms."
   ]
  },
  {
   "cell_type": "code",
   "execution_count": 35,
   "metadata": {
    "deletable": false,
    "editable": false,
    "nbgrader": {
     "cell_type": "code",
     "checksum": "b9f4226f615d0f7f9a6597198a7d5c65",
     "grade": false,
     "grade_id": "cell-50a4d59646774b94",
     "locked": true,
     "schema_version": 3,
     "solution": false,
     "task": false
    }
   },
   "outputs": [],
   "source": [
    "def smoothness(transition_matrix: pd.DataFrame):\n",
    "    ## Let's put a 3000 penalty if the max is not on the diagonal\n",
    "    argmaxes = np.argmax(transition_matrix.reshape((13, 13)), axis=1)\n",
    "    smoothness_metric = 3000 * sum(argmaxes != np.array(list(range(13))))\n",
    "    return smoothness_metric"
   ]
  },
  {
   "cell_type": "markdown",
   "metadata": {
    "deletable": false,
    "editable": false,
    "nbgrader": {
     "cell_type": "markdown",
     "checksum": "c3038d8c62bfb3c369af6522d125b733",
     "grade": false,
     "grade_id": "cell-08dfe5b8904654cd",
     "locked": true,
     "schema_version": 3,
     "solution": false,
     "task": false
    }
   },
   "source": [
    "The initial one should be pretty bad:"
   ]
  },
  {
   "cell_type": "code",
   "execution_count": 36,
   "metadata": {
    "deletable": false,
    "editable": false,
    "nbgrader": {
     "cell_type": "code",
     "checksum": "ba7856729d6dd1c34d190bf9df621875",
     "grade": false,
     "grade_id": "cell-5517b6cf35a6e0bb",
     "locked": true,
     "schema_version": 3,
     "solution": false,
     "task": false
    }
   },
   "outputs": [
    {
     "data": {
      "text/plain": [
       "39000"
      ]
     },
     "execution_count": 36,
     "metadata": {},
     "output_type": "execute_result"
    }
   ],
   "source": [
    "smoothness(initial_transition_matrix.values.flatten())"
   ]
  },
  {
   "cell_type": "markdown",
   "metadata": {
    "deletable": false,
    "editable": false,
    "nbgrader": {
     "cell_type": "markdown",
     "checksum": "c7465a1f1497c9094518e9ec4781c2d8",
     "grade": false,
     "grade_id": "cell-8e2c7b01ecf14a3d",
     "locked": true,
     "schema_version": 3,
     "solution": false,
     "task": false
    }
   },
   "source": [
    "The true one should be good:"
   ]
  },
  {
   "cell_type": "code",
   "execution_count": 37,
   "metadata": {
    "deletable": false,
    "editable": false,
    "nbgrader": {
     "cell_type": "code",
     "checksum": "2b6313b61d350ab7ed0a15dcae52e69a",
     "grade": false,
     "grade_id": "cell-c8a2f5537a8f5f5e",
     "locked": true,
     "schema_version": 3,
     "solution": false,
     "task": false
    }
   },
   "outputs": [
    {
     "data": {
      "text/plain": [
       "0"
      ]
     },
     "execution_count": 37,
     "metadata": {},
     "output_type": "execute_result"
    }
   ],
   "source": [
    "smoothness(true_transition_matrix.values.flatten())"
   ]
  },
  {
   "cell_type": "markdown",
   "metadata": {
    "deletable": false,
    "editable": false,
    "nbgrader": {
     "cell_type": "markdown",
     "checksum": "12b6b19d8f883166e882e0959f1013a2",
     "grade": false,
     "grade_id": "cell-336c12f4c8205417",
     "locked": true,
     "schema_version": 3,
     "solution": false,
     "task": false
    }
   },
   "source": [
    "Let's wrap those two metrics in `the_fitness` function (which will be part of a class, hence the presence of `self`)."
   ]
  },
  {
   "cell_type": "code",
   "execution_count": 38,
   "metadata": {
    "deletable": false,
    "editable": false,
    "nbgrader": {
     "cell_type": "code",
     "checksum": "dc80369010749a6bd33c6604039f6673",
     "grade": false,
     "grade_id": "cell-4718633cca22d918",
     "locked": true,
     "schema_version": 3,
     "solution": false,
     "task": false
    }
   },
   "outputs": [],
   "source": [
    "def the_fitness(self):\n",
    "    distance_metric = abs_error(np.array(self), df_data, other_years)\n",
    "    smoothness_metric = smoothness(np.array(self))\n",
    "    return distance_metric, smoothness_metric"
   ]
  },
  {
   "cell_type": "markdown",
   "metadata": {
    "deletable": false,
    "editable": false,
    "nbgrader": {
     "cell_type": "markdown",
     "checksum": "84f443e16c8f3f86abf41627f0921cf9",
     "grade": false,
     "grade_id": "cell-0b09591d497fa622",
     "locked": true,
     "schema_version": 3,
     "solution": false,
     "task": false
    }
   },
   "source": [
    "### 3. Proposed resolution\n",
    "\n",
    "Similar to the computer scientists who like to brag about the \"inspiration\" of human neurons for neural networks, some have taken inspiration from Darwinism and its evolution theory to come up with a family of algorithms: genetic algorithms.\n",
    "\n",
    "#### Individuals / chromosomes\n",
    "\n",
    "A **solution** to a problem is represented by an **individual**. In our case, that's the transition matrix.\n",
    "\n",
    "#### Population\n",
    "\n",
    "The point of evolutionary methods is to try out many solutions to a problem, but still far less than the total number of possible solutions (the search space).\n",
    "\n",
    "**A population is a collection of individuals.**\n",
    "\n",
    "#### Genes\n",
    "\n",
    "Much like the weights in a neural network, **genes are the real values we try to optimize**.\n",
    "\n",
    "In our example, that's each transition probability (each entry in the transition matrix).\n",
    "\n",
    "#### Putting it all together\n",
    "\n",
    "Let's look at the big picture; we have:\n",
    "* a fitness criterion that we wish to maximize, and which is not convex (no analytical solution);\n",
    "* a search space that is too large to compute the fitness of all possible solutions;\n",
    "* a population of \"random\" initial individuals (well, only 1 for now - which are not particularly good).\n",
    "\n",
    "How does nature do?\n",
    "\n",
    "1. Select (the fittest);\n",
    "1. Mate (sometimes called \"crossover\" not to hurt anyone's mind);\n",
    "1. Mutate.\n",
    "\n",
    "Applying genetic algorithms successfully is thus all about coming up with good selection, mating (crossover) and mutation routines.\n",
    "\n",
    "We will use the [DEAP library](https://deap.readthedocs.io/en/master/). You can have a look at its selection, mating and mutation implemented routines on [this page](https://deap.readthedocs.io/en/master/api/tools.html)."
   ]
  },
  {
   "cell_type": "code",
   "execution_count": 39,
   "metadata": {
    "deletable": false,
    "editable": false,
    "nbgrader": {
     "cell_type": "code",
     "checksum": "4f9c69e1e38f60f2783a05ecca9ae6d8",
     "grade": false,
     "grade_id": "cell-65de8046ee29e17c",
     "locked": true,
     "schema_version": 3,
     "solution": false,
     "task": false
    }
   },
   "outputs": [],
   "source": [
    "from deap import creator, base, tools"
   ]
  },
  {
   "cell_type": "code",
   "execution_count": 40,
   "metadata": {
    "deletable": false,
    "editable": false,
    "nbgrader": {
     "cell_type": "code",
     "checksum": "12acd0322ad41626c184909305916fb5",
     "grade": false,
     "grade_id": "cell-34a3cb284433086e",
     "locked": true,
     "schema_version": 3,
     "solution": false,
     "task": false
    }
   },
   "outputs": [],
   "source": [
    "# We will \"create\" our own algorithm and use the \"Fitness\" and \"Individual\" concepts.\n",
    "creator.create(\"Fitness\",\n",
    "               base.Fitness,\n",
    "               weights=(-1, -1))\n",
    "\n",
    "creator.create(\"Individual\",\n",
    "               np.ndarray,\n",
    "               fitness=creator.Fitness)"
   ]
  },
  {
   "cell_type": "code",
   "execution_count": 41,
   "metadata": {
    "deletable": false,
    "editable": false,
    "nbgrader": {
     "cell_type": "code",
     "checksum": "9227063ed1ed9ccbb1914f5624f17586",
     "grade": false,
     "grade_id": "cell-c486d6f6b18ef430",
     "locked": true,
     "schema_version": 3,
     "solution": false,
     "task": false
    }
   },
   "outputs": [],
   "source": [
    "# We will use a custom Individual class.\n",
    "class Individual(creator.Individual):\n",
    "\n",
    "    def __init__(self, *args, **kwargs):\n",
    "        super(Individual, self).__init__(*args, **kwargs)\n",
    "\n",
    "    def the_fitness(self):\n",
    "        distance_metric, smoothness_metric = the_fitness(self)\n",
    "        return distance_metric, smoothness_metric"
   ]
  },
  {
   "cell_type": "code",
   "execution_count": 42,
   "metadata": {
    "deletable": false,
    "editable": false,
    "nbgrader": {
     "cell_type": "code",
     "checksum": "99173ef5edb8c11e3f7eb55d1ce66bd4",
     "grade": false,
     "grade_id": "cell-a6d0f172b25ed79e",
     "locked": true,
     "schema_version": 3,
     "solution": false,
     "task": false
    }
   },
   "outputs": [],
   "source": [
    "# To be able to reproduce our results\n",
    "state = np.random.RandomState(204)"
   ]
  },
  {
   "cell_type": "code",
   "execution_count": 43,
   "metadata": {
    "deletable": false,
    "editable": false,
    "nbgrader": {
     "cell_type": "code",
     "checksum": "4a974de02a2855acc18cc3e9c41d2b7a",
     "grade": false,
     "grade_id": "cell-45cba1a52165c356",
     "locked": true,
     "schema_version": 3,
     "solution": false,
     "task": false
    }
   },
   "outputs": [],
   "source": [
    "# A facility to evaluate individuels\n",
    "def evaluate(ind, *args, **kwargs):\n",
    "    return ind.the_fitness(*args, **kwargs)\n",
    "\n",
    "# To keep track of fitness values\n",
    "def statistics(ind):\n",
    "    return ind.fitness.values"
   ]
  },
  {
   "cell_type": "code",
   "execution_count": 44,
   "metadata": {
    "deletable": false,
    "editable": false,
    "nbgrader": {
     "cell_type": "code",
     "checksum": "6d5b2bf862da3f9a230d2ca1ce9dadfd",
     "grade": false,
     "grade_id": "cell-857529485c7d1171",
     "locked": true,
     "schema_version": 3,
     "solution": false,
     "task": false
    }
   },
   "outputs": [],
   "source": [
    "# We use a DEAP \"toolbox\".\n",
    "toolbox = base.Toolbox()\n",
    "\n",
    "# A random number sampled uniformly between 0 and 1.\n",
    "toolbox.register(\"attr_bool\",\n",
    "                 state.uniform,\n",
    "                 0,\n",
    "                 1)\n",
    "\n",
    "# We register what an individual is and how to initialize it.\n",
    "# We will override this initialization afterwards.\n",
    "toolbox.register(\"individual\",\n",
    "                 tools.initRepeat,\n",
    "                 Individual,\n",
    "                 toolbox.attr_bool,\n",
    "                 n=13 * 13)\n",
    "\n",
    "# A population is a collection of individuals.\n",
    "toolbox.register(\"population\",\n",
    "                 tools.initRepeat,\n",
    "                 list,\n",
    "                 toolbox.individual)\n",
    "\n",
    "# Our custom init function.\n",
    "toolbox.register(\"initialization\", init)\n",
    "\n",
    "# Our evaluation function.\n",
    "toolbox.register(\"evaluate\", evaluate)\n",
    "\n",
    "# The selection mechanism (see below).\n",
    "toolbox.register(\"select\", tools.selNSGA2)\n",
    "\n",
    "# The map function will be used to parallelize the evaluation of the fitness functions.\n",
    "toolbox.register(\"map\", multiprocessing.Pool(processes=4).map)"
   ]
  },
  {
   "cell_type": "markdown",
   "metadata": {
    "deletable": false,
    "editable": false,
    "nbgrader": {
     "cell_type": "markdown",
     "checksum": "f3f0cf950ca1c1abc42e49597a8dde28",
     "grade": false,
     "grade_id": "cell-3dd30469ba285dc0",
     "locked": true,
     "schema_version": 3,
     "solution": false,
     "task": false
    }
   },
   "source": [
    "We have introduced a level of difficulty: we have two fitness functions (`squared_error` and `smoothness`). We **could** mix them into a single value, which is often done in practice.\n",
    "\n",
    "However, for the purpose of this lab, we will use the [NSGA-II algorithm](http://repository.ias.ac.in/83498/1/2-a.pdf) (Elitist Non-dominated Sorting Genetic Algorithm) which deals with multi-objectives."
   ]
  },
  {
   "cell_type": "markdown",
   "metadata": {
    "deletable": false,
    "editable": false,
    "nbgrader": {
     "cell_type": "markdown",
     "checksum": "60efc1d3e39969a4830cf88c0efa350f",
     "grade": false,
     "grade_id": "cell-8fafcbba21be7e31",
     "locked": true,
     "schema_version": 3,
     "solution": false,
     "task": false
    }
   },
   "source": [
    "#### Selection"
   ]
  },
  {
   "cell_type": "markdown",
   "metadata": {
    "deletable": false,
    "editable": false,
    "nbgrader": {
     "cell_type": "markdown",
     "checksum": "457d6ba5663c0571b9ad8885430b64bb",
     "grade": false,
     "grade_id": "cell-c14bd4bbdc99a752",
     "locked": true,
     "schema_version": 3,
     "solution": false,
     "task": false
    }
   },
   "source": [
    "A solution $x_1$ is said to dominate another solution $x_2$ if both the following conditions are true:\n",
    "* The solution $x_1$ is not worse than $x_2$ in all objectives, or $f_j(x_1)$ is better than $f_j(x_2)$ for all $j\n",
    "\\in \\{1, 2, . . . , M\\}$ where $f_j$ is the $j$-th objective function and $M$ is the number of objectives ($M=2$ here).\n",
    "\n",
    "* The solution $x_1$ is strictly better than $x_2$ in at least one objective, or $f_j(x_1)$ is better than $f_j(x_2)$ for at least one $j \\in \\{1, 2, . . . , M\\}$."
   ]
  },
  {
   "cell_type": "markdown",
   "metadata": {
    "deletable": false,
    "editable": false,
    "nbgrader": {
     "cell_type": "markdown",
     "checksum": "c5f3cb09098869ebd318aa0de0c350fd",
     "grade": false,
     "grade_id": "cell-fc2714d40789f4c6",
     "locked": true,
     "schema_version": 3,
     "solution": false,
     "task": false
    }
   },
   "source": [
    "We perform \"non-dominated sorting\" to the population: for example, the \"Rank 3\" (green) individuals below are dominated by an individual in \"Rank 2\" (in red - try to spot which one), while the \"Rank 1\" (blue) individuals aren't dominated by any other individual.\n",
    "\n",
    "The \"ranks\" below are [Pareto fronts](https://en.wikipedia.org/wiki/Pareto_efficiency)."
   ]
  },
  {
   "cell_type": "markdown",
   "metadata": {
    "deletable": false,
    "editable": false,
    "nbgrader": {
     "cell_type": "markdown",
     "checksum": "49982466c6a817b3ccea868ed8f1cab4",
     "grade": false,
     "grade_id": "cell-c0565b23c3d5160b",
     "locked": true,
     "schema_version": 3,
     "solution": false,
     "task": false
    }
   },
   "source": [
    "![Pareto fronts](https://www.researchgate.net/profile/Zbynek-Raida/publication/260115283/figure/fig2/AS:669059364450313@1536527591578/Non-dominated-sorting-to-advancing-fronts.png)"
   ]
  },
  {
   "cell_type": "markdown",
   "metadata": {
    "deletable": false,
    "editable": false,
    "nbgrader": {
     "cell_type": "markdown",
     "checksum": "08919b0644e13080d01588e13ecb210b",
     "grade": false,
     "grade_id": "cell-86802bb0a2cafed1",
     "locked": true,
     "schema_version": 3,
     "solution": false,
     "task": false
    }
   },
   "source": [
    "#### Crowding distance (sorting)"
   ]
  },
  {
   "cell_type": "markdown",
   "metadata": {
    "deletable": false,
    "editable": false,
    "nbgrader": {
     "cell_type": "markdown",
     "checksum": "aa41209f88da52b4402565f7c10f7906",
     "grade": false,
     "grade_id": "cell-60910bd05b0d4a8c",
     "locked": true,
     "schema_version": 3,
     "solution": false,
     "task": false
    }
   },
   "source": [
    "The diversity among non-dominated solutions is introduced by using the crowding comparison procedure.\n",
    "\n",
    "In a given rank / Pareto front, we search for the largest \"cuboid\" (remember there can be an arbitrary number $M$ of fitness functions) around a given solution in which there are no other solutions (we can set it to $\\infty$ for point in the \"boundary\", i.e. with the minimal / maximal values of each fitness function).\n",
    "\n",
    "In what follows, we will prefer solutions with large crowding distances, which guarantees some diversity (imagine what happens if many solutions are close one-another)."
   ]
  },
  {
   "cell_type": "markdown",
   "metadata": {
    "deletable": false,
    "editable": false,
    "nbgrader": {
     "cell_type": "markdown",
     "checksum": "3b305276bb502544f89d8b3b94ff5756",
     "grade": false,
     "grade_id": "cell-11b20e009b0b88dc",
     "locked": true,
     "schema_version": 3,
     "solution": false,
     "task": false
    }
   },
   "source": [
    "![Crowding distance](https://www.researchgate.net/profile/Sahar-Taslimi-Taleghani/publication/261031359/figure/fig2/AS:529861821566981@1503340310654/Calculation-of-crowding-distance-in-NSGAII-algorithm.png)"
   ]
  },
  {
   "cell_type": "markdown",
   "metadata": {
    "deletable": false,
    "editable": false,
    "nbgrader": {
     "cell_type": "markdown",
     "checksum": "29f0063b4d8c9967761ad80e95e209b0",
     "grade": false,
     "grade_id": "cell-b31bf67cb7e763c0",
     "locked": true,
     "schema_version": 3,
     "solution": false,
     "task": false
    }
   },
   "source": [
    "#### Wrapping up"
   ]
  },
  {
   "cell_type": "markdown",
   "metadata": {
    "deletable": false,
    "editable": false,
    "nbgrader": {
     "cell_type": "markdown",
     "checksum": "d140b2f40b30b236fdd3c2c392d2be3a",
     "grade": false,
     "grade_id": "cell-2779addbae71707e",
     "locked": true,
     "schema_version": 3,
     "solution": false,
     "task": false
    }
   },
   "source": [
    "Suppose we have a population of 30 individuals with 3 fronts of 7, 8 and 15 individuals respectively.\n",
    "\n",
    "An NSGA-II selection of, say, 20 individuals, will take all 7 individuals from Rank 1, all 8 individuals from Rank 2, and the 5 individuals from Rank 3 with the largest crowding distance. The 10 remaining individuals (from Rank 3) are rejected. All remaining individuals form the \"candidates\" for the next generation and are sorted by their crowding distance."
   ]
  },
  {
   "cell_type": "markdown",
   "metadata": {
    "deletable": false,
    "editable": false,
    "nbgrader": {
     "cell_type": "markdown",
     "checksum": "e1347c0a1604dfe8959d9e9ccdd35e37",
     "grade": false,
     "grade_id": "cell-879cfb771d4f9662",
     "locked": true,
     "schema_version": 3,
     "solution": false,
     "task": false
    }
   },
   "source": [
    "![NSGA-II Selection](https://i0.wp.com/oklahomaanalytics.com/wp-content/uploads/2017/10/fig4.png?resize=768%2C418)"
   ]
  },
  {
   "cell_type": "markdown",
   "metadata": {
    "deletable": false,
    "editable": false,
    "nbgrader": {
     "cell_type": "markdown",
     "checksum": "2d529d401903e1ea198e82443f3e951f",
     "grade": false,
     "grade_id": "cell-9c9b02ba4569aed2",
     "locked": true,
     "schema_version": 3,
     "solution": false,
     "task": false
    }
   },
   "source": [
    "#### Mate / crossover"
   ]
  },
  {
   "cell_type": "markdown",
   "metadata": {
    "deletable": false,
    "editable": false,
    "nbgrader": {
     "cell_type": "markdown",
     "checksum": "f03438250c3583b80c1bc947bcfa1f71",
     "grade": false,
     "grade_id": "cell-0a050fd266938f11",
     "locked": true,
     "schema_version": 3,
     "solution": false,
     "task": false
    }
   },
   "source": [
    "When two individuals mate / two chromosomes are \"crossed over\", we simply \"mix\" their genes at random cut-points. We will use, as exemplified below, a [\"two point crossover\"](https://deap.readthedocs.io/en/master/api/tools.html#deap.tools.cxTwoPoint) where the two cut-points are chosen randomly."
   ]
  },
  {
   "cell_type": "code",
   "execution_count": 45,
   "metadata": {
    "deletable": false,
    "editable": false,
    "nbgrader": {
     "cell_type": "code",
     "checksum": "1c7c6d2b3a4b9085a54d83a3ef7c6130",
     "grade": false,
     "grade_id": "cell-2c2093016124c785",
     "locked": true,
     "schema_version": 3,
     "solution": false,
     "task": false
    }
   },
   "outputs": [],
   "source": [
    "toolbox.register(\"mate\", tools.cxTwoPoint)"
   ]
  },
  {
   "cell_type": "markdown",
   "metadata": {
    "deletable": false,
    "editable": false,
    "nbgrader": {
     "cell_type": "markdown",
     "checksum": "f5d03362a37411ec021b7152af0a6b78",
     "grade": false,
     "grade_id": "cell-db37073514d025b0",
     "locked": true,
     "schema_version": 3,
     "solution": false,
     "task": false
    }
   },
   "source": [
    "![Two points crossover](https://upload.wikimedia.org/wikipedia/commons/thumb/c/cd/TwoPointCrossover.svg/226px-TwoPointCrossover.svg.png)"
   ]
  },
  {
   "cell_type": "markdown",
   "metadata": {
    "deletable": false,
    "editable": false,
    "nbgrader": {
     "cell_type": "markdown",
     "checksum": "d42fbb1ad7c07e05c92ea9d768209345",
     "grade": false,
     "grade_id": "cell-df70e77d33181c7c",
     "locked": true,
     "schema_version": 3,
     "solution": false,
     "task": false
    }
   },
   "source": [
    "#### Mutation"
   ]
  },
  {
   "cell_type": "markdown",
   "metadata": {
    "deletable": false,
    "editable": false,
    "nbgrader": {
     "cell_type": "markdown",
     "checksum": "7d3c982ba5e6a91911b14e52179ff0bd",
     "grade": false,
     "grade_id": "cell-be499308646020be",
     "locked": true,
     "schema_version": 3,
     "solution": false,
     "task": false
    }
   },
   "source": [
    "The idea behind mutation is to choose and individual's genes with some probability (that can itself be constant or decaying) and modify their values. Here, we choose some random noise (you can change this function to see how it influences the results). "
   ]
  },
  {
   "cell_type": "code",
   "execution_count": 46,
   "metadata": {},
   "outputs": [],
   "source": [
    "def mutation(individual,\n",
    "             indpb_alpha,\n",
    "             indpb_beta,\n",
    "             sigma,\n",
    "             gen=0):\n",
    "    \"\"\"\n",
    "    Perform mutation: we add random noise (with standard deviation `sigma`) to an individual's genes with some\n",
    "        probability (see below).\n",
    "\n",
    "    :param indpb_alpha: the probability of a given individual to undergo mutation (for the first generation).\n",
    "    :param indpb_beta: the rate of exponential decay of the probability to undergo mutation w.r.t. the generation. \n",
    "    \"\"\"\n",
    "    # Decide whether to mutate\n",
    "    indpb = indpb_alpha * np.exp(-indpb_beta * gen)\n",
    "\n",
    "    for idx, gene in enumerate(individual):\n",
    "        if state.uniform(0, 1) < indpb:\n",
    "            individual[idx] = min(max(gene + state.normal(0, sigma), 0.0), 1)\n",
    "\n",
    "    # Renormalize the matrix\n",
    "    ind_pandas = pd.DataFrame(individual.reshape((13, 13)))\n",
    "    ind_pandas = ind_pandas.div(ind_pandas.sum(axis=1), axis=0)\n",
    "    individual[:] = ind_pandas.values.flatten()\n",
    "    return individual"
   ]
  },
  {
   "cell_type": "code",
   "execution_count": 47,
   "metadata": {
    "deletable": false,
    "editable": false,
    "nbgrader": {
     "cell_type": "code",
     "checksum": "b7e892fe243002db8014ed1c0c4f4b76",
     "grade": false,
     "grade_id": "cell-54102cde82ea77d2",
     "locked": true,
     "schema_version": 3,
     "solution": false,
     "task": false
    }
   },
   "outputs": [],
   "source": [
    "# Registering our mutation function.\n",
    "toolbox.register(\"mutate\", mutation)"
   ]
  },
  {
   "cell_type": "markdown",
   "metadata": {
    "deletable": false,
    "editable": false,
    "nbgrader": {
     "cell_type": "markdown",
     "checksum": "4d40e0edb9ccc0b006fdd5fff214336b",
     "grade": false,
     "grade_id": "cell-51f78095904d309c",
     "locked": true,
     "schema_version": 3,
     "solution": false,
     "task": false
    }
   },
   "source": [
    "## Running the algorithm"
   ]
  },
  {
   "cell_type": "markdown",
   "metadata": {
    "deletable": false,
    "editable": false,
    "nbgrader": {
     "cell_type": "markdown",
     "checksum": "efa7b38ae8451527338da498d283f32c",
     "grade": false,
     "grade_id": "cell-8d1d2f41e9430d0e",
     "locked": true,
     "schema_version": 3,
     "solution": false,
     "task": false
    }
   },
   "source": [
    "These are the hyper-parameters you'll have to tweak:"
   ]
  },
  {
   "cell_type": "code",
   "execution_count": 48,
   "metadata": {
    "deletable": false,
    "nbgrader": {
     "cell_type": "code",
     "checksum": "c3364b51e397f78342071baeb0b0e107",
     "grade": false,
     "grade_id": "cell-90736208a85d37df",
     "locked": false,
     "schema_version": 3,
     "solution": true,
     "task": false
    }
   },
   "outputs": [],
   "source": [
    "# This controls the population size, i.e. the number of individuals (== solutions) to consider at each generation.\n",
    "popsize = 32\n",
    "# This controls the number of generations, i.e. the number of iterations of the algorithm.\n",
    "nb_gen = 480\n",
    "# This controls the mating probability, i.e. the probability for a given pair of individuals to mate.\n",
    "crossover_probability = 0.825\n",
    "# This controls the mutation probability of the first generation\n",
    "indpb_alpha=0.8\n",
    "# The subsequent generations will mutate with a decaying probability\n",
    "indpb_beta=0.025\n",
    "# Random noise added when undergoing mutation\n",
    "sigma=0.17\n",
    "\n",
    "# YOUR CODE HERE"
   ]
  },
  {
   "cell_type": "markdown",
   "metadata": {
    "deletable": false,
    "editable": false,
    "nbgrader": {
     "cell_type": "markdown",
     "checksum": "d31a3a189bfd2b21311282cdbf5c29b6",
     "grade": false,
     "grade_id": "cell-55ab9c69a1a65330",
     "locked": true,
     "schema_version": 3,
     "solution": false,
     "task": false
    }
   },
   "source": [
    "We will keep track of all individuals (in all generations) in `all_inds`.\n",
    "\n",
    "We will keep a \"Hall of Fame\" of the best individuals irrespective of the generation, with ParetoFront (keeping track of all Pareto Fronts)."
   ]
  },
  {
   "cell_type": "code",
   "execution_count": 49,
   "metadata": {
    "deletable": false,
    "editable": false,
    "nbgrader": {
     "cell_type": "code",
     "checksum": "3efd6277ce8465b3c87b95ace0e93680",
     "grade": false,
     "grade_id": "cell-115ef433d703cad7",
     "locked": true,
     "schema_version": 3,
     "solution": false,
     "task": false
    }
   },
   "outputs": [],
   "source": [
    "all_inds = []\n",
    "generations = [i for j in range(popsize) for i in range(nb_gen)]\n",
    "fitness = np.zeros((nb_gen * popsize, 2))\n",
    "hof = tools.ParetoFront(similar=np.array_equal)"
   ]
  },
  {
   "cell_type": "code",
   "execution_count": 50,
   "metadata": {
    "deletable": false,
    "editable": false,
    "nbgrader": {
     "cell_type": "code",
     "checksum": "d78cd4d851ec37885cd245389c5853e9",
     "grade": false,
     "grade_id": "cell-038bc0b73ba27467",
     "locked": true,
     "schema_version": 3,
     "solution": false,
     "task": false
    }
   },
   "outputs": [],
   "source": [
    "# For each generation, compute the mean, min, max values of all fitness functions.\n",
    "stats = tools.Statistics(key=statistics)\n",
    "stats.register(\"avg\", np.mean, axis=0)\n",
    "stats.register(\"min\", np.min, axis=0)\n",
    "stats.register(\"max\", np.max, axis=0)"
   ]
  },
  {
   "cell_type": "code",
   "execution_count": 51,
   "metadata": {
    "deletable": false,
    "editable": false,
    "nbgrader": {
     "cell_type": "code",
     "checksum": "e9175bf46e038ceda4892c73297e917b",
     "grade": false,
     "grade_id": "cell-c089867cbb6e9406",
     "locked": true,
     "schema_version": 3,
     "solution": false,
     "task": false
    }
   },
   "outputs": [],
   "source": [
    "# The `logbook` will contain this statistics\n",
    "logbook = tools.Logbook()\n",
    "logbook.header = ['gen', 'nevals'] + stats.fields"
   ]
  },
  {
   "cell_type": "markdown",
   "metadata": {
    "deletable": false,
    "editable": false,
    "nbgrader": {
     "cell_type": "markdown",
     "checksum": "e2ef572533c507fb8991aa5c52d01042",
     "grade": false,
     "grade_id": "cell-c3de27258e9ccbc1",
     "locked": true,
     "schema_version": 3,
     "solution": false,
     "task": false
    }
   },
   "source": [
    "As promised, we override the random initialization of individuals (since they won't be respecting the condition that the columns sum to 1)."
   ]
  },
  {
   "cell_type": "code",
   "execution_count": 52,
   "metadata": {
    "deletable": false,
    "editable": false,
    "nbgrader": {
     "cell_type": "code",
     "checksum": "dd7ff0e3aac9338120f26745648be12b",
     "grade": false,
     "grade_id": "cell-816b5a96e0461e2f",
     "locked": true,
     "schema_version": 3,
     "solution": false,
     "task": false
    }
   },
   "outputs": [],
   "source": [
    "pop = toolbox.population(n=popsize)\n",
    "for ind in pop:\n",
    "    ind = init(ind)"
   ]
  },
  {
   "cell_type": "code",
   "execution_count": 53,
   "metadata": {},
   "outputs": [
    {
     "data": {
      "text/html": [
       "<div>\n",
       "<style scoped>\n",
       "    .dataframe tbody tr th:only-of-type {\n",
       "        vertical-align: middle;\n",
       "    }\n",
       "\n",
       "    .dataframe tbody tr th {\n",
       "        vertical-align: top;\n",
       "    }\n",
       "\n",
       "    .dataframe thead th {\n",
       "        text-align: right;\n",
       "    }\n",
       "</style>\n",
       "<table border=\"1\" class=\"dataframe\">\n",
       "  <thead>\n",
       "    <tr style=\"text-align: right;\">\n",
       "      <th></th>\n",
       "      <th>0</th>\n",
       "      <th>1</th>\n",
       "      <th>2</th>\n",
       "      <th>3</th>\n",
       "      <th>4</th>\n",
       "      <th>5</th>\n",
       "      <th>6</th>\n",
       "      <th>7</th>\n",
       "      <th>8</th>\n",
       "      <th>9</th>\n",
       "      <th>10</th>\n",
       "      <th>11</th>\n",
       "      <th>12</th>\n",
       "    </tr>\n",
       "  </thead>\n",
       "  <tbody>\n",
       "    <tr>\n",
       "      <th>0</th>\n",
       "      <td>0.078753</td>\n",
       "      <td>0.119292</td>\n",
       "      <td>0.119697</td>\n",
       "      <td>0.064153</td>\n",
       "      <td>0.040009</td>\n",
       "      <td>0.045437</td>\n",
       "      <td>0.083756</td>\n",
       "      <td>0.087049</td>\n",
       "      <td>0.048690</td>\n",
       "      <td>0.071131</td>\n",
       "      <td>0.110579</td>\n",
       "      <td>0.101338</td>\n",
       "      <td>0.030116</td>\n",
       "    </tr>\n",
       "    <tr>\n",
       "      <th>1</th>\n",
       "      <td>0.090163</td>\n",
       "      <td>0.019251</td>\n",
       "      <td>0.130044</td>\n",
       "      <td>0.072473</td>\n",
       "      <td>0.073701</td>\n",
       "      <td>0.053700</td>\n",
       "      <td>0.096265</td>\n",
       "      <td>0.054207</td>\n",
       "      <td>0.140218</td>\n",
       "      <td>0.053053</td>\n",
       "      <td>0.063241</td>\n",
       "      <td>0.080190</td>\n",
       "      <td>0.073494</td>\n",
       "    </tr>\n",
       "    <tr>\n",
       "      <th>2</th>\n",
       "      <td>0.067984</td>\n",
       "      <td>0.111533</td>\n",
       "      <td>0.085226</td>\n",
       "      <td>0.044275</td>\n",
       "      <td>0.117343</td>\n",
       "      <td>0.085072</td>\n",
       "      <td>0.013285</td>\n",
       "      <td>0.055800</td>\n",
       "      <td>0.071354</td>\n",
       "      <td>0.093848</td>\n",
       "      <td>0.030263</td>\n",
       "      <td>0.109977</td>\n",
       "      <td>0.114039</td>\n",
       "    </tr>\n",
       "    <tr>\n",
       "      <th>3</th>\n",
       "      <td>0.120671</td>\n",
       "      <td>0.118142</td>\n",
       "      <td>0.069415</td>\n",
       "      <td>0.040785</td>\n",
       "      <td>0.084137</td>\n",
       "      <td>0.102803</td>\n",
       "      <td>0.012638</td>\n",
       "      <td>0.044615</td>\n",
       "      <td>0.086826</td>\n",
       "      <td>0.113371</td>\n",
       "      <td>0.040658</td>\n",
       "      <td>0.067180</td>\n",
       "      <td>0.098759</td>\n",
       "    </tr>\n",
       "    <tr>\n",
       "      <th>4</th>\n",
       "      <td>0.090058</td>\n",
       "      <td>0.036291</td>\n",
       "      <td>0.036944</td>\n",
       "      <td>0.072398</td>\n",
       "      <td>0.106737</td>\n",
       "      <td>0.061111</td>\n",
       "      <td>0.089575</td>\n",
       "      <td>0.047092</td>\n",
       "      <td>0.074352</td>\n",
       "      <td>0.109097</td>\n",
       "      <td>0.093008</td>\n",
       "      <td>0.113466</td>\n",
       "      <td>0.069870</td>\n",
       "    </tr>\n",
       "    <tr>\n",
       "      <th>5</th>\n",
       "      <td>0.095027</td>\n",
       "      <td>0.095678</td>\n",
       "      <td>0.072309</td>\n",
       "      <td>0.081359</td>\n",
       "      <td>0.068732</td>\n",
       "      <td>0.063248</td>\n",
       "      <td>0.051456</td>\n",
       "      <td>0.104576</td>\n",
       "      <td>0.102182</td>\n",
       "      <td>0.047950</td>\n",
       "      <td>0.060135</td>\n",
       "      <td>0.088157</td>\n",
       "      <td>0.069192</td>\n",
       "    </tr>\n",
       "    <tr>\n",
       "      <th>6</th>\n",
       "      <td>0.063438</td>\n",
       "      <td>0.025520</td>\n",
       "      <td>0.138195</td>\n",
       "      <td>0.066098</td>\n",
       "      <td>0.091801</td>\n",
       "      <td>0.072396</td>\n",
       "      <td>0.020776</td>\n",
       "      <td>0.123675</td>\n",
       "      <td>0.027542</td>\n",
       "      <td>0.061582</td>\n",
       "      <td>0.136660</td>\n",
       "      <td>0.062419</td>\n",
       "      <td>0.109898</td>\n",
       "    </tr>\n",
       "    <tr>\n",
       "      <th>7</th>\n",
       "      <td>0.094009</td>\n",
       "      <td>0.086843</td>\n",
       "      <td>0.024438</td>\n",
       "      <td>0.042588</td>\n",
       "      <td>0.137030</td>\n",
       "      <td>0.031259</td>\n",
       "      <td>0.138018</td>\n",
       "      <td>0.083113</td>\n",
       "      <td>0.110631</td>\n",
       "      <td>0.094922</td>\n",
       "      <td>0.039419</td>\n",
       "      <td>0.049152</td>\n",
       "      <td>0.068578</td>\n",
       "    </tr>\n",
       "    <tr>\n",
       "      <th>8</th>\n",
       "      <td>0.095118</td>\n",
       "      <td>0.101159</td>\n",
       "      <td>0.051361</td>\n",
       "      <td>0.023925</td>\n",
       "      <td>0.101552</td>\n",
       "      <td>0.098713</td>\n",
       "      <td>0.120386</td>\n",
       "      <td>0.086019</td>\n",
       "      <td>0.035980</td>\n",
       "      <td>0.097307</td>\n",
       "      <td>0.050218</td>\n",
       "      <td>0.043410</td>\n",
       "      <td>0.094852</td>\n",
       "    </tr>\n",
       "    <tr>\n",
       "      <th>9</th>\n",
       "      <td>0.046578</td>\n",
       "      <td>0.117230</td>\n",
       "      <td>0.047702</td>\n",
       "      <td>0.088786</td>\n",
       "      <td>0.093524</td>\n",
       "      <td>0.076205</td>\n",
       "      <td>0.056839</td>\n",
       "      <td>0.119477</td>\n",
       "      <td>0.104536</td>\n",
       "      <td>0.056070</td>\n",
       "      <td>0.067445</td>\n",
       "      <td>0.065150</td>\n",
       "      <td>0.060458</td>\n",
       "    </tr>\n",
       "    <tr>\n",
       "      <th>10</th>\n",
       "      <td>0.046307</td>\n",
       "      <td>0.059479</td>\n",
       "      <td>0.129071</td>\n",
       "      <td>0.105637</td>\n",
       "      <td>0.048284</td>\n",
       "      <td>0.072616</td>\n",
       "      <td>0.107396</td>\n",
       "      <td>0.104454</td>\n",
       "      <td>0.082201</td>\n",
       "      <td>0.076581</td>\n",
       "      <td>0.071778</td>\n",
       "      <td>0.052478</td>\n",
       "      <td>0.043719</td>\n",
       "    </tr>\n",
       "    <tr>\n",
       "      <th>11</th>\n",
       "      <td>0.060720</td>\n",
       "      <td>0.109927</td>\n",
       "      <td>0.065430</td>\n",
       "      <td>0.077435</td>\n",
       "      <td>0.117615</td>\n",
       "      <td>0.081409</td>\n",
       "      <td>0.060862</td>\n",
       "      <td>0.040708</td>\n",
       "      <td>0.108060</td>\n",
       "      <td>0.059558</td>\n",
       "      <td>0.084520</td>\n",
       "      <td>0.046120</td>\n",
       "      <td>0.087637</td>\n",
       "    </tr>\n",
       "    <tr>\n",
       "      <th>12</th>\n",
       "      <td>0.059644</td>\n",
       "      <td>0.144679</td>\n",
       "      <td>0.038982</td>\n",
       "      <td>0.032299</td>\n",
       "      <td>0.088046</td>\n",
       "      <td>0.067605</td>\n",
       "      <td>0.079952</td>\n",
       "      <td>0.121020</td>\n",
       "      <td>0.116021</td>\n",
       "      <td>0.068126</td>\n",
       "      <td>0.055388</td>\n",
       "      <td>0.025666</td>\n",
       "      <td>0.102571</td>\n",
       "    </tr>\n",
       "  </tbody>\n",
       "</table>\n",
       "</div>"
      ],
      "text/plain": [
       "          0         1         2         3         4         5         6   \\\n",
       "0   0.078753  0.119292  0.119697  0.064153  0.040009  0.045437  0.083756   \n",
       "1   0.090163  0.019251  0.130044  0.072473  0.073701  0.053700  0.096265   \n",
       "2   0.067984  0.111533  0.085226  0.044275  0.117343  0.085072  0.013285   \n",
       "3   0.120671  0.118142  0.069415  0.040785  0.084137  0.102803  0.012638   \n",
       "4   0.090058  0.036291  0.036944  0.072398  0.106737  0.061111  0.089575   \n",
       "5   0.095027  0.095678  0.072309  0.081359  0.068732  0.063248  0.051456   \n",
       "6   0.063438  0.025520  0.138195  0.066098  0.091801  0.072396  0.020776   \n",
       "7   0.094009  0.086843  0.024438  0.042588  0.137030  0.031259  0.138018   \n",
       "8   0.095118  0.101159  0.051361  0.023925  0.101552  0.098713  0.120386   \n",
       "9   0.046578  0.117230  0.047702  0.088786  0.093524  0.076205  0.056839   \n",
       "10  0.046307  0.059479  0.129071  0.105637  0.048284  0.072616  0.107396   \n",
       "11  0.060720  0.109927  0.065430  0.077435  0.117615  0.081409  0.060862   \n",
       "12  0.059644  0.144679  0.038982  0.032299  0.088046  0.067605  0.079952   \n",
       "\n",
       "          7         8         9         10        11        12  \n",
       "0   0.087049  0.048690  0.071131  0.110579  0.101338  0.030116  \n",
       "1   0.054207  0.140218  0.053053  0.063241  0.080190  0.073494  \n",
       "2   0.055800  0.071354  0.093848  0.030263  0.109977  0.114039  \n",
       "3   0.044615  0.086826  0.113371  0.040658  0.067180  0.098759  \n",
       "4   0.047092  0.074352  0.109097  0.093008  0.113466  0.069870  \n",
       "5   0.104576  0.102182  0.047950  0.060135  0.088157  0.069192  \n",
       "6   0.123675  0.027542  0.061582  0.136660  0.062419  0.109898  \n",
       "7   0.083113  0.110631  0.094922  0.039419  0.049152  0.068578  \n",
       "8   0.086019  0.035980  0.097307  0.050218  0.043410  0.094852  \n",
       "9   0.119477  0.104536  0.056070  0.067445  0.065150  0.060458  \n",
       "10  0.104454  0.082201  0.076581  0.071778  0.052478  0.043719  \n",
       "11  0.040708  0.108060  0.059558  0.084520  0.046120  0.087637  \n",
       "12  0.121020  0.116021  0.068126  0.055388  0.025666  0.102571  "
      ]
     },
     "execution_count": 53,
     "metadata": {},
     "output_type": "execute_result"
    }
   ],
   "source": [
    "pd.DataFrame(np.array(ind).reshape((13, 13)))"
   ]
  },
  {
   "cell_type": "markdown",
   "metadata": {
    "deletable": false,
    "editable": false,
    "nbgrader": {
     "cell_type": "markdown",
     "checksum": "e87a3e63eb016a5b78792f383830fdf8",
     "grade": false,
     "grade_id": "cell-ed54bd5c2ed3b4c9",
     "locked": true,
     "schema_version": 3,
     "solution": false,
     "task": false
    }
   },
   "source": [
    "#### Evaluation"
   ]
  },
  {
   "cell_type": "markdown",
   "metadata": {
    "deletable": false,
    "editable": false,
    "nbgrader": {
     "cell_type": "markdown",
     "checksum": "1a1b792c7eff4539e4669bd0724e6c1c",
     "grade": false,
     "grade_id": "cell-2abf141b9cfec916",
     "locked": true,
     "schema_version": 3,
     "solution": false,
     "task": false
    }
   },
   "source": [
    "Let's evaluate the fitness of this first generation:"
   ]
  },
  {
   "cell_type": "code",
   "execution_count": 54,
   "metadata": {
    "deletable": false,
    "editable": false,
    "nbgrader": {
     "cell_type": "code",
     "checksum": "ea95175912a1d7fe4b387157268a56af",
     "grade": false,
     "grade_id": "cell-805d05e390b962c0",
     "locked": true,
     "schema_version": 3,
     "solution": false,
     "task": false
    }
   },
   "outputs": [],
   "source": [
    "# Evaluate the entire population\n",
    "fitnesses = [toolbox.evaluate(ind) for ind in pop]\n",
    "for ind, fit in zip(pop, fitnesses):\n",
    "    ind.fitness.values = fit\n",
    "    fitness[len(all_inds), :] = fit\n",
    "    all_inds.append(ind)"
   ]
  },
  {
   "cell_type": "code",
   "execution_count": 55,
   "metadata": {
    "deletable": false,
    "editable": false,
    "nbgrader": {
     "cell_type": "code",
     "checksum": "47f4747c256c68860c08f41753d100b1",
     "grade": false,
     "grade_id": "cell-74afd6263b29720a",
     "locked": true,
     "schema_version": 3,
     "solution": false,
     "task": false
    }
   },
   "outputs": [
    {
     "data": {
      "text/plain": [
       "[(56142, 36000),\n",
       " (54256, 39000),\n",
       " (52317, 39000),\n",
       " (60177, 39000),\n",
       " (54492, 39000),\n",
       " (52873, 39000),\n",
       " (58679, 39000),\n",
       " (55148, 36000),\n",
       " (53737, 39000),\n",
       " (57499, 39000)]"
      ]
     },
     "execution_count": 55,
     "metadata": {},
     "output_type": "execute_result"
    }
   ],
   "source": [
    "fitnesses[:10]"
   ]
  },
  {
   "cell_type": "markdown",
   "metadata": {
    "deletable": false,
    "editable": false,
    "nbgrader": {
     "cell_type": "markdown",
     "checksum": "d2d23573fb829b09107c6b28ab7c3806",
     "grade": false,
     "grade_id": "cell-d62f84a9dba35791",
     "locked": true,
     "schema_version": 3,
     "solution": false,
     "task": false
    }
   },
   "source": [
    "#### Selection"
   ]
  },
  {
   "cell_type": "code",
   "execution_count": 56,
   "metadata": {
    "deletable": false,
    "editable": false,
    "nbgrader": {
     "cell_type": "code",
     "checksum": "cafe07084590978f698bbea1466bc559",
     "grade": false,
     "grade_id": "cell-0bc3e45ccd300ed1",
     "locked": true,
     "schema_version": 3,
     "solution": false,
     "task": false
    }
   },
   "outputs": [],
   "source": [
    "# Selection (it's more about setting the crowding distance, since we retain everyone)\n",
    "pop = toolbox.select(pop, len(pop))"
   ]
  },
  {
   "cell_type": "markdown",
   "metadata": {
    "deletable": false,
    "editable": false,
    "nbgrader": {
     "cell_type": "markdown",
     "checksum": "1d013ea7892c348e7a4dc612e6ab81b1",
     "grade": false,
     "grade_id": "cell-b4d2bfee9177a77f",
     "locked": true,
     "schema_version": 3,
     "solution": false,
     "task": false
    }
   },
   "source": [
    "#### Logging the performance"
   ]
  },
  {
   "cell_type": "code",
   "execution_count": 57,
   "metadata": {
    "deletable": false,
    "editable": false,
    "nbgrader": {
     "cell_type": "code",
     "checksum": "bff796217d169c86969c33c325f6f123",
     "grade": false,
     "grade_id": "cell-6988b50226b1e3cf",
     "locked": true,
     "schema_version": 3,
     "solution": false,
     "task": false
    }
   },
   "outputs": [
    {
     "name": "stdout",
     "output_type": "stream",
     "text": [
      "gen\tnevals\tavg                    \tmin            \tmax            \n",
      "0  \t32    \t[58257.0625 38343.75  ]\t[50848. 33000.]\t[67975. 39000.]\n"
     ]
    }
   ],
   "source": [
    "# Performance of the first population\n",
    "record = stats.compile(pop) if stats else {}\n",
    "logbook.record(gen=0, nevals=popsize, **record)\n",
    "print(logbook.stream)\n",
    "hof.update(pop)"
   ]
  },
  {
   "cell_type": "markdown",
   "metadata": {
    "deletable": false,
    "editable": false,
    "nbgrader": {
     "cell_type": "markdown",
     "checksum": "90c1ed0da8e9feb2e95c9968e8ad46d1",
     "grade": false,
     "grade_id": "cell-ed837ee804bb8588",
     "locked": true,
     "schema_version": 3,
     "solution": false,
     "task": false
    }
   },
   "source": [
    "#### Iterating over generations"
   ]
  },
  {
   "cell_type": "code",
   "execution_count": 58,
   "metadata": {
    "deletable": false,
    "editable": false,
    "nbgrader": {
     "cell_type": "code",
     "checksum": "d98defa52d0ca64fa8326e5e90aca614",
     "grade": false,
     "grade_id": "cell-d7c73ff387fe2d90",
     "locked": true,
     "schema_version": 3,
     "solution": false,
     "task": false
    }
   },
   "outputs": [
    {
     "name": "stdout",
     "output_type": "stream",
     "text": [
      "Generation : 10 of 480\n",
      "1  \t32    \t[77457.15625 35625.     ]\t[50848. 30000.]\t[153869.  39000.]\n",
      "2  \t32    \t[76166.8125 35437.5   ]  \t[50848. 30000.]\t[158262.  39000.]\n",
      "3  \t32    \t[77381.75 35156.25]      \t[50848. 30000.]\t[158262.  39000.]\n",
      "4  \t32    \t[78012.40625 34406.25   ]\t[50848. 27000.]\t[158262.  39000.]\n",
      "5  \t32    \t[78131.8125 34031.25  ]  \t[50848. 27000.]\t[153869.  39000.]\n",
      "6  \t32    \t[74870.3125 34031.25  ]  \t[50848. 27000.]\t[132045.  39000.]\n",
      "7  \t32    \t[73117.78125 34031.25   ]\t[47867. 27000.]\t[131292.  39000.]\n",
      "8  \t32    \t[72596.3125 33656.25  ]  \t[47867. 27000.]\t[127795.  39000.]\n",
      "9  \t32    \t[72367.9375 33281.25  ]  \t[47867. 27000.]\t[144329.  39000.]\n",
      "10 \t32    \t[72186.3125 33093.75  ]  \t[47867. 27000.]\t[144329.  39000.]\n",
      "Generation : 20 of 480\n",
      "11 \t32    \t[71181.78125 32906.25   ]\t[47867. 24000.]\t[127795.  39000.]\n",
      "12 \t32    \t[70893.625 32812.5  ]    \t[47867. 24000.]\t[127795.  39000.]\n",
      "13 \t32    \t[70611.53125 32718.75   ]\t[47867. 24000.]\t[127405.  39000.]\n",
      "14 \t32    \t[70173.75 32718.75]      \t[47867. 24000.]\t[127405.  39000.]\n",
      "15 \t32    \t[70716.15625 32250.     ]\t[47867. 24000.]\t[127405.  39000.]\n",
      "16 \t32    \t[70298.25 32250.  ]      \t[47867. 24000.]\t[127405.  39000.]\n",
      "17 \t32    \t[69658.78125 32343.75   ]\t[47867. 24000.]\t[127405.  39000.]\n",
      "18 \t32    \t[69321.46875 32343.75   ]\t[47867. 24000.]\t[127405.  39000.]\n",
      "19 \t32    \t[72101.21875 31687.5    ]\t[47867. 24000.]\t[127405.  39000.]\n",
      "20 \t32    \t[71585.6875 31687.5   ]  \t[47867. 24000.]\t[127405.  39000.]\n",
      "Generation : 30 of 480\n",
      "21 \t32    \t[73173.25 31312.5 ]      \t[47867. 24000.]\t[127405.  39000.]\n",
      "22 \t32    \t[74032.59375 31031.25   ]\t[47867. 21000.]\t[127405.  39000.]\n",
      "23 \t32    \t[74032.59375 31031.25   ]\t[47867. 21000.]\t[127405.  39000.]\n",
      "24 \t32    \t[75844.90625 30468.75   ]\t[47867. 18000.]\t[127405.  39000.]\n",
      "25 \t32    \t[74992.96875 30468.75   ]\t[47867. 18000.]\t[125299.  39000.]\n",
      "26 \t32    \t[75420.625 30000.   ]    \t[45253. 18000.]\t[125299.  39000.]\n",
      "27 \t32    \t[71850.65625 30281.25   ]\t[45253. 18000.]\t[123585.  39000.]\n",
      "28 \t32    \t[73547.75 29718.75]      \t[45253. 18000.]\t[135433.  39000.]\n",
      "29 \t32    \t[71925.09375 29718.75   ]\t[45253. 18000.]\t[135433.  39000.]\n",
      "30 \t32    \t[71541.4375 29812.5   ]  \t[45253. 18000.]\t[135433.  39000.]\n",
      "Generation : 40 of 480\n",
      "31 \t32    \t[70480.8125 29718.75  ]  \t[45253. 18000.]\t[135433.  39000.]\n",
      "32 \t32    \t[68618.25 29531.25]      \t[45253. 18000.]\t[135433.  39000.]\n",
      "33 \t32    \t[66915.375 29437.5  ]    \t[45253. 18000.]\t[135433.  39000.]\n",
      "34 \t32    \t[65383.0625 29625.    ]  \t[45253. 18000.]\t[135433.  39000.]\n",
      "35 \t32    \t[63908.84375 29812.5    ]\t[45253. 18000.]\t[135433.  39000.]\n",
      "36 \t32    \t[65882.40625 29343.75   ]\t[42485. 18000.]\t[135433.  39000.]\n",
      "37 \t32    \t[66829.125 28968.75 ]    \t[42485. 18000.]\t[135433.  39000.]\n",
      "38 \t32    \t[66546.1875 28500.    ]  \t[42485. 18000.]\t[135433.  39000.]\n",
      "39 \t32    \t[66546.1875 28500.    ]  \t[42485. 18000.]\t[135433.  39000.]\n",
      "40 \t32    \t[65366.0625 28500.    ]  \t[42485. 18000.]\t[129220.  39000.]\n",
      "Generation : 50 of 480\n",
      "41 \t32    \t[64741.21875 28312.5    ]\t[42485. 18000.]\t[129220.  39000.]\n",
      "42 \t32    \t[64344.25 28218.75]      \t[42485. 18000.]\t[129220.  39000.]\n",
      "43 \t32    \t[65762.625 27937.5  ]    \t[42485. 18000.]\t[129220.  39000.]\n",
      "44 \t32    \t[64608.84375 27937.5    ]\t[42485. 18000.]\t[129220.  39000.]\n",
      "45 \t32    \t[63883.875 27937.5  ]    \t[42485. 18000.]\t[129220.  39000.]\n",
      "46 \t32    \t[65900.5  27468.75]      \t[42485. 18000.]\t[129220.  39000.]\n",
      "47 \t32    \t[65223.25 27750.  ]      \t[38513. 18000.]\t[129220.  39000.]\n",
      "48 \t32    \t[65223.25 27750.  ]      \t[38513. 18000.]\t[129220.  39000.]\n",
      "49 \t32    \t[65425.09375 27375.     ]\t[38513. 18000.]\t[129220.  39000.]\n",
      "50 \t32    \t[63235.90625 27750.     ]\t[37062. 18000.]\t[129220.  39000.]\n",
      "Generation : 60 of 480\n",
      "51 \t32    \t[62957.53125 27750.     ]\t[37062. 18000.]\t[129220.  39000.]\n",
      "52 \t32    \t[62957.53125 27750.     ]\t[37062. 18000.]\t[129220.  39000.]\n",
      "53 \t32    \t[62759.5 27937.5]        \t[37062. 18000.]\t[129220.  39000.]\n",
      "54 \t32    \t[62052.84375 28218.75   ]\t[37062. 18000.]\t[129220.  39000.]\n",
      "55 \t32    \t[62003.0625 28218.75  ]  \t[37062. 18000.]\t[129220.  39000.]\n",
      "56 \t32    \t[62003.0625 28218.75  ]  \t[37062. 18000.]\t[129220.  39000.]\n",
      "57 \t32    \t[62003.0625 28218.75  ]  \t[37062. 18000.]\t[129220.  39000.]\n",
      "58 \t32    \t[61816.84375 27937.5    ]\t[37062. 18000.]\t[129220.  39000.]\n",
      "59 \t32    \t[60434.0625 28125.    ]  \t[37062. 18000.]\t[115504.  39000.]\n",
      "60 \t32    \t[59474.21875 28125.     ]\t[37062. 18000.]\t[113866.  39000.]\n",
      "Generation : 70 of 480\n",
      "61 \t32    \t[58468.8125 28125.    ]  \t[37062. 18000.]\t[113845.  39000.]\n",
      "62 \t32    \t[57627.   27843.75]      \t[37062. 18000.]\t[112451.  39000.]\n",
      "63 \t32    \t[57800.9375 27656.25  ]  \t[37062. 18000.]\t[112451.  39000.]\n",
      "64 \t32    \t[55716.125 27843.75 ]    \t[37062. 18000.]\t[104469.  39000.]\n",
      "65 \t32    \t[55723.125 27562.5  ]    \t[37062. 15000.]\t[107512.  39000.]\n",
      "66 \t32    \t[55687.9375 27281.25  ]  \t[37062. 15000.]\t[107512.  39000.]\n",
      "67 \t32    \t[54948.96875 27187.5    ]\t[37062. 15000.]\t[107512.  39000.]\n",
      "68 \t32    \t[54698.625 27093.75 ]    \t[37062. 15000.]\t[107512.  39000.]\n",
      "69 \t32    \t[54290.75 27000.  ]      \t[37062. 15000.]\t[107512.  39000.]\n",
      "70 \t32    \t[54273.9375 27000.    ]  \t[37062. 15000.]\t[107512.  39000.]\n",
      "Generation : 80 of 480\n",
      "71 \t32    \t[54458.53125 26343.75   ]\t[37062. 15000.]\t[107512.  39000.]\n",
      "72 \t32    \t[54160.4375 26343.75  ]  \t[37062. 15000.]\t[107512.  39000.]\n",
      "73 \t32    \t[53962.25 26250.  ]      \t[37062. 15000.]\t[107512.  39000.]\n",
      "74 \t32    \t[52263.34375 26625.     ]\t[37062. 15000.]\t[107512.  39000.]\n",
      "75 \t32    \t[52916.21875 26437.5    ]\t[37062. 15000.]\t[107512.  39000.]\n",
      "76 \t32    \t[52788.28125 26437.5    ]\t[37062. 15000.]\t[107512.  39000.]\n",
      "77 \t32    \t[52920.09375 26437.5    ]\t[37062. 15000.]\t[107512.  39000.]\n",
      "78 \t32    \t[53468.03125 26250.     ]\t[37062. 15000.]\t[107512.  39000.]\n",
      "79 \t32    \t[53357.1875 26343.75  ]  \t[37062. 15000.]\t[107512.  39000.]\n",
      "80 \t32    \t[51183.  26437.5]        \t[37062. 15000.]\t[85981. 39000.]  \n",
      "Generation : 90 of 480\n",
      "81 \t32    \t[51151.78125 26062.5    ]\t[37062. 15000.]\t[85981. 39000.]  \n",
      "82 \t32    \t[50970.71875 26062.5    ]\t[37062. 15000.]\t[85981. 39000.]  \n",
      "83 \t32    \t[50529.34375 26062.5    ]\t[37062. 15000.]\t[81450. 39000.]  \n",
      "84 \t32    \t[49974.9375 26343.75  ]  \t[37062. 15000.]\t[81450. 39000.]  \n",
      "85 \t32    \t[49921.3125 26437.5   ]  \t[37062. 15000.]\t[81450. 39000.]  \n",
      "86 \t32    \t[49796.90625 26437.5    ]\t[37062. 15000.]\t[81450. 39000.]  \n",
      "87 \t32    \t[48980.46875 27000.     ]\t[37062. 15000.]\t[81450. 39000.]  \n",
      "88 \t32    \t[48637.75 26625.  ]      \t[37062. 15000.]\t[80608. 39000.]  \n",
      "89 \t32    \t[48590.75 26531.25]      \t[37062. 15000.]\t[80608. 39000.]  \n",
      "90 \t32    \t[48000.84375 26343.75   ]\t[37062. 15000.]\t[80608. 39000.]  \n",
      "Generation : 100 of 480\n",
      "91 \t32    \t[48312.5625 26062.5   ]  \t[36286. 15000.]\t[80608. 39000.]  \n",
      "92 \t32    \t[47915.65625 26062.5    ]\t[36286. 15000.]\t[73816. 39000.]  \n",
      "93 \t32    \t[48292.625 25500.   ]    \t[36119. 15000.]\t[73816. 39000.]  \n",
      "94 \t32    \t[48878.84375 24562.5    ]\t[30450. 15000.]\t[73816. 39000.]  \n",
      "95 \t32    \t[48296.46875 24468.75   ]\t[30450. 15000.]\t[73816. 39000.]  \n",
      "96 \t32    \t[48563.875 24000.   ]    \t[30450. 15000.]\t[71269. 39000.]  \n",
      "97 \t32    \t[47345.0625 24000.    ]  \t[30450. 15000.]\t[71269. 39000.]  \n",
      "98 \t32    \t[46792.625 23812.5  ]    \t[30450. 15000.]\t[69828. 39000.]  \n",
      "99 \t32    \t[45441.34375 24281.25   ]\t[30450. 15000.]\t[68716. 39000.]  \n",
      "100\t32    \t[44698.75 24750.  ]      \t[30450. 15000.]\t[68716. 39000.]  \n",
      "Generation : 110 of 480\n",
      "101\t32    \t[45247.78125 24281.25   ]\t[30450. 15000.]\t[80056. 39000.]  \n",
      "102\t32    \t[45047.4375 24000.    ]  \t[30450. 15000.]\t[80056. 36000.]  \n",
      "103\t32    \t[44842.21875 23437.5    ]\t[30450. 15000.]\t[80056. 36000.]  \n",
      "104\t32    \t[44026.625 23718.75 ]    \t[30450. 15000.]\t[68716. 36000.]  \n",
      "105\t32    \t[43666.34375 23625.     ]\t[30450. 15000.]\t[68716. 36000.]  \n",
      "106\t32    \t[42927.59375 23718.75   ]\t[30450. 15000.]\t[68614. 33000.]  \n",
      "107\t32    \t[42659.28125 23531.25   ]\t[30450. 15000.]\t[68614. 33000.]  \n",
      "108\t32    \t[42195.34375 23250.     ]\t[30450. 15000.]\t[68614. 33000.]  \n",
      "109\t32    \t[42006.375 23250.   ]    \t[30450. 15000.]\t[68574. 33000.]  \n",
      "110\t32    \t[41668.5625 23437.5   ]  \t[30450. 15000.]\t[68574. 36000.]  \n",
      "Generation : 120 of 480\n",
      "111\t32    \t[41148.5625 23718.75  ]  \t[30450. 15000.]\t[68574. 36000.]  \n",
      "112\t32    \t[41290.8125 23343.75  ]  \t[30450. 15000.]\t[68574. 33000.]  \n",
      "113\t32    \t[40357.25 23531.25]      \t[30450. 15000.]\t[66270. 33000.]  \n",
      "114\t32    \t[40012.375 23343.75 ]    \t[28828. 15000.]\t[65313. 33000.]  \n",
      "115\t32    \t[39519.90625 23343.75   ]\t[28828. 15000.]\t[64073. 33000.]  \n",
      "116\t32    \t[38294.8125 23156.25  ]  \t[28828. 15000.]\t[62125. 33000.]  \n",
      "117\t32    \t[37945.78125 23250.     ]\t[28828. 15000.]\t[59335. 33000.]  \n",
      "118\t32    \t[37217.90625 23062.5    ]\t[27705. 15000.]\t[59335. 33000.]  \n",
      "119\t32    \t[35258.25 23812.5 ]      \t[27705. 15000.]\t[58810. 33000.]  \n",
      "120\t32    \t[34857.40625 23718.75   ]\t[23664. 15000.]\t[58810. 33000.]  \n",
      "Generation : 130 of 480\n",
      "121\t32    \t[35243.3125 23437.5   ]  \t[23664. 15000.]\t[58810. 33000.]  \n",
      "122\t32    \t[33178.875 24187.5  ]    \t[23664. 15000.]\t[54536. 33000.]  \n",
      "123\t32    \t[32653.59375 23906.25   ]\t[23664. 15000.]\t[49273. 33000.]  \n",
      "124\t32    \t[31790.34375 24000.     ]\t[23664. 15000.]\t[46969. 33000.]  \n",
      "125\t32    \t[31791.21875 23906.25   ]\t[23664. 15000.]\t[46969. 33000.]  \n",
      "126\t32    \t[31105.4375 23906.25  ]  \t[23664. 15000.]\t[42078. 33000.]  \n",
      "127\t32    \t[30818.875 23718.75 ]    \t[23664. 15000.]\t[42078. 33000.]  \n",
      "128\t32    \t[30871.25 23343.75]      \t[23664. 15000.]\t[42078. 33000.]  \n",
      "129\t32    \t[30414.125 23625.   ]    \t[23664. 15000.]\t[40431. 33000.]  \n",
      "130\t32    \t[29799.75 24093.75]      \t[20589. 15000.]\t[38669. 33000.]  \n",
      "Generation : 140 of 480\n",
      "131\t32    \t[29086.96875 24281.25   ]\t[19602. 15000.]\t[36910. 33000.]  \n",
      "132\t32    \t[28693.6875 23718.75  ]  \t[19602. 15000.]\t[36224. 33000.]  \n",
      "133\t32    \t[28388.5625 23625.    ]  \t[19602. 15000.]\t[36224. 33000.]  \n",
      "134\t32    \t[28477.96875 23156.25   ]\t[19602. 15000.]\t[36224. 33000.]  \n",
      "135\t32    \t[27910.46875 23531.25   ]\t[19602. 15000.]\t[35405. 33000.]  \n",
      "136\t32    \t[27511.84375 23343.75   ]\t[19602. 15000.]\t[34634. 33000.]  \n",
      "137\t32    \t[26912.59375 23718.75   ]\t[19602. 15000.]\t[33166. 33000.]  \n",
      "138\t32    \t[26476. 23625.]          \t[19602. 15000.]\t[32688. 33000.]  \n",
      "139\t32    \t[25862.40625 24187.5    ]\t[19602. 15000.]\t[31016. 33000.]  \n",
      "140\t32    \t[25366.71875 24000.     ]\t[18565. 15000.]\t[30946. 33000.]  \n",
      "Generation : 150 of 480\n",
      "141\t32    \t[25213.15625 23718.75   ]\t[18565. 15000.]\t[30946. 33000.]  \n",
      "142\t32    \t[25006.34375 23718.75   ]\t[18565. 15000.]\t[30946. 33000.]  \n",
      "143\t32    \t[24776.09375 23812.5    ]\t[18565. 15000.]\t[30946. 33000.]  \n",
      "144\t32    \t[24476.5625 24000.    ]  \t[18436. 15000.]\t[30904. 33000.]  \n",
      "145\t32    \t[24217.25 24187.5 ]      \t[18436. 15000.]\t[30804. 33000.]  \n",
      "146\t32    \t[24032.15625 24187.5    ]\t[18436. 15000.]\t[30782. 33000.]  \n",
      "147\t32    \t[23973.5625 24187.5   ]  \t[18436. 15000.]\t[30782. 33000.]  \n",
      "148\t32    \t[22860.84375 25312.5    ]\t[18436. 15000.]\t[27483. 33000.]  \n",
      "149\t32    \t[22431.0625 25406.25  ]  \t[18436. 15000.]\t[27483. 33000.]  \n",
      "150\t32    \t[22460.46875 24937.5    ]\t[18436. 15000.]\t[27483. 33000.]  \n",
      "Generation : 160 of 480\n",
      "151\t32    \t[21975.25 25406.25]      \t[18436. 15000.]\t[27174. 33000.]  \n",
      "152\t32    \t[22332.78125 24000.     ]\t[18436. 15000.]\t[27174. 33000.]  \n",
      "153\t32    \t[21799.40625 24375.     ]\t[18436. 15000.]\t[27098. 33000.]  \n",
      "154\t32    \t[21492.34375 24843.75   ]\t[17825. 15000.]\t[26012. 33000.]  \n",
      "155\t32    \t[21393.125 24375.   ]    \t[17664. 15000.]\t[25355. 33000.]  \n",
      "156\t32    \t[21297.625 24187.5  ]    \t[17664. 15000.]\t[25355. 33000.]  \n",
      "157\t32    \t[21120.3125 24375.    ]  \t[17664. 15000.]\t[25030. 33000.]  \n",
      "158\t32    \t[21027.8125 24281.25  ]  \t[17664. 15000.]\t[25030. 33000.]  \n",
      "159\t32    \t[21047.71875 23437.5    ]\t[17660. 15000.]\t[24999. 33000.]  \n",
      "160\t32    \t[20684.375 23343.75 ]    \t[17660. 15000.]\t[24999. 33000.]  \n",
      "Generation : 170 of 480\n",
      "161\t32    \t[20444.25 23250.  ]      \t[17660. 15000.]\t[24969. 33000.]  \n",
      "162\t32    \t[20068.09375 23250.     ]\t[16180. 15000.]\t[24770. 33000.]  \n",
      "163\t32    \t[20160.90625 22406.25   ]\t[16180. 15000.]\t[24770. 33000.]  \n",
      "164\t32    \t[19954.375 22500.   ]    \t[16180. 15000.]\t[24770. 33000.]  \n",
      "165\t32    \t[20024.65625 21843.75   ]\t[16180. 15000.]\t[24328. 33000.]  \n",
      "166\t32    \t[19884.71875 22593.75   ]\t[16180. 15000.]\t[24328. 33000.]  \n",
      "167\t32    \t[19529.4375 22406.25  ]  \t[16021. 15000.]\t[23955. 33000.]  \n",
      "168\t32    \t[19486.46875 22406.25   ]\t[16021. 15000.]\t[23955. 33000.]  \n",
      "169\t32    \t[19336.4375 22781.25  ]  \t[16010. 15000.]\t[23955. 33000.]  \n",
      "170\t32    \t[19067.84375 22875.     ]\t[16010. 15000.]\t[23881. 33000.]  \n",
      "Generation : 180 of 480\n",
      "171\t32    \t[18965.8125 22500.    ]  \t[16010. 15000.]\t[23557. 33000.]  \n",
      "172\t32    \t[18466.46875 23250.     ]\t[16010. 15000.]\t[23276. 33000.]  \n",
      "173\t32    \t[19506.   22031.25]      \t[16010. 12000.]\t[34612. 33000.]  \n",
      "174\t32    \t[19169.625 22500.   ]    \t[16010. 12000.]\t[34612. 33000.]  \n",
      "175\t32    \t[20357.4375 21843.75  ]  \t[16010. 12000.]\t[39879. 33000.]  \n",
      "176\t32    \t[21125.03125 22406.25   ]\t[16010. 12000.]\t[40419. 33000.]  \n",
      "177\t32    \t[22271.90625 20906.25   ]\t[16010. 12000.]\t[39879. 33000.]  \n",
      "178\t32    \t[21901.375 21093.75 ]    \t[16010. 12000.]\t[36216. 33000.]  \n",
      "179\t32    \t[23001.5625 19968.75  ]  \t[15407. 12000.]\t[41531. 33000.]  \n",
      "180\t32    \t[20075.5  21843.75]      \t[15407. 12000.]\t[34208. 33000.]  \n",
      "Generation : 190 of 480\n",
      "181\t32    \t[19105.53125 22687.5    ]\t[15210. 12000.]\t[32930. 33000.]  \n",
      "182\t32    \t[20896.71875 18000.     ]\t[14896. 12000.]\t[32930. 33000.]  \n",
      "183\t32    \t[22118.40625 16312.5    ]\t[14896. 12000.]\t[32930. 24000.]  \n",
      "184\t32    \t[22721.5 15937.5]        \t[14129. 12000.]\t[32850. 21000.]  \n",
      "185\t32    \t[22693.40625 15843.75   ]\t[14129. 12000.]\t[32076. 21000.]  \n",
      "186\t32    \t[22134.4375 15750.    ]  \t[14129. 12000.]\t[31339. 21000.]  \n",
      "187\t32    \t[20295.4375 16593.75  ]  \t[14129. 12000.]\t[30826. 21000.]  \n",
      "188\t32    \t[19747.375 16687.5  ]    \t[14129. 12000.]\t[29586. 24000.]  \n",
      "189\t32    \t[18064.875 17437.5  ]    \t[14129. 12000.]\t[28790. 24000.]  \n",
      "190\t32    \t[17324.75 17812.5 ]      \t[13977. 12000.]\t[28546. 21000.]  \n",
      "Generation : 200 of 480\n",
      "191\t32    \t[16541.75 18562.5 ]      \t[13977. 12000.]\t[26877. 21000.]  \n",
      "192\t32    \t[15170.75 19781.25]      \t[13977. 12000.]\t[25083. 21000.]  \n",
      "193\t32    \t[16426.25 18750.  ]      \t[13923. 12000.]\t[28908. 21000.]  \n",
      "194\t32    \t[16995.53125 18000.     ]\t[13923. 12000.]\t[25205. 21000.]  \n",
      "195\t32    \t[16875.5625 17906.25  ]  \t[13923. 12000.]\t[24511. 24000.]  \n",
      "196\t32    \t[18774.28125 15750.     ]\t[13286. 12000.]\t[25670. 21000.]  \n",
      "197\t32    \t[20358.375 13968.75 ]    \t[13049. 12000.]\t[24591. 21000.]  \n",
      "198\t32    \t[18441.65625 14718.75   ]\t[13049. 12000.]\t[24297. 21000.]  \n",
      "199\t32    \t[19930.21875 13968.75   ]\t[13049. 12000.]\t[24249. 21000.]  \n",
      "200\t32    \t[17879.03125 14718.75   ]\t[13049. 12000.]\t[24063. 21000.]  \n",
      "Generation : 210 of 480\n",
      "201\t32    \t[16430.8125 15281.25  ]  \t[13049. 12000.]\t[23993. 21000.]  \n",
      "202\t32    \t[15094.03125 15562.5    ]\t[13049. 12000.]\t[23872. 21000.]  \n",
      "203\t32    \t[14341.78125 15000.     ]\t[13049. 12000.]\t[23722. 21000.]  \n",
      "204\t32    \t[15211.625 14343.75 ]    \t[12857. 12000.]\t[23722. 15000.]  \n",
      "205\t32    \t[17031.8125 13781.25  ]  \t[12650. 12000.]\t[23722. 15000.]  \n",
      "206\t32    \t[15683.875 14156.25 ]    \t[12650. 12000.]\t[22605. 15000.]  \n",
      "207\t32    \t[14456.71875 14531.25   ]\t[12650. 12000.]\t[22549. 15000.]  \n",
      "208\t32    \t[14731.59375 14437.5    ]\t[12650. 12000.]\t[22549. 15000.]  \n",
      "209\t32    \t[14678.4375 14437.5   ]  \t[12650. 12000.]\t[22316. 15000.]  \n",
      "210\t32    \t[15788.78125 14062.5    ]\t[12650. 12000.]\t[22669. 15000.]  \n",
      "Generation : 220 of 480\n",
      "211\t32    \t[15123.65625 14250.     ]\t[12650. 12000.]\t[22215. 15000.]  \n",
      "212\t32    \t[15347.03125 14156.25   ]\t[11975. 12000.]\t[22049. 15000.]  \n",
      "213\t32    \t[16465.59375 13781.25   ]\t[11975. 12000.]\t[22049. 15000.]  \n",
      "214\t32    \t[14967.25 14250.  ]      \t[11975. 12000.]\t[22033. 15000.]  \n",
      "215\t32    \t[14039.46875 14531.25   ]\t[11975. 12000.]\t[21976. 15000.]  \n",
      "216\t32    \t[13641.3125 14625.    ]  \t[11975. 12000.]\t[21550. 15000.]  \n",
      "217\t32    \t[13548.9375 14625.    ]  \t[11975. 12000.]\t[21416. 15000.]  \n",
      "218\t32    \t[13681.40625 14531.25   ]\t[11975. 12000.]\t[21416. 15000.]  \n",
      "219\t32    \t[13731.  14437.5]        \t[11975. 12000.]\t[21416. 15000.]  \n",
      "220\t32    \t[13628.375 14437.5  ]    \t[11975. 12000.]\t[21201. 15000.]  \n",
      "Generation : 230 of 480\n",
      "221\t32    \t[12511.75 14812.5 ]      \t[11975. 12000.]\t[20563. 15000.]  \n",
      "222\t32    \t[13101.90625 14625.     ]\t[11757. 12000.]\t[22590. 15000.]  \n",
      "223\t32    \t[13957.15625 14343.75   ]\t[11757. 12000.]\t[22590. 15000.]  \n",
      "224\t32    \t[15348.1875 13875.    ]  \t[11638. 12000.]\t[22590. 15000.]  \n",
      "225\t32    \t[15095.875 13875.   ]    \t[11638. 12000.]\t[20651. 15000.]  \n",
      "226\t32    \t[13156.   14531.25]      \t[11638. 12000.]\t[20563. 15000.]  \n",
      "227\t32    \t[13671.   14343.75]      \t[11236. 12000.]\t[23032. 15000.]  \n",
      "228\t32    \t[13826.0625 14250.    ]  \t[11236. 12000.]\t[20563. 15000.]  \n",
      "229\t32    \t[13180.46875 14437.5    ]\t[11236. 12000.]\t[19972. 15000.]  \n",
      "230\t32    \t[14128.1875 14062.5   ]  \t[11236. 12000.]\t[19972. 15000.]  \n",
      "Generation : 240 of 480\n",
      "231\t32    \t[15324.5  13593.75]      \t[11236. 12000.]\t[19972. 15000.]  \n",
      "232\t32    \t[15730.1875 13406.25  ]  \t[11236. 12000.]\t[19808. 15000.]  \n",
      "233\t32    \t[13314.5625 14250.    ]  \t[11236. 12000.]\t[19524. 15000.]  \n",
      "234\t32    \t[11984.8125 14718.75  ]  \t[11227. 12000.]\t[19279. 15000.]  \n",
      "235\t32    \t[12733.90625 14437.5    ]\t[11227. 12000.]\t[19279. 15000.]  \n",
      "236\t32    \t[14345.125 13968.75 ]    \t[11170. 12000.]\t[28877. 15000.]  \n",
      "237\t32    \t[16105.   13218.75]      \t[11170. 12000.]\t[21280. 15000.]  \n",
      "238\t32    \t[16695.96875 12937.5    ]\t[11170. 12000.]\t[19279. 15000.]  \n",
      "239\t32    \t[16933.84375 12843.75   ]\t[11170. 12000.]\t[19200. 15000.]  \n",
      "240\t32    \t[15667.21875 13312.5    ]\t[11170. 12000.]\t[19200. 15000.]  \n",
      "Generation : 250 of 480\n",
      "241\t32    \t[13183.15625 14250.     ]\t[11170. 12000.]\t[19200. 15000.]  \n",
      "242\t32    \t[12296.3125 14531.25  ]  \t[11135. 12000.]\t[18845. 15000.]  \n",
      "243\t32    \t[12948.21875 14250.     ]\t[10887. 12000.]\t[19615. 15000.]  \n",
      "244\t32    \t[13800.65625 13875.     ]\t[10887. 12000.]\t[19615. 15000.]  \n",
      "245\t32    \t[12707.15625 14250.     ]\t[10887. 12000.]\t[18298. 15000.]  \n",
      "246\t32    \t[14223.28125 13500.     ]\t[10887. 12000.]\t[18298. 15000.]  \n",
      "247\t32    \t[14303.6875 13312.5   ]  \t[10887. 12000.]\t[17165. 15000.]  \n",
      "248\t32    \t[12145.375 14437.5  ]    \t[10887. 12000.]\t[16737. 15000.]  \n",
      "249\t32    \t[11945.0625 14531.25  ]  \t[10887. 12000.]\t[16713. 15000.]  \n",
      "250\t32    \t[12262.3125 14343.75  ]  \t[10887. 12000.]\t[16713. 15000.]  \n",
      "Generation : 260 of 480\n",
      "251\t32    \t[12039.125 14437.5  ]    \t[10887. 12000.]\t[16225. 15000.]  \n",
      "252\t32    \t[12802.25 13968.75]      \t[10887. 12000.]\t[16225. 15000.]  \n",
      "253\t32    \t[14191.25 13125.  ]      \t[10887. 12000.]\t[16326. 15000.]  \n",
      "254\t32    \t[15687.9375 12187.5   ]  \t[10887. 12000.]\t[16008. 15000.]  \n",
      "255\t32    \t[15367.875 12375.   ]    \t[10887. 12000.]\t[16008. 15000.]  \n",
      "256\t32    \t[14887.78125 12656.25   ]\t[10887. 12000.]\t[16008. 15000.]  \n",
      "257\t32    \t[14087.625 13125.   ]    \t[10887. 12000.]\t[16008. 15000.]  \n",
      "258\t32    \t[12572.96875 13968.75   ]\t[10886. 12000.]\t[16008. 15000.]  \n",
      "259\t32    \t[11378.40625 14625.     ]\t[10886. 12000.]\t[16008. 15000.]  \n",
      "260\t32    \t[12006.25 14250.  ]      \t[10794. 12000.]\t[18087. 15000.]  \n",
      "Generation : 270 of 480\n",
      "261\t32    \t[12580.28125 13781.25   ]\t[10794. 12000.]\t[16008. 15000.]  \n",
      "262\t32    \t[12106.125 13875.   ]    \t[10794. 12000.]\t[15871. 15000.]  \n",
      "263\t32    \t[13174.78125 12843.75   ]\t[10794. 12000.]\t[15871. 15000.]  \n",
      "264\t32    \t[12389.  13312.5]        \t[10794. 12000.]\t[13629. 15000.]  \n",
      "265\t32    \t[11417.34375 14343.75   ]\t[10794. 12000.]\t[13629. 15000.]  \n",
      "266\t32    \t[10954.5625 14812.5   ]  \t[10794. 12000.]\t[13363. 15000.]  \n",
      "267\t32    \t[10954.5625 14812.5   ]  \t[10794. 12000.]\t[13363. 15000.]  \n",
      "268\t32    \t[10954.5625 14812.5   ]  \t[10794. 12000.]\t[13363. 15000.]  \n",
      "269\t32    \t[10954.5625 14812.5   ]  \t[10794. 12000.]\t[13363. 15000.]  \n",
      "270\t32    \t[10954.5625 14812.5   ]  \t[10794. 12000.]\t[13363. 15000.]  \n",
      "Generation : 280 of 480\n",
      "271\t32    \t[10954.5625 14812.5   ]  \t[10794. 12000.]\t[13363. 15000.]  \n",
      "272\t32    \t[10954.5625 14812.5   ]  \t[10794. 12000.]\t[13363. 15000.]  \n",
      "273\t32    \t[10954.5625 14812.5   ]  \t[10794. 12000.]\t[13363. 15000.]  \n",
      "274\t32    \t[10954.5625 14812.5   ]  \t[10794. 12000.]\t[13363. 15000.]  \n",
      "275\t32    \t[10954.5625 14812.5   ]  \t[10794. 12000.]\t[13363. 15000.]  \n",
      "276\t32    \t[10954.5625 14812.5   ]  \t[10794. 12000.]\t[13363. 15000.]  \n",
      "277\t32    \t[10954.5625 14812.5   ]  \t[10794. 12000.]\t[13363. 15000.]  \n",
      "278\t32    \t[10954.5625 14812.5   ]  \t[10794. 12000.]\t[13363. 15000.]  \n",
      "279\t32    \t[10954.5625 14812.5   ]  \t[10794. 12000.]\t[13363. 15000.]  \n",
      "280\t32    \t[11112.59375 14625.     ]\t[10713. 12000.]\t[13363. 15000.]  \n",
      "Generation : 290 of 480\n",
      "281\t32    \t[11350.90625 14343.75   ]\t[10713. 12000.]\t[13363. 15000.]  \n",
      "282\t32    \t[11830.0625 13781.25  ]  \t[10713. 12000.]\t[13363. 15000.]  \n",
      "283\t32    \t[12967.9375 12562.5   ]  \t[10705. 12000.]\t[15485. 15000.]  \n",
      "284\t32    \t[13279.9375 12093.75  ]  \t[10705. 12000.]\t[13363. 15000.]  \n",
      "285\t32    \t[13279.9375 12093.75  ]  \t[10705. 12000.]\t[13363. 15000.]  \n",
      "286\t32    \t[13279.9375 12093.75  ]  \t[10705. 12000.]\t[13363. 15000.]  \n",
      "287\t32    \t[13267.90625 12093.75   ]\t[10705. 12000.]\t[13363. 15000.]  \n",
      "288\t32    \t[13163.34375 12281.25   ]\t[10705. 12000.]\t[13363. 15000.]  \n",
      "289\t32    \t[12954.875 12562.5  ]    \t[10705. 12000.]\t[13363. 15000.]  \n",
      "290\t32    \t[12546.75 13125.  ]      \t[10705. 12000.]\t[13363. 15000.]  \n",
      "Generation : 300 of 480\n",
      "291\t32    \t[11841.5 13500. ]        \t[10705. 12000.]\t[12978. 15000.]  \n",
      "292\t32    \t[10847.0625 14812.5   ]  \t[10705. 12000.]\t[12978. 15000.]  \n",
      "293\t32    \t[10847.0625 14812.5   ]  \t[10705. 12000.]\t[12978. 15000.]  \n",
      "294\t32    \t[10847.0625 14812.5   ]  \t[10705. 12000.]\t[12978. 15000.]  \n",
      "295\t32    \t[10847.0625 14812.5   ]  \t[10705. 12000.]\t[12978. 15000.]  \n",
      "296\t32    \t[10847.0625 14812.5   ]  \t[10705. 12000.]\t[12978. 15000.]  \n",
      "297\t32    \t[10847.0625 14812.5   ]  \t[10705. 12000.]\t[12978. 15000.]  \n",
      "298\t32    \t[10847.0625 14812.5   ]  \t[10705. 12000.]\t[12978. 15000.]  \n",
      "299\t32    \t[10847.0625 14812.5   ]  \t[10705. 12000.]\t[12978. 15000.]  \n",
      "300\t32    \t[10847.0625 14812.5   ]  \t[10705. 12000.]\t[12978. 15000.]  \n",
      "Generation : 310 of 480\n",
      "301\t32    \t[10847.0625 14812.5   ]  \t[10705. 12000.]\t[12978. 15000.]  \n",
      "302\t32    \t[10847.0625 14812.5   ]  \t[10705. 12000.]\t[12978. 15000.]  \n",
      "303\t32    \t[10847.0625 14812.5   ]  \t[10705. 12000.]\t[12978. 15000.]  \n",
      "304\t32    \t[10847.0625 14812.5   ]  \t[10705. 12000.]\t[12978. 15000.]  \n",
      "305\t32    \t[10847.0625 14812.5   ]  \t[10705. 12000.]\t[12978. 15000.]  \n",
      "306\t32    \t[10847.0625 14812.5   ]  \t[10705. 12000.]\t[12978. 15000.]  \n",
      "307\t32    \t[10847.0625 14812.5   ]  \t[10705. 12000.]\t[12978. 15000.]  \n",
      "308\t32    \t[10847.0625 14812.5   ]  \t[10705. 12000.]\t[12978. 15000.]  \n",
      "309\t32    \t[10847.0625 14812.5   ]  \t[10705. 12000.]\t[12978. 15000.]  \n",
      "310\t32    \t[10847.0625 14812.5   ]  \t[10705. 12000.]\t[12978. 15000.]  \n",
      "Generation : 320 of 480\n",
      "311\t32    \t[10847.0625 14812.5   ]  \t[10705. 12000.]\t[12978. 15000.]  \n",
      "312\t32    \t[10847.0625 14812.5   ]  \t[10705. 12000.]\t[12978. 15000.]  \n",
      "313\t32    \t[10847.0625 14812.5   ]  \t[10705. 12000.]\t[12978. 15000.]  \n",
      "314\t32    \t[10847.0625 14812.5   ]  \t[10705. 12000.]\t[12978. 15000.]  \n",
      "315\t32    \t[10847.0625 14812.5   ]  \t[10705. 12000.]\t[12978. 15000.]  \n",
      "316\t32    \t[10847.0625 14812.5   ]  \t[10705. 12000.]\t[12978. 15000.]  \n",
      "317\t32    \t[10847.0625 14812.5   ]  \t[10705. 12000.]\t[12978. 15000.]  \n",
      "318\t32    \t[10847.0625 14812.5   ]  \t[10705. 12000.]\t[12978. 15000.]  \n",
      "319\t32    \t[10847.0625 14812.5   ]  \t[10705. 12000.]\t[12978. 15000.]  \n",
      "320\t32    \t[10847.0625 14812.5   ]  \t[10705. 12000.]\t[12978. 15000.]  \n",
      "Generation : 330 of 480\n",
      "321\t32    \t[10847.0625 14812.5   ]  \t[10705. 12000.]\t[12978. 15000.]  \n",
      "322\t32    \t[10988.8125 14625.    ]  \t[10695. 12000.]\t[12978. 15000.]  \n",
      "323\t32    \t[11272.625 14250.   ]    \t[10695. 12000.]\t[12978. 15000.]  \n",
      "324\t32    \t[11840.25 13500.  ]      \t[10695. 12000.]\t[12978. 15000.]  \n",
      "325\t32    \t[12835.3125 12187.5   ]  \t[10695. 12000.]\t[12978. 15000.]  \n",
      "326\t32    \t[12835.3125 12187.5   ]  \t[10695. 12000.]\t[12978. 15000.]  \n",
      "327\t32    \t[12835.3125 12187.5   ]  \t[10695. 12000.]\t[12978. 15000.]  \n",
      "328\t32    \t[12835.3125 12187.5   ]  \t[10695. 12000.]\t[12978. 15000.]  \n",
      "329\t32    \t[12835.3125 12187.5   ]  \t[10695. 12000.]\t[12978. 15000.]  \n",
      "330\t32    \t[12835.3125 12187.5   ]  \t[10695. 12000.]\t[12978. 15000.]  \n",
      "Generation : 340 of 480\n",
      "331\t32    \t[12835.3125 12187.5   ]  \t[10695. 12000.]\t[12978. 15000.]  \n",
      "332\t32    \t[12835.3125 12187.5   ]  \t[10695. 12000.]\t[12978. 15000.]  \n",
      "333\t32    \t[12835.3125 12187.5   ]  \t[10695. 12000.]\t[12978. 15000.]  \n",
      "334\t32    \t[12835.3125 12187.5   ]  \t[10695. 12000.]\t[12978. 15000.]  \n",
      "335\t32    \t[12835.3125 12187.5   ]  \t[10695. 12000.]\t[12978. 15000.]  \n",
      "336\t32    \t[12835.3125 12187.5   ]  \t[10695. 12000.]\t[12978. 15000.]  \n",
      "337\t32    \t[12835.3125 12187.5   ]  \t[10695. 12000.]\t[12978. 15000.]  \n",
      "338\t32    \t[12835.3125 12187.5   ]  \t[10695. 12000.]\t[12978. 15000.]  \n",
      "339\t32    \t[12835.3125 12187.5   ]  \t[10695. 12000.]\t[12978. 15000.]  \n",
      "340\t32    \t[12835.3125 12187.5   ]  \t[10695. 12000.]\t[12978. 15000.]  \n",
      "Generation : 350 of 480\n",
      "341\t32    \t[12835.3125 12187.5   ]  \t[10695. 12000.]\t[12978. 15000.]  \n",
      "342\t32    \t[12835.3125 12187.5   ]  \t[10695. 12000.]\t[12978. 15000.]  \n",
      "343\t32    \t[12835.3125 12187.5   ]  \t[10695. 12000.]\t[12978. 15000.]  \n",
      "344\t32    \t[12835.3125 12187.5   ]  \t[10695. 12000.]\t[12978. 15000.]  \n",
      "345\t32    \t[12835.3125 12187.5   ]  \t[10695. 12000.]\t[12978. 15000.]  \n",
      "346\t32    \t[12835.3125 12187.5   ]  \t[10695. 12000.]\t[12978. 15000.]  \n",
      "347\t32    \t[12835.3125 12187.5   ]  \t[10695. 12000.]\t[12978. 15000.]  \n",
      "348\t32    \t[12835.3125 12187.5   ]  \t[10695. 12000.]\t[12978. 15000.]  \n",
      "349\t32    \t[12835.3125 12187.5   ]  \t[10695. 12000.]\t[12978. 15000.]  \n",
      "350\t32    \t[12835.3125 12187.5   ]  \t[10695. 12000.]\t[12978. 15000.]  \n",
      "Generation : 360 of 480\n",
      "351\t32    \t[12835.3125 12187.5   ]  \t[10695. 12000.]\t[12978. 15000.]  \n",
      "352\t32    \t[12835.3125 12187.5   ]  \t[10695. 12000.]\t[12978. 15000.]  \n",
      "353\t32    \t[12835.3125 12187.5   ]  \t[10695. 12000.]\t[12978. 15000.]  \n",
      "354\t32    \t[12835.3125 12187.5   ]  \t[10695. 12000.]\t[12978. 15000.]  \n",
      "355\t32    \t[12835.3125 12187.5   ]  \t[10695. 12000.]\t[12978. 15000.]  \n",
      "356\t32    \t[12835.3125 12187.5   ]  \t[10695. 12000.]\t[12978. 15000.]  \n",
      "357\t32    \t[12835.3125 12187.5   ]  \t[10695. 12000.]\t[12978. 15000.]  \n",
      "358\t32    \t[12835.3125 12187.5   ]  \t[10695. 12000.]\t[12978. 15000.]  \n",
      "359\t32    \t[12835.3125 12187.5   ]  \t[10695. 12000.]\t[12978. 15000.]  \n",
      "360\t32    \t[12835.3125 12187.5   ]  \t[10695. 12000.]\t[12978. 15000.]  \n",
      "Generation : 370 of 480\n",
      "361\t32    \t[12835.3125 12187.5   ]  \t[10695. 12000.]\t[12978. 15000.]  \n",
      "362\t32    \t[12835.3125 12187.5   ]  \t[10695. 12000.]\t[12978. 15000.]  \n",
      "363\t32    \t[12835.3125 12187.5   ]  \t[10695. 12000.]\t[12978. 15000.]  \n",
      "364\t32    \t[12835.3125 12187.5   ]  \t[10695. 12000.]\t[12978. 15000.]  \n",
      "365\t32    \t[12835.3125 12187.5   ]  \t[10695. 12000.]\t[12978. 15000.]  \n",
      "366\t32    \t[12835.3125 12187.5   ]  \t[10695. 12000.]\t[12978. 15000.]  \n",
      "367\t32    \t[12835.3125 12187.5   ]  \t[10695. 12000.]\t[12978. 15000.]  \n",
      "368\t32    \t[12835.3125 12187.5   ]  \t[10695. 12000.]\t[12978. 15000.]  \n",
      "369\t32    \t[12835.3125 12187.5   ]  \t[10695. 12000.]\t[12978. 15000.]  \n",
      "370\t32    \t[12835.3125 12187.5   ]  \t[10695. 12000.]\t[12978. 15000.]  \n",
      "Generation : 380 of 480\n",
      "371\t32    \t[12687.84375 12375.     ]\t[10695. 12000.]\t[12978. 15000.]  \n",
      "372\t32    \t[12397.8125 12750.    ]  \t[10695. 12000.]\t[12978. 15000.]  \n",
      "373\t32    \t[11817.625 13500.   ]    \t[10695. 12000.]\t[12978. 15000.]  \n",
      "374\t32    \t[10828.125 14812.5  ]    \t[10695. 12000.]\t[12825. 15000.]  \n",
      "375\t32    \t[10828.125 14812.5  ]    \t[10695. 12000.]\t[12825. 15000.]  \n",
      "376\t32    \t[10828.125 14812.5  ]    \t[10695. 12000.]\t[12825. 15000.]  \n",
      "377\t32    \t[10828.125 14812.5  ]    \t[10695. 12000.]\t[12825. 15000.]  \n",
      "378\t32    \t[10828.125 14812.5  ]    \t[10695. 12000.]\t[12825. 15000.]  \n",
      "379\t32    \t[10828.125 14812.5  ]    \t[10695. 12000.]\t[12825. 15000.]  \n",
      "380\t32    \t[10828.125 14812.5  ]    \t[10695. 12000.]\t[12825. 15000.]  \n",
      "Generation : 390 of 480\n",
      "381\t32    \t[10828.125 14812.5  ]    \t[10695. 12000.]\t[12825. 15000.]  \n",
      "382\t32    \t[10828.125 14812.5  ]    \t[10695. 12000.]\t[12825. 15000.]  \n",
      "383\t32    \t[10828.125 14812.5  ]    \t[10695. 12000.]\t[12825. 15000.]  \n",
      "384\t32    \t[10828.125 14812.5  ]    \t[10695. 12000.]\t[12825. 15000.]  \n",
      "385\t32    \t[10828.125 14812.5  ]    \t[10695. 12000.]\t[12825. 15000.]  \n",
      "386\t32    \t[10828.125 14812.5  ]    \t[10695. 12000.]\t[12825. 15000.]  \n",
      "387\t32    \t[10828.125 14812.5  ]    \t[10695. 12000.]\t[12825. 15000.]  \n",
      "388\t32    \t[10828.125 14812.5  ]    \t[10695. 12000.]\t[12825. 15000.]  \n",
      "389\t32    \t[10828.125 14812.5  ]    \t[10695. 12000.]\t[12825. 15000.]  \n",
      "390\t32    \t[10828.125 14812.5  ]    \t[10695. 12000.]\t[12825. 15000.]  \n",
      "Generation : 400 of 480\n",
      "391\t32    \t[10828.125 14812.5  ]    \t[10695. 12000.]\t[12825. 15000.]  \n",
      "392\t32    \t[10828.125 14812.5  ]    \t[10695. 12000.]\t[12825. 15000.]  \n",
      "393\t32    \t[10828.125 14812.5  ]    \t[10695. 12000.]\t[12825. 15000.]  \n",
      "394\t32    \t[10828.125 14812.5  ]    \t[10695. 12000.]\t[12825. 15000.]  \n",
      "395\t32    \t[10828.125 14812.5  ]    \t[10695. 12000.]\t[12825. 15000.]  \n",
      "396\t32    \t[10828.125 14812.5  ]    \t[10695. 12000.]\t[12825. 15000.]  \n",
      "397\t32    \t[10828.125 14812.5  ]    \t[10695. 12000.]\t[12825. 15000.]  \n",
      "398\t32    \t[10828.125 14812.5  ]    \t[10695. 12000.]\t[12825. 15000.]  \n",
      "399\t32    \t[10828.125 14812.5  ]    \t[10695. 12000.]\t[12825. 15000.]  \n",
      "400\t32    \t[10828.125 14812.5  ]    \t[10695. 12000.]\t[12825. 15000.]  \n",
      "Generation : 410 of 480\n",
      "401\t32    \t[10828.125 14812.5  ]    \t[10695. 12000.]\t[12825. 15000.]  \n",
      "402\t32    \t[10828.125 14812.5  ]    \t[10695. 12000.]\t[12825. 15000.]  \n",
      "403\t32    \t[10828.125 14812.5  ]    \t[10695. 12000.]\t[12825. 15000.]  \n",
      "404\t32    \t[10828.125 14812.5  ]    \t[10695. 12000.]\t[12825. 15000.]  \n",
      "405\t32    \t[10828.125 14812.5  ]    \t[10695. 12000.]\t[12825. 15000.]  \n",
      "406\t32    \t[10828.125 14812.5  ]    \t[10695. 12000.]\t[12825. 15000.]  \n",
      "407\t32    \t[10828.125 14812.5  ]    \t[10695. 12000.]\t[12825. 15000.]  \n",
      "408\t32    \t[10828.125 14812.5  ]    \t[10695. 12000.]\t[12825. 15000.]  \n",
      "409\t32    \t[10828.125 14812.5  ]    \t[10695. 12000.]\t[12825. 15000.]  \n",
      "410\t32    \t[10828.125 14812.5  ]    \t[10695. 12000.]\t[12825. 15000.]  \n",
      "Generation : 420 of 480\n",
      "411\t32    \t[10828.125 14812.5  ]    \t[10695. 12000.]\t[12825. 15000.]  \n",
      "412\t32    \t[10828.125 14812.5  ]    \t[10695. 12000.]\t[12825. 15000.]  \n",
      "413\t32    \t[10828.125 14812.5  ]    \t[10695. 12000.]\t[12825. 15000.]  \n",
      "414\t32    \t[10828.125 14812.5  ]    \t[10695. 12000.]\t[12825. 15000.]  \n",
      "415\t32    \t[10828.125 14812.5  ]    \t[10695. 12000.]\t[12825. 15000.]  \n",
      "416\t32    \t[10828.125 14812.5  ]    \t[10695. 12000.]\t[12825. 15000.]  \n",
      "417\t32    \t[10828.125 14812.5  ]    \t[10695. 12000.]\t[12825. 15000.]  \n",
      "418\t32    \t[10828.125 14812.5  ]    \t[10695. 12000.]\t[12825. 15000.]  \n",
      "419\t32    \t[10828.125 14812.5  ]    \t[10695. 12000.]\t[12825. 15000.]  \n",
      "420\t32    \t[10828.125 14812.5  ]    \t[10695. 12000.]\t[12825. 15000.]  \n",
      "Generation : 430 of 480\n",
      "421\t32    \t[10828.125 14812.5  ]    \t[10695. 12000.]\t[12825. 15000.]  \n",
      "422\t32    \t[10828.125 14812.5  ]    \t[10695. 12000.]\t[12825. 15000.]  \n",
      "423\t32    \t[10828.125 14812.5  ]    \t[10695. 12000.]\t[12825. 15000.]  \n",
      "424\t32    \t[10828.125 14812.5  ]    \t[10695. 12000.]\t[12825. 15000.]  \n",
      "425\t32    \t[10828.125 14812.5  ]    \t[10695. 12000.]\t[12825. 15000.]  \n",
      "426\t32    \t[10828.125 14812.5  ]    \t[10695. 12000.]\t[12825. 15000.]  \n",
      "427\t32    \t[10828.125 14812.5  ]    \t[10695. 12000.]\t[12825. 15000.]  \n",
      "428\t32    \t[10828.125 14812.5  ]    \t[10695. 12000.]\t[12825. 15000.]  \n",
      "429\t32    \t[10828.125 14812.5  ]    \t[10695. 12000.]\t[12825. 15000.]  \n",
      "430\t32    \t[10828.125 14812.5  ]    \t[10695. 12000.]\t[12825. 15000.]  \n",
      "Generation : 440 of 480\n",
      "431\t32    \t[10828.125 14812.5  ]    \t[10695. 12000.]\t[12825. 15000.]  \n",
      "432\t32    \t[10828.125 14812.5  ]    \t[10695. 12000.]\t[12825. 15000.]  \n",
      "433\t32    \t[10828.125 14812.5  ]    \t[10695. 12000.]\t[12825. 15000.]  \n",
      "434\t32    \t[10828.125 14812.5  ]    \t[10695. 12000.]\t[12825. 15000.]  \n",
      "435\t32    \t[10828.125 14812.5  ]    \t[10695. 12000.]\t[12825. 15000.]  \n",
      "436\t32    \t[10828.125 14812.5  ]    \t[10695. 12000.]\t[12825. 15000.]  \n",
      "437\t32    \t[10828.125 14812.5  ]    \t[10695. 12000.]\t[12825. 15000.]  \n",
      "438\t32    \t[10828.125 14812.5  ]    \t[10695. 12000.]\t[12825. 15000.]  \n",
      "439\t32    \t[10828.125 14812.5  ]    \t[10695. 12000.]\t[12825. 15000.]  \n",
      "440\t32    \t[10828.125 14812.5  ]    \t[10695. 12000.]\t[12825. 15000.]  \n",
      "Generation : 450 of 480\n",
      "441\t32    \t[10828.125 14812.5  ]    \t[10695. 12000.]\t[12825. 15000.]  \n",
      "442\t32    \t[10828.125 14812.5  ]    \t[10695. 12000.]\t[12825. 15000.]  \n",
      "443\t32    \t[10828.125 14812.5  ]    \t[10695. 12000.]\t[12825. 15000.]  \n",
      "444\t32    \t[10828.125 14812.5  ]    \t[10695. 12000.]\t[12825. 15000.]  \n",
      "445\t32    \t[10828.125 14812.5  ]    \t[10695. 12000.]\t[12825. 15000.]  \n",
      "446\t32    \t[10828.125 14812.5  ]    \t[10695. 12000.]\t[12825. 15000.]  \n",
      "447\t32    \t[10828.125 14812.5  ]    \t[10695. 12000.]\t[12825. 15000.]  \n",
      "448\t32    \t[10828.125 14812.5  ]    \t[10695. 12000.]\t[12825. 15000.]  \n",
      "449\t32    \t[10828.125 14812.5  ]    \t[10695. 12000.]\t[12825. 15000.]  \n",
      "450\t32    \t[10828.125 14812.5  ]    \t[10695. 12000.]\t[12825. 15000.]  \n",
      "Generation : 460 of 480\n",
      "451\t32    \t[10828.125 14812.5  ]    \t[10695. 12000.]\t[12825. 15000.]  \n",
      "452\t32    \t[10828.125 14812.5  ]    \t[10695. 12000.]\t[12825. 15000.]  \n",
      "453\t32    \t[10828.125 14812.5  ]    \t[10695. 12000.]\t[12825. 15000.]  \n",
      "454\t32    \t[10828.125 14812.5  ]    \t[10695. 12000.]\t[12825. 15000.]  \n",
      "455\t32    \t[10828.125 14812.5  ]    \t[10695. 12000.]\t[12825. 15000.]  \n",
      "456\t32    \t[10828.125 14812.5  ]    \t[10695. 12000.]\t[12825. 15000.]  \n",
      "457\t32    \t[10828.125 14812.5  ]    \t[10695. 12000.]\t[12825. 15000.]  \n",
      "458\t32    \t[10828.125 14812.5  ]    \t[10695. 12000.]\t[12825. 15000.]  \n",
      "459\t32    \t[10828.125 14812.5  ]    \t[10695. 12000.]\t[12825. 15000.]  \n",
      "460\t32    \t[10828.125 14812.5  ]    \t[10695. 12000.]\t[12825. 15000.]  \n",
      "Generation : 470 of 480\n",
      "461\t32    \t[10828.125 14812.5  ]    \t[10695. 12000.]\t[12825. 15000.]  \n",
      "462\t32    \t[10828.125 14812.5  ]    \t[10695. 12000.]\t[12825. 15000.]  \n",
      "463\t32    \t[10828.125 14812.5  ]    \t[10695. 12000.]\t[12825. 15000.]  \n",
      "464\t32    \t[10828.125 14812.5  ]    \t[10695. 12000.]\t[12825. 15000.]  \n",
      "465\t32    \t[10828.125 14812.5  ]    \t[10695. 12000.]\t[12825. 15000.]  \n",
      "466\t32    \t[10828.125 14812.5  ]    \t[10695. 12000.]\t[12825. 15000.]  \n",
      "467\t32    \t[10828.125 14812.5  ]    \t[10695. 12000.]\t[12825. 15000.]  \n",
      "468\t32    \t[10828.125 14812.5  ]    \t[10695. 12000.]\t[12825. 15000.]  \n",
      "469\t32    \t[10828.125 14812.5  ]    \t[10695. 12000.]\t[12825. 15000.]  \n",
      "470\t32    \t[10828.125 14812.5  ]    \t[10695. 12000.]\t[12825. 15000.]  \n"
     ]
    }
   ],
   "source": [
    "# Iterating over generations\n",
    "for gen in range(1, nb_gen):\n",
    "    # Selection\n",
    "    offspring = toolbox.select(pop, len(pop))\n",
    "    offspring = [toolbox.clone(ind) for ind in offspring]\n",
    "\n",
    "    # Mating / Mutations\n",
    "    for ind1, ind2 in zip(offspring[::2], offspring[1::2]):\n",
    "        if state.uniform() <= crossover_probability:\n",
    "            toolbox.mate(ind1, ind2)\n",
    "\n",
    "        toolbox.mutate(ind1, indpb_alpha, indpb_beta, sigma, gen=gen)\n",
    "        toolbox.mutate(ind2, indpb_alpha, indpb_beta, sigma, gen=gen)\n",
    "        del ind1.fitness.values, ind2.fitness.values\n",
    "\n",
    "    # Evaluations\n",
    "    # Re-evaluate individuals which have mated or mutated\n",
    "    invalid_ind = [ind for ind in offspring if not ind.fitness.valid]\n",
    "    fitnesses = toolbox.map(toolbox.evaluate, invalid_ind)\n",
    "    for ind, fit in zip(invalid_ind, fitnesses):\n",
    "        ind.fitness.values = fit\n",
    "        fitness[len(all_inds), :] = fit\n",
    "        all_inds.append(ind)\n",
    "\n",
    "    # Selection is done on population and its offspring\n",
    "    pop = toolbox.select(pop + offspring, popsize)\n",
    "\n",
    "    # Stats\n",
    "    record = stats.compile(pop)\n",
    "    logbook.record(gen=gen, nevals=len(invalid_ind), **record)\n",
    "    hof.update(pop)\n",
    "    if gen > 0 and ((gen % 10) == 0):\n",
    "        print(\"Generation : {} of {}\".format(gen, nb_gen))\n",
    "        print(logbook.stream)"
   ]
  },
  {
   "cell_type": "markdown",
   "metadata": {
    "deletable": false,
    "editable": false,
    "nbgrader": {
     "cell_type": "markdown",
     "checksum": "fa801ded0696c01287364793ea7f84ef",
     "grade": false,
     "grade_id": "cell-d6040bfefc8f1e1c",
     "locked": true,
     "schema_version": 3,
     "solution": false,
     "task": false
    }
   },
   "source": [
    "### Results"
   ]
  },
  {
   "cell_type": "markdown",
   "metadata": {
    "deletable": false,
    "editable": false,
    "nbgrader": {
     "cell_type": "markdown",
     "checksum": "c9ead717df045cad913f8fac9f554082",
     "grade": false,
     "grade_id": "cell-d2c95eafcc667589",
     "locked": true,
     "schema_version": 3,
     "solution": false,
     "task": false
    }
   },
   "source": [
    "Let's plot the average (in the population) value of the fitness functions w.r.t. the generation):"
   ]
  },
  {
   "cell_type": "code",
   "execution_count": 59,
   "metadata": {
    "deletable": false,
    "editable": false,
    "nbgrader": {
     "cell_type": "code",
     "checksum": "6843e56cd01a0be06d027144c3c6134a",
     "grade": false,
     "grade_id": "cell-c839e19b5387b70e",
     "locked": true,
     "schema_version": 3,
     "solution": false,
     "task": false
    }
   },
   "outputs": [
    {
     "data": {
      "text/html": [
       "\n",
       "  <div class=\"bk-root\" id=\"63bb0c24-f913-41df-9b37-46758828306b\" data-root-id=\"1004\"></div>\n"
      ]
     },
     "metadata": {},
     "output_type": "display_data"
    },
    {
     "data": {
      "application/javascript": [
       "(function(root) {\n",
       "  function embed_document(root) {\n",
       "  const docs_json = {\"b2bb690b-640c-4618-9e1b-4a6c3a83342b\":{\"defs\":[],\"roots\":{\"references\":[{\"attributes\":{\"below\":[{\"id\":\"1015\"}],\"center\":[{\"id\":\"1018\"},{\"id\":\"1022\"}],\"height\":400,\"left\":[{\"id\":\"1019\"}],\"renderers\":[{\"id\":\"1040\"},{\"id\":\"1046\"}],\"title\":{\"id\":\"1005\"},\"toolbar\":{\"id\":\"1029\"},\"width\":700,\"x_range\":{\"id\":\"1007\"},\"x_scale\":{\"id\":\"1011\"},\"y_range\":{\"id\":\"1009\"},\"y_scale\":{\"id\":\"1013\"}},\"id\":\"1004\",\"subtype\":\"Figure\",\"type\":\"Plot\"},{\"attributes\":{},\"id\":\"1027\",\"type\":\"ResetTool\"},{\"attributes\":{\"coordinates\":null,\"data_source\":{\"id\":\"1036\"},\"glyph\":{\"id\":\"1037\"},\"group\":null,\"hover_glyph\":null,\"muted_glyph\":{\"id\":\"1039\"},\"name\":\"hover\",\"nonselection_glyph\":{\"id\":\"1038\"},\"view\":{\"id\":\"1041\"}},\"id\":\"1040\",\"type\":\"GlyphRenderer\"},{\"attributes\":{\"fill_alpha\":0.1,\"fill_color\":\"#440154\",\"hatch_alpha\":0.1,\"hatch_color\":\"#440154\",\"line_alpha\":0.1,\"line_color\":\"#440154\",\"x\":{\"field\":\"x\"},\"y\":{\"field\":\"y\"}},\"id\":\"1044\",\"type\":\"Patch\"},{\"attributes\":{},\"id\":\"1050\",\"type\":\"BasicTickFormatter\"},{\"attributes\":{},\"id\":\"1057\",\"type\":\"UnionRenderers\"},{\"attributes\":{\"line_alpha\":0.2,\"line_color\":\"#440154\",\"x\":{\"field\":\"x\"},\"y\":{\"field\":\"y\"}},\"id\":\"1039\",\"type\":\"Line\"},{\"attributes\":{\"source\":{\"id\":\"1036\"}},\"id\":\"1041\",\"type\":\"CDSView\"},{\"attributes\":{},\"id\":\"1026\",\"type\":\"SaveTool\"},{\"attributes\":{},\"id\":\"1051\",\"type\":\"AllLabels\"},{\"attributes\":{},\"id\":\"1058\",\"type\":\"Selection\"},{\"attributes\":{},\"id\":\"1011\",\"type\":\"LinearScale\"},{\"attributes\":{\"axis_label\":\"Absolute Error\",\"coordinates\":null,\"formatter\":{\"id\":\"1050\"},\"group\":null,\"major_label_policy\":{\"id\":\"1051\"},\"ticker\":{\"id\":\"1020\"}},\"id\":\"1019\",\"type\":\"LinearAxis\"},{\"attributes\":{},\"id\":\"1055\",\"type\":\"UnionRenderers\"},{\"attributes\":{},\"id\":\"1053\",\"type\":\"BasicTickFormatter\"},{\"attributes\":{},\"id\":\"1054\",\"type\":\"AllLabels\"},{\"attributes\":{\"axis\":{\"id\":\"1015\"},\"coordinates\":null,\"grid_line_alpha\":0.4,\"group\":null,\"ticker\":null},\"id\":\"1018\",\"type\":\"Grid\"},{\"attributes\":{},\"id\":\"1013\",\"type\":\"LinearScale\"},{\"attributes\":{\"callback\":null},\"id\":\"1003\",\"type\":\"HoverTool\"},{\"attributes\":{\"coordinates\":null,\"group\":null,\"text\":\"Objective function Absolute Error w.r.t. the generation\"},\"id\":\"1005\",\"type\":\"Title\"},{\"attributes\":{},\"id\":\"1020\",\"type\":\"BasicTicker\"},{\"attributes\":{},\"id\":\"1009\",\"type\":\"DataRange1d\"},{\"attributes\":{},\"id\":\"1016\",\"type\":\"BasicTicker\"},{\"attributes\":{\"overlay\":{\"id\":\"1028\"}},\"id\":\"1025\",\"type\":\"BoxZoomTool\"},{\"attributes\":{\"line_alpha\":0.1,\"line_color\":\"#440154\",\"x\":{\"field\":\"x\"},\"y\":{\"field\":\"y\"}},\"id\":\"1038\",\"type\":\"Line\"},{\"attributes\":{},\"id\":\"1023\",\"type\":\"PanTool\"},{\"attributes\":{},\"id\":\"1024\",\"type\":\"WheelZoomTool\"},{\"attributes\":{\"axis\":{\"id\":\"1019\"},\"coordinates\":null,\"dimension\":1,\"grid_line_alpha\":0.4,\"group\":null,\"ticker\":null},\"id\":\"1022\",\"type\":\"Grid\"},{\"attributes\":{\"line_color\":\"#440154\",\"x\":{\"field\":\"x\"},\"y\":{\"field\":\"y\"}},\"id\":\"1037\",\"type\":\"Line\"},{\"attributes\":{\"data\":{\"x\":[0,1,2,3,4,5,6,7,8,9,10,11,12,13,14,15,16,17,18,19,20,21,22,23,24,25,26,27,28,29,30,31,32,33,34,35,36,37,38,39,40,41,42,43,44,45,46,47,48,49,50,51,52,53,54,55,56,57,58,59,60,61,62,63,64,65,66,67,68,69,70,71,72,73,74,75,76,77,78,79,80,81,82,83,84,85,86,87,88,89,90,91,92,93,94,95,96,97,98,99,100,101,102,103,104,105,106,107,108,109,110,111,112,113,114,115,116,117,118,119,120,121,122,123,124,125,126,127,128,129,130,131,132,133,134,135,136,137,138,139,140,141,142,143,144,145,146,147,148,149,150,151,152,153,154,155,156,157,158,159,160,161,162,163,164,165,166,167,168,169,170,171,172,173,174,175,176,177,178,179,180,181,182,183,184,185,186,187,188,189,190,191,192,193,194,195,196,197,198,199,200,201,202,203,204,205,206,207,208,209,210,211,212,213,214,215,216,217,218,219,220,221,222,223,224,225,226,227,228,229,230,231,232,233,234,235,236,237,238,239,240,241,242,243,244,245,246,247,248,249,250,251,252,253,254,255,256,257,258,259,260,261,262,263,264,265,266,267,268,269,270,271,272,273,274,275,276,277,278,279,280,281,282,283,284,285,286,287,288,289,290,291,292,293,294,295,296,297,298,299,300,301,302,303,304,305,306,307,308,309,310,311,312,313,314,315,316,317,318,319,320,321,322,323,324,325,326,327,328,329,330,331,332,333,334,335,336,337,338,339,340,341,342,343,344,345,346,347,348,349,350,351,352,353,354,355,356,357,358,359,360,361,362,363,364,365,366,367,368,369,370,371,372,373,374,375,376,377,378,379,380,381,382,383,384,385,386,387,388,389,390,391,392,393,394,395,396,397,398,399,400,401,402,403,404,405,406,407,408,409,410,411,412,413,414,415,416,417,418,419,420,421,422,423,424,425,426,427,428,429,430,431,432,433,434,435,436,437,438,439,440,441,442,443,444,445,446,447,448,449,450,451,452,453,454,455,456,457,458,459,460,461,462,463,464,465,466,467,468,469,470,471,472,473,474,475,476,477,478,479],\"y\":[58257.0625,77457.15625,76166.8125,77381.75,78012.40625,78131.8125,74870.3125,73117.78125,72596.3125,72367.9375,72186.3125,71181.78125,70893.625,70611.53125,70173.75,70716.15625,70298.25,69658.78125,69321.46875,72101.21875,71585.6875,73173.25,74032.59375,74032.59375,75844.90625,74992.96875,75420.625,71850.65625,73547.75,71925.09375,71541.4375,70480.8125,68618.25,66915.375,65383.0625,63908.84375,65882.40625,66829.125,66546.1875,66546.1875,65366.0625,64741.21875,64344.25,65762.625,64608.84375,63883.875,65900.5,65223.25,65223.25,65425.09375,63235.90625,62957.53125,62957.53125,62759.5,62052.84375,62003.0625,62003.0625,62003.0625,61816.84375,60434.0625,59474.21875,58468.8125,57627.0,57800.9375,55716.125,55723.125,55687.9375,54948.96875,54698.625,54290.75,54273.9375,54458.53125,54160.4375,53962.25,52263.34375,52916.21875,52788.28125,52920.09375,53468.03125,53357.1875,51183.0,51151.78125,50970.71875,50529.34375,49974.9375,49921.3125,49796.90625,48980.46875,48637.75,48590.75,48000.84375,48312.5625,47915.65625,48292.625,48878.84375,48296.46875,48563.875,47345.0625,46792.625,45441.34375,44698.75,45247.78125,45047.4375,44842.21875,44026.625,43666.34375,42927.59375,42659.28125,42195.34375,42006.375,41668.5625,41148.5625,41290.8125,40357.25,40012.375,39519.90625,38294.8125,37945.78125,37217.90625,35258.25,34857.40625,35243.3125,33178.875,32653.59375,31790.34375,31791.21875,31105.4375,30818.875,30871.25,30414.125,29799.75,29086.96875,28693.6875,28388.5625,28477.96875,27910.46875,27511.84375,26912.59375,26476.0,25862.40625,25366.71875,25213.15625,25006.34375,24776.09375,24476.5625,24217.25,24032.15625,23973.5625,22860.84375,22431.0625,22460.46875,21975.25,22332.78125,21799.40625,21492.34375,21393.125,21297.625,21120.3125,21027.8125,21047.71875,20684.375,20444.25,20068.09375,20160.90625,19954.375,20024.65625,19884.71875,19529.4375,19486.46875,19336.4375,19067.84375,18965.8125,18466.46875,19506.0,19169.625,20357.4375,21125.03125,22271.90625,21901.375,23001.5625,20075.5,19105.53125,20896.71875,22118.40625,22721.5,22693.40625,22134.4375,20295.4375,19747.375,18064.875,17324.75,16541.75,15170.75,16426.25,16995.53125,16875.5625,18774.28125,20358.375,18441.65625,19930.21875,17879.03125,16430.8125,15094.03125,14341.78125,15211.625,17031.8125,15683.875,14456.71875,14731.59375,14678.4375,15788.78125,15123.65625,15347.03125,16465.59375,14967.25,14039.46875,13641.3125,13548.9375,13681.40625,13731.0,13628.375,12511.75,13101.90625,13957.15625,15348.1875,15095.875,13156.0,13671.0,13826.0625,13180.46875,14128.1875,15324.5,15730.1875,13314.5625,11984.8125,12733.90625,14345.125,16105.0,16695.96875,16933.84375,15667.21875,13183.15625,12296.3125,12948.21875,13800.65625,12707.15625,14223.28125,14303.6875,12145.375,11945.0625,12262.3125,12039.125,12802.25,14191.25,15687.9375,15367.875,14887.78125,14087.625,12572.96875,11378.40625,12006.25,12580.28125,12106.125,13174.78125,12389.0,11417.34375,10954.5625,10954.5625,10954.5625,10954.5625,10954.5625,10954.5625,10954.5625,10954.5625,10954.5625,10954.5625,10954.5625,10954.5625,10954.5625,10954.5625,11112.59375,11350.90625,11830.0625,12967.9375,13279.9375,13279.9375,13279.9375,13267.90625,13163.34375,12954.875,12546.75,11841.5,10847.0625,10847.0625,10847.0625,10847.0625,10847.0625,10847.0625,10847.0625,10847.0625,10847.0625,10847.0625,10847.0625,10847.0625,10847.0625,10847.0625,10847.0625,10847.0625,10847.0625,10847.0625,10847.0625,10847.0625,10847.0625,10847.0625,10847.0625,10847.0625,10847.0625,10847.0625,10847.0625,10847.0625,10847.0625,10847.0625,10988.8125,11272.625,11840.25,12835.3125,12835.3125,12835.3125,12835.3125,12835.3125,12835.3125,12835.3125,12835.3125,12835.3125,12835.3125,12835.3125,12835.3125,12835.3125,12835.3125,12835.3125,12835.3125,12835.3125,12835.3125,12835.3125,12835.3125,12835.3125,12835.3125,12835.3125,12835.3125,12835.3125,12835.3125,12835.3125,12835.3125,12835.3125,12835.3125,12835.3125,12835.3125,12835.3125,12835.3125,12835.3125,12835.3125,12835.3125,12835.3125,12835.3125,12835.3125,12835.3125,12835.3125,12835.3125,12835.3125,12835.3125,12835.3125,12687.84375,12397.8125,11817.625,10828.125,10828.125,10828.125,10828.125,10828.125,10828.125,10828.125,10828.125,10828.125,10828.125,10828.125,10828.125,10828.125,10828.125,10828.125,10828.125,10828.125,10828.125,10828.125,10828.125,10828.125,10828.125,10828.125,10828.125,10828.125,10828.125,10828.125,10828.125,10828.125,10828.125,10828.125,10828.125,10828.125,10828.125,10828.125,10828.125,10828.125,10828.125,10828.125,10828.125,10828.125,10828.125,10828.125,10828.125,10828.125,10828.125,10828.125,10828.125,10828.125,10828.125,10828.125,10828.125,10828.125,10828.125,10828.125,10828.125,10828.125,10828.125,10828.125,10828.125,10828.125,10828.125,10828.125,10828.125,10828.125,10828.125,10828.125,10828.125,10828.125,10828.125,10828.125,10828.125,10828.125,10828.125,10828.125,10828.125,10828.125,10828.125,10828.125,10828.125,10828.125,10828.125,10828.125,10828.125,10828.125,10828.125,10828.125,10828.125,10828.125,10828.125,10828.125,10828.125,10828.125,10828.125,10828.125,10828.125,10828.125,10828.125,10828.125,10828.125,10828.125,10828.125,10828.125,10828.125,10828.125,10828.125]},\"selected\":{\"id\":\"1056\"},\"selection_policy\":{\"id\":\"1055\"}},\"id\":\"1036\",\"type\":\"ColumnDataSource\"},{\"attributes\":{\"tools\":[{\"id\":\"1003\"},{\"id\":\"1023\"},{\"id\":\"1024\"},{\"id\":\"1025\"},{\"id\":\"1026\"},{\"id\":\"1027\"}]},\"id\":\"1029\",\"type\":\"Toolbar\"},{\"attributes\":{\"fill_alpha\":0.2,\"fill_color\":\"#440154\",\"hatch_color\":\"#440154\",\"line_color\":\"#440154\",\"x\":{\"field\":\"x\"},\"y\":{\"field\":\"y\"}},\"id\":\"1043\",\"type\":\"Patch\"},{\"attributes\":{\"bottom_units\":\"screen\",\"coordinates\":null,\"fill_alpha\":0.5,\"fill_color\":\"lightgrey\",\"group\":null,\"left_units\":\"screen\",\"level\":\"overlay\",\"line_alpha\":1.0,\"line_color\":\"black\",\"line_dash\":[4,4],\"line_width\":2,\"right_units\":\"screen\",\"syncable\":false,\"top_units\":\"screen\"},\"id\":\"1028\",\"type\":\"BoxAnnotation\"},{\"attributes\":{\"coordinates\":null,\"data_source\":{\"id\":\"1042\"},\"glyph\":{\"id\":\"1043\"},\"group\":null,\"hover_glyph\":null,\"muted_glyph\":{\"id\":\"1045\"},\"nonselection_glyph\":{\"id\":\"1044\"},\"view\":{\"id\":\"1047\"}},\"id\":\"1046\",\"type\":\"GlyphRenderer\"},{\"attributes\":{\"source\":{\"id\":\"1042\"}},\"id\":\"1047\",\"type\":\"CDSView\"},{\"attributes\":{\"axis_label\":\"Generation\",\"coordinates\":null,\"formatter\":{\"id\":\"1053\"},\"group\":null,\"major_label_policy\":{\"id\":\"1054\"},\"ticker\":{\"id\":\"1016\"}},\"id\":\"1015\",\"type\":\"LinearAxis\"},{\"attributes\":{},\"id\":\"1056\",\"type\":\"Selection\"},{\"attributes\":{},\"id\":\"1007\",\"type\":\"DataRange1d\"},{\"attributes\":{\"data\":{\"x\":[0,1,2,3,4,5,6,7,8,9,10,11,12,13,14,15,16,17,18,19,20,21,22,23,24,25,26,27,28,29,30,31,32,33,34,35,36,37,38,39,40,41,42,43,44,45,46,47,48,49,50,51,52,53,54,55,56,57,58,59,60,61,62,63,64,65,66,67,68,69,70,71,72,73,74,75,76,77,78,79,80,81,82,83,84,85,86,87,88,89,90,91,92,93,94,95,96,97,98,99,100,101,102,103,104,105,106,107,108,109,110,111,112,113,114,115,116,117,118,119,120,121,122,123,124,125,126,127,128,129,130,131,132,133,134,135,136,137,138,139,140,141,142,143,144,145,146,147,148,149,150,151,152,153,154,155,156,157,158,159,160,161,162,163,164,165,166,167,168,169,170,171,172,173,174,175,176,177,178,179,180,181,182,183,184,185,186,187,188,189,190,191,192,193,194,195,196,197,198,199,200,201,202,203,204,205,206,207,208,209,210,211,212,213,214,215,216,217,218,219,220,221,222,223,224,225,226,227,228,229,230,231,232,233,234,235,236,237,238,239,240,241,242,243,244,245,246,247,248,249,250,251,252,253,254,255,256,257,258,259,260,261,262,263,264,265,266,267,268,269,270,271,272,273,274,275,276,277,278,279,280,281,282,283,284,285,286,287,288,289,290,291,292,293,294,295,296,297,298,299,300,301,302,303,304,305,306,307,308,309,310,311,312,313,314,315,316,317,318,319,320,321,322,323,324,325,326,327,328,329,330,331,332,333,334,335,336,337,338,339,340,341,342,343,344,345,346,347,348,349,350,351,352,353,354,355,356,357,358,359,360,361,362,363,364,365,366,367,368,369,370,371,372,373,374,375,376,377,378,379,380,381,382,383,384,385,386,387,388,389,390,391,392,393,394,395,396,397,398,399,400,401,402,403,404,405,406,407,408,409,410,411,412,413,414,415,416,417,418,419,420,421,422,423,424,425,426,427,428,429,430,431,432,433,434,435,436,437,438,439,440,441,442,443,444,445,446,447,448,449,450,451,452,453,454,455,456,457,458,459,460,461,462,463,464,465,466,467,468,469,470,471,472,473,474,475,476,477,478,479,479,478,477,476,475,474,473,472,471,470,469,468,467,466,465,464,463,462,461,460,459,458,457,456,455,454,453,452,451,450,449,448,447,446,445,444,443,442,441,440,439,438,437,436,435,434,433,432,431,430,429,428,427,426,425,424,423,422,421,420,419,418,417,416,415,414,413,412,411,410,409,408,407,406,405,404,403,402,401,400,399,398,397,396,395,394,393,392,391,390,389,388,387,386,385,384,383,382,381,380,379,378,377,376,375,374,373,372,371,370,369,368,367,366,365,364,363,362,361,360,359,358,357,356,355,354,353,352,351,350,349,348,347,346,345,344,343,342,341,340,339,338,337,336,335,334,333,332,331,330,329,328,327,326,325,324,323,322,321,320,319,318,317,316,315,314,313,312,311,310,309,308,307,306,305,304,303,302,301,300,299,298,297,296,295,294,293,292,291,290,289,288,287,286,285,284,283,282,281,280,279,278,277,276,275,274,273,272,271,270,269,268,267,266,265,264,263,262,261,260,259,258,257,256,255,254,253,252,251,250,249,248,247,246,245,244,243,242,241,240,239,238,237,236,235,234,233,232,231,230,229,228,227,226,225,224,223,222,221,220,219,218,217,216,215,214,213,212,211,210,209,208,207,206,205,204,203,202,201,200,199,198,197,196,195,194,193,192,191,190,189,188,187,186,185,184,183,182,181,180,179,178,177,176,175,174,173,172,171,170,169,168,167,166,165,164,163,162,161,160,159,158,157,156,155,154,153,152,151,150,149,148,147,146,145,144,143,142,141,140,139,138,137,136,135,134,133,132,131,130,129,128,127,126,125,124,123,122,121,120,119,118,117,116,115,114,113,112,111,110,109,108,107,106,105,104,103,102,101,100,99,98,97,96,95,94,93,92,91,90,89,88,87,86,85,84,83,82,81,80,79,78,77,76,75,74,73,72,71,70,69,68,67,66,65,64,63,62,61,60,59,58,57,56,55,54,53,52,51,50,49,48,47,46,45,44,43,42,41,40,39,38,37,36,35,34,33,32,31,30,29,28,27,26,25,24,23,22,21,20,19,18,17,16,15,14,13,12,11,10,9,8,7,6,5,4,3,2,1,0],\"y\":{\"__ndarray__\":\"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\",\"dtype\":\"float64\",\"order\":\"little\",\"shape\":[960]}},\"selected\":{\"id\":\"1058\"},\"selection_policy\":{\"id\":\"1057\"}},\"id\":\"1042\",\"type\":\"ColumnDataSource\"},{\"attributes\":{\"fill_alpha\":0.2,\"fill_color\":\"#440154\",\"hatch_alpha\":0.2,\"hatch_color\":\"#440154\",\"line_alpha\":0.2,\"line_color\":\"#440154\",\"x\":{\"field\":\"x\"},\"y\":{\"field\":\"y\"}},\"id\":\"1045\",\"type\":\"Patch\"}],\"root_ids\":[\"1004\"]},\"title\":\"Bokeh Application\",\"version\":\"2.4.3\"}};\n",
       "  const render_items = [{\"docid\":\"b2bb690b-640c-4618-9e1b-4a6c3a83342b\",\"root_ids\":[\"1004\"],\"roots\":{\"1004\":\"63bb0c24-f913-41df-9b37-46758828306b\"}}];\n",
       "  root.Bokeh.embed.embed_items_notebook(docs_json, render_items);\n",
       "  }\n",
       "  if (root.Bokeh !== undefined) {\n",
       "    embed_document(root);\n",
       "  } else {\n",
       "    let attempts = 0;\n",
       "    const timer = setInterval(function(root) {\n",
       "      if (root.Bokeh !== undefined) {\n",
       "        clearInterval(timer);\n",
       "        embed_document(root);\n",
       "      } else {\n",
       "        attempts++;\n",
       "        if (attempts > 100) {\n",
       "          clearInterval(timer);\n",
       "          console.log(\"Bokeh: ERROR: Unable to run BokehJS code because BokehJS library is missing\");\n",
       "        }\n",
       "      }\n",
       "    }, 10, root)\n",
       "  }\n",
       "})(window);"
      ],
      "application/vnd.bokehjs_exec.v0+json": ""
     },
     "metadata": {
      "application/vnd.bokehjs_exec.v0+json": {
       "id": "1004"
      }
     },
     "output_type": "display_data"
    },
    {
     "data": {
      "text/html": [
       "\n",
       "  <div class=\"bk-root\" id=\"551349bf-be3e-495c-9616-634e9e9adad0\" data-root-id=\"1121\"></div>\n"
      ]
     },
     "metadata": {},
     "output_type": "display_data"
    },
    {
     "data": {
      "application/javascript": [
       "(function(root) {\n",
       "  function embed_document(root) {\n",
       "  const docs_json = {\"82189409-fe7f-49a9-b287-93fbe4add6c8\":{\"defs\":[],\"roots\":{\"references\":[{\"attributes\":{\"below\":[{\"id\":\"1132\"}],\"center\":[{\"id\":\"1135\"},{\"id\":\"1139\"}],\"height\":400,\"left\":[{\"id\":\"1136\"}],\"renderers\":[{\"id\":\"1157\"},{\"id\":\"1163\"}],\"title\":{\"id\":\"1122\"},\"toolbar\":{\"id\":\"1146\"},\"width\":700,\"x_range\":{\"id\":\"1124\"},\"x_scale\":{\"id\":\"1128\"},\"y_range\":{\"id\":\"1126\"},\"y_scale\":{\"id\":\"1130\"}},\"id\":\"1121\",\"subtype\":\"Figure\",\"type\":\"Plot\"},{\"attributes\":{},\"id\":\"1180\",\"type\":\"AllLabels\"},{\"attributes\":{},\"id\":\"1185\",\"type\":\"Selection\"},{\"attributes\":{\"coordinates\":null,\"data_source\":{\"id\":\"1153\"},\"glyph\":{\"id\":\"1154\"},\"group\":null,\"hover_glyph\":null,\"muted_glyph\":{\"id\":\"1156\"},\"name\":\"hover\",\"nonselection_glyph\":{\"id\":\"1155\"},\"view\":{\"id\":\"1158\"}},\"id\":\"1157\",\"type\":\"GlyphRenderer\"},{\"attributes\":{},\"id\":\"1124\",\"type\":\"DataRange1d\"},{\"attributes\":{},\"id\":\"1184\",\"type\":\"UnionRenderers\"},{\"attributes\":{},\"id\":\"1128\",\"type\":\"LinearScale\"},{\"attributes\":{\"data\":{\"x\":[0,1,2,3,4,5,6,7,8,9,10,11,12,13,14,15,16,17,18,19,20,21,22,23,24,25,26,27,28,29,30,31,32,33,34,35,36,37,38,39,40,41,42,43,44,45,46,47,48,49,50,51,52,53,54,55,56,57,58,59,60,61,62,63,64,65,66,67,68,69,70,71,72,73,74,75,76,77,78,79,80,81,82,83,84,85,86,87,88,89,90,91,92,93,94,95,96,97,98,99,100,101,102,103,104,105,106,107,108,109,110,111,112,113,114,115,116,117,118,119,120,121,122,123,124,125,126,127,128,129,130,131,132,133,134,135,136,137,138,139,140,141,142,143,144,145,146,147,148,149,150,151,152,153,154,155,156,157,158,159,160,161,162,163,164,165,166,167,168,169,170,171,172,173,174,175,176,177,178,179,180,181,182,183,184,185,186,187,188,189,190,191,192,193,194,195,196,197,198,199,200,201,202,203,204,205,206,207,208,209,210,211,212,213,214,215,216,217,218,219,220,221,222,223,224,225,226,227,228,229,230,231,232,233,234,235,236,237,238,239,240,241,242,243,244,245,246,247,248,249,250,251,252,253,254,255,256,257,258,259,260,261,262,263,264,265,266,267,268,269,270,271,272,273,274,275,276,277,278,279,280,281,282,283,284,285,286,287,288,289,290,291,292,293,294,295,296,297,298,299,300,301,302,303,304,305,306,307,308,309,310,311,312,313,314,315,316,317,318,319,320,321,322,323,324,325,326,327,328,329,330,331,332,333,334,335,336,337,338,339,340,341,342,343,344,345,346,347,348,349,350,351,352,353,354,355,356,357,358,359,360,361,362,363,364,365,366,367,368,369,370,371,372,373,374,375,376,377,378,379,380,381,382,383,384,385,386,387,388,389,390,391,392,393,394,395,396,397,398,399,400,401,402,403,404,405,406,407,408,409,410,411,412,413,414,415,416,417,418,419,420,421,422,423,424,425,426,427,428,429,430,431,432,433,434,435,436,437,438,439,440,441,442,443,444,445,446,447,448,449,450,451,452,453,454,455,456,457,458,459,460,461,462,463,464,465,466,467,468,469,470,471,472,473,474,475,476,477,478,479],\"y\":[38343.75,35625.0,35437.5,35156.25,34406.25,34031.25,34031.25,34031.25,33656.25,33281.25,33093.75,32906.25,32812.5,32718.75,32718.75,32250.0,32250.0,32343.75,32343.75,31687.5,31687.5,31312.5,31031.25,31031.25,30468.75,30468.75,30000.0,30281.25,29718.75,29718.75,29812.5,29718.75,29531.25,29437.5,29625.0,29812.5,29343.75,28968.75,28500.0,28500.0,28500.0,28312.5,28218.75,27937.5,27937.5,27937.5,27468.75,27750.0,27750.0,27375.0,27750.0,27750.0,27750.0,27937.5,28218.75,28218.75,28218.75,28218.75,27937.5,28125.0,28125.0,28125.0,27843.75,27656.25,27843.75,27562.5,27281.25,27187.5,27093.75,27000.0,27000.0,26343.75,26343.75,26250.0,26625.0,26437.5,26437.5,26437.5,26250.0,26343.75,26437.5,26062.5,26062.5,26062.5,26343.75,26437.5,26437.5,27000.0,26625.0,26531.25,26343.75,26062.5,26062.5,25500.0,24562.5,24468.75,24000.0,24000.0,23812.5,24281.25,24750.0,24281.25,24000.0,23437.5,23718.75,23625.0,23718.75,23531.25,23250.0,23250.0,23437.5,23718.75,23343.75,23531.25,23343.75,23343.75,23156.25,23250.0,23062.5,23812.5,23718.75,23437.5,24187.5,23906.25,24000.0,23906.25,23906.25,23718.75,23343.75,23625.0,24093.75,24281.25,23718.75,23625.0,23156.25,23531.25,23343.75,23718.75,23625.0,24187.5,24000.0,23718.75,23718.75,23812.5,24000.0,24187.5,24187.5,24187.5,25312.5,25406.25,24937.5,25406.25,24000.0,24375.0,24843.75,24375.0,24187.5,24375.0,24281.25,23437.5,23343.75,23250.0,23250.0,22406.25,22500.0,21843.75,22593.75,22406.25,22406.25,22781.25,22875.0,22500.0,23250.0,22031.25,22500.0,21843.75,22406.25,20906.25,21093.75,19968.75,21843.75,22687.5,18000.0,16312.5,15937.5,15843.75,15750.0,16593.75,16687.5,17437.5,17812.5,18562.5,19781.25,18750.0,18000.0,17906.25,15750.0,13968.75,14718.75,13968.75,14718.75,15281.25,15562.5,15000.0,14343.75,13781.25,14156.25,14531.25,14437.5,14437.5,14062.5,14250.0,14156.25,13781.25,14250.0,14531.25,14625.0,14625.0,14531.25,14437.5,14437.5,14812.5,14625.0,14343.75,13875.0,13875.0,14531.25,14343.75,14250.0,14437.5,14062.5,13593.75,13406.25,14250.0,14718.75,14437.5,13968.75,13218.75,12937.5,12843.75,13312.5,14250.0,14531.25,14250.0,13875.0,14250.0,13500.0,13312.5,14437.5,14531.25,14343.75,14437.5,13968.75,13125.0,12187.5,12375.0,12656.25,13125.0,13968.75,14625.0,14250.0,13781.25,13875.0,12843.75,13312.5,14343.75,14812.5,14812.5,14812.5,14812.5,14812.5,14812.5,14812.5,14812.5,14812.5,14812.5,14812.5,14812.5,14812.5,14812.5,14625.0,14343.75,13781.25,12562.5,12093.75,12093.75,12093.75,12093.75,12281.25,12562.5,13125.0,13500.0,14812.5,14812.5,14812.5,14812.5,14812.5,14812.5,14812.5,14812.5,14812.5,14812.5,14812.5,14812.5,14812.5,14812.5,14812.5,14812.5,14812.5,14812.5,14812.5,14812.5,14812.5,14812.5,14812.5,14812.5,14812.5,14812.5,14812.5,14812.5,14812.5,14812.5,14625.0,14250.0,13500.0,12187.5,12187.5,12187.5,12187.5,12187.5,12187.5,12187.5,12187.5,12187.5,12187.5,12187.5,12187.5,12187.5,12187.5,12187.5,12187.5,12187.5,12187.5,12187.5,12187.5,12187.5,12187.5,12187.5,12187.5,12187.5,12187.5,12187.5,12187.5,12187.5,12187.5,12187.5,12187.5,12187.5,12187.5,12187.5,12187.5,12187.5,12187.5,12187.5,12187.5,12187.5,12187.5,12187.5,12187.5,12187.5,12187.5,12375.0,12750.0,13500.0,14812.5,14812.5,14812.5,14812.5,14812.5,14812.5,14812.5,14812.5,14812.5,14812.5,14812.5,14812.5,14812.5,14812.5,14812.5,14812.5,14812.5,14812.5,14812.5,14812.5,14812.5,14812.5,14812.5,14812.5,14812.5,14812.5,14812.5,14812.5,14812.5,14812.5,14812.5,14812.5,14812.5,14812.5,14812.5,14812.5,14812.5,14812.5,14812.5,14812.5,14812.5,14812.5,14812.5,14812.5,14812.5,14812.5,14812.5,14812.5,14812.5,14812.5,14812.5,14812.5,14812.5,14812.5,14812.5,14812.5,14812.5,14812.5,14812.5,14812.5,14812.5,14812.5,14812.5,14812.5,14812.5,14812.5,14812.5,14812.5,14812.5,14812.5,14812.5,14812.5,14812.5,14812.5,14812.5,14812.5,14812.5,14812.5,14812.5,14812.5,14812.5,14812.5,14812.5,14812.5,14812.5,14812.5,14812.5,14812.5,14812.5,14812.5,14812.5,14812.5,14812.5,14812.5,14812.5,14812.5,14812.5,14812.5,14812.5,14812.5,14812.5,14812.5,14812.5,14812.5,14812.5,14812.5]},\"selected\":{\"id\":\"1185\"},\"selection_policy\":{\"id\":\"1184\"}},\"id\":\"1153\",\"type\":\"ColumnDataSource\"},{\"attributes\":{},\"id\":\"1183\",\"type\":\"AllLabels\"},{\"attributes\":{\"coordinates\":null,\"group\":null,\"text\":\"Objective function Smoothness w.r.t. the generation\"},\"id\":\"1122\",\"type\":\"Title\"},{\"attributes\":{},\"id\":\"1182\",\"type\":\"BasicTickFormatter\"},{\"attributes\":{\"fill_alpha\":0.2,\"fill_color\":\"#208F8C\",\"hatch_alpha\":0.2,\"hatch_color\":\"#208F8C\",\"line_alpha\":0.2,\"line_color\":\"#208F8C\",\"x\":{\"field\":\"x\"},\"y\":{\"field\":\"y\"}},\"id\":\"1162\",\"type\":\"Patch\"},{\"attributes\":{\"source\":{\"id\":\"1153\"}},\"id\":\"1158\",\"type\":\"CDSView\"},{\"attributes\":{\"fill_alpha\":0.2,\"fill_color\":\"#208F8C\",\"hatch_color\":\"#208F8C\",\"line_color\":\"#208F8C\",\"x\":{\"field\":\"x\"},\"y\":{\"field\":\"y\"}},\"id\":\"1160\",\"type\":\"Patch\"},{\"attributes\":{\"line_color\":\"#208F8C\",\"x\":{\"field\":\"x\"},\"y\":{\"field\":\"y\"}},\"id\":\"1154\",\"type\":\"Line\"},{\"attributes\":{\"coordinates\":null,\"data_source\":{\"id\":\"1159\"},\"glyph\":{\"id\":\"1160\"},\"group\":null,\"hover_glyph\":null,\"muted_glyph\":{\"id\":\"1162\"},\"nonselection_glyph\":{\"id\":\"1161\"},\"view\":{\"id\":\"1164\"}},\"id\":\"1163\",\"type\":\"GlyphRenderer\"},{\"attributes\":{},\"id\":\"1130\",\"type\":\"LinearScale\"},{\"attributes\":{\"line_alpha\":0.1,\"line_color\":\"#208F8C\",\"x\":{\"field\":\"x\"},\"y\":{\"field\":\"y\"}},\"id\":\"1155\",\"type\":\"Line\"},{\"attributes\":{\"tools\":[{\"id\":\"1120\"},{\"id\":\"1140\"},{\"id\":\"1141\"},{\"id\":\"1142\"},{\"id\":\"1143\"},{\"id\":\"1144\"}]},\"id\":\"1146\",\"type\":\"Toolbar\"},{\"attributes\":{\"source\":{\"id\":\"1159\"}},\"id\":\"1164\",\"type\":\"CDSView\"},{\"attributes\":{\"line_alpha\":0.2,\"line_color\":\"#208F8C\",\"x\":{\"field\":\"x\"},\"y\":{\"field\":\"y\"}},\"id\":\"1156\",\"type\":\"Line\"},{\"attributes\":{\"callback\":null},\"id\":\"1120\",\"type\":\"HoverTool\"},{\"attributes\":{},\"id\":\"1141\",\"type\":\"WheelZoomTool\"},{\"attributes\":{},\"id\":\"1133\",\"type\":\"BasicTicker\"},{\"attributes\":{},\"id\":\"1140\",\"type\":\"PanTool\"},{\"attributes\":{\"axis_label\":\"Smoothness\",\"coordinates\":null,\"formatter\":{\"id\":\"1179\"},\"group\":null,\"major_label_policy\":{\"id\":\"1180\"},\"ticker\":{\"id\":\"1137\"}},\"id\":\"1136\",\"type\":\"LinearAxis\"},{\"attributes\":{\"data\":{\"x\":[0,1,2,3,4,5,6,7,8,9,10,11,12,13,14,15,16,17,18,19,20,21,22,23,24,25,26,27,28,29,30,31,32,33,34,35,36,37,38,39,40,41,42,43,44,45,46,47,48,49,50,51,52,53,54,55,56,57,58,59,60,61,62,63,64,65,66,67,68,69,70,71,72,73,74,75,76,77,78,79,80,81,82,83,84,85,86,87,88,89,90,91,92,93,94,95,96,97,98,99,100,101,102,103,104,105,106,107,108,109,110,111,112,113,114,115,116,117,118,119,120,121,122,123,124,125,126,127,128,129,130,131,132,133,134,135,136,137,138,139,140,141,142,143,144,145,146,147,148,149,150,151,152,153,154,155,156,157,158,159,160,161,162,163,164,165,166,167,168,169,170,171,172,173,174,175,176,177,178,179,180,181,182,183,184,185,186,187,188,189,190,191,192,193,194,195,196,197,198,199,200,201,202,203,204,205,206,207,208,209,210,211,212,213,214,215,216,217,218,219,220,221,222,223,224,225,226,227,228,229,230,231,232,233,234,235,236,237,238,239,240,241,242,243,244,245,246,247,248,249,250,251,252,253,254,255,256,257,258,259,260,261,262,263,264,265,266,267,268,269,270,271,272,273,274,275,276,277,278,279,280,281,282,283,284,285,286,287,288,289,290,291,292,293,294,295,296,297,298,299,300,301,302,303,304,305,306,307,308,309,310,311,312,313,314,315,316,317,318,319,320,321,322,323,324,325,326,327,328,329,330,331,332,333,334,335,336,337,338,339,340,341,342,343,344,345,346,347,348,349,350,351,352,353,354,355,356,357,358,359,360,361,362,363,364,365,366,367,368,369,370,371,372,373,374,375,376,377,378,379,380,381,382,383,384,385,386,387,388,389,390,391,392,393,394,395,396,397,398,399,400,401,402,403,404,405,406,407,408,409,410,411,412,413,414,415,416,417,418,419,420,421,422,423,424,425,426,427,428,429,430,431,432,433,434,435,436,437,438,439,440,441,442,443,444,445,446,447,448,449,450,451,452,453,454,455,456,457,458,459,460,461,462,463,464,465,466,467,468,469,470,471,472,473,474,475,476,477,478,479,479,478,477,476,475,474,473,472,471,470,469,468,467,466,465,464,463,462,461,460,459,458,457,456,455,454,453,452,451,450,449,448,447,446,445,444,443,442,441,440,439,438,437,436,435,434,433,432,431,430,429,428,427,426,425,424,423,422,421,420,419,418,417,416,415,414,413,412,411,410,409,408,407,406,405,404,403,402,401,400,399,398,397,396,395,394,393,392,391,390,389,388,387,386,385,384,383,382,381,380,379,378,377,376,375,374,373,372,371,370,369,368,367,366,365,364,363,362,361,360,359,358,357,356,355,354,353,352,351,350,349,348,347,346,345,344,343,342,341,340,339,338,337,336,335,334,333,332,331,330,329,328,327,326,325,324,323,322,321,320,319,318,317,316,315,314,313,312,311,310,309,308,307,306,305,304,303,302,301,300,299,298,297,296,295,294,293,292,291,290,289,288,287,286,285,284,283,282,281,280,279,278,277,276,275,274,273,272,271,270,269,268,267,266,265,264,263,262,261,260,259,258,257,256,255,254,253,252,251,250,249,248,247,246,245,244,243,242,241,240,239,238,237,236,235,234,233,232,231,230,229,228,227,226,225,224,223,222,221,220,219,218,217,216,215,214,213,212,211,210,209,208,207,206,205,204,203,202,201,200,199,198,197,196,195,194,193,192,191,190,189,188,187,186,185,184,183,182,181,180,179,178,177,176,175,174,173,172,171,170,169,168,167,166,165,164,163,162,161,160,159,158,157,156,155,154,153,152,151,150,149,148,147,146,145,144,143,142,141,140,139,138,137,136,135,134,133,132,131,130,129,128,127,126,125,124,123,122,121,120,119,118,117,116,115,114,113,112,111,110,109,108,107,106,105,104,103,102,101,100,99,98,97,96,95,94,93,92,91,90,89,88,87,86,85,84,83,82,81,80,79,78,77,76,75,74,73,72,71,70,69,68,67,66,65,64,63,62,61,60,59,58,57,56,55,54,53,52,51,50,49,48,47,46,45,44,43,42,41,40,39,38,37,36,35,34,33,32,31,30,29,28,27,26,25,24,23,22,21,20,19,18,17,16,15,14,13,12,11,10,9,8,7,6,5,4,3,2,1,0],\"y\":{\"__ndarray__\":\"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\",\"dtype\":\"float64\",\"order\":\"little\",\"shape\":[960]}},\"selected\":{\"id\":\"1187\"},\"selection_policy\":{\"id\":\"1186\"}},\"id\":\"1159\",\"type\":\"ColumnDataSource\"},{\"attributes\":{\"axis_label\":\"Generation\",\"coordinates\":null,\"formatter\":{\"id\":\"1182\"},\"group\":null,\"major_label_policy\":{\"id\":\"1183\"},\"ticker\":{\"id\":\"1133\"}},\"id\":\"1132\",\"type\":\"LinearAxis\"},{\"attributes\":{\"overlay\":{\"id\":\"1145\"}},\"id\":\"1142\",\"type\":\"BoxZoomTool\"},{\"attributes\":{},\"id\":\"1143\",\"type\":\"SaveTool\"},{\"attributes\":{},\"id\":\"1144\",\"type\":\"ResetTool\"},{\"attributes\":{\"fill_alpha\":0.1,\"fill_color\":\"#208F8C\",\"hatch_alpha\":0.1,\"hatch_color\":\"#208F8C\",\"line_alpha\":0.1,\"line_color\":\"#208F8C\",\"x\":{\"field\":\"x\"},\"y\":{\"field\":\"y\"}},\"id\":\"1161\",\"type\":\"Patch\"},{\"attributes\":{\"axis\":{\"id\":\"1136\"},\"coordinates\":null,\"dimension\":1,\"grid_line_alpha\":0.4,\"group\":null,\"ticker\":null},\"id\":\"1139\",\"type\":\"Grid\"},{\"attributes\":{},\"id\":\"1187\",\"type\":\"Selection\"},{\"attributes\":{},\"id\":\"1137\",\"type\":\"BasicTicker\"},{\"attributes\":{\"bottom_units\":\"screen\",\"coordinates\":null,\"fill_alpha\":0.5,\"fill_color\":\"lightgrey\",\"group\":null,\"left_units\":\"screen\",\"level\":\"overlay\",\"line_alpha\":1.0,\"line_color\":\"black\",\"line_dash\":[4,4],\"line_width\":2,\"right_units\":\"screen\",\"syncable\":false,\"top_units\":\"screen\"},\"id\":\"1145\",\"type\":\"BoxAnnotation\"},{\"attributes\":{},\"id\":\"1186\",\"type\":\"UnionRenderers\"},{\"attributes\":{},\"id\":\"1179\",\"type\":\"BasicTickFormatter\"},{\"attributes\":{},\"id\":\"1126\",\"type\":\"DataRange1d\"},{\"attributes\":{\"axis\":{\"id\":\"1132\"},\"coordinates\":null,\"grid_line_alpha\":0.4,\"group\":null,\"ticker\":null},\"id\":\"1135\",\"type\":\"Grid\"}],\"root_ids\":[\"1121\"]},\"title\":\"Bokeh Application\",\"version\":\"2.4.3\"}};\n",
       "  const render_items = [{\"docid\":\"82189409-fe7f-49a9-b287-93fbe4add6c8\",\"root_ids\":[\"1121\"],\"roots\":{\"1121\":\"551349bf-be3e-495c-9616-634e9e9adad0\"}}];\n",
       "  root.Bokeh.embed.embed_items_notebook(docs_json, render_items);\n",
       "  }\n",
       "  if (root.Bokeh !== undefined) {\n",
       "    embed_document(root);\n",
       "  } else {\n",
       "    let attempts = 0;\n",
       "    const timer = setInterval(function(root) {\n",
       "      if (root.Bokeh !== undefined) {\n",
       "        clearInterval(timer);\n",
       "        embed_document(root);\n",
       "      } else {\n",
       "        attempts++;\n",
       "        if (attempts > 100) {\n",
       "          clearInterval(timer);\n",
       "          console.log(\"Bokeh: ERROR: Unable to run BokehJS code because BokehJS library is missing\");\n",
       "        }\n",
       "      }\n",
       "    }, 10, root)\n",
       "  }\n",
       "})(window);"
      ],
      "application/vnd.bokehjs_exec.v0+json": ""
     },
     "metadata": {
      "application/vnd.bokehjs_exec.v0+json": {
       "id": "1121"
      }
     },
     "output_type": "display_data"
    }
   ],
   "source": [
    "# Stats per generations\n",
    "df_record = pd.DataFrame(logbook)\n",
    "\n",
    "# Performances per individual\n",
    "metrics = [(0, \"Absolute Error\"),\n",
    "           (1, \"Smoothness\")]\n",
    "\n",
    "for idx, name in metrics:\n",
    "    # Evolution of the score per generation\n",
    "    hover0 = HoverTool()\n",
    "    p = figure(title=\"Objective function {} w.r.t. the generation\".format(name),\n",
    "               width=700,\n",
    "               height=400,\n",
    "               tools=[\"pan\", \"wheel_zoom\", \"box_zoom\", \"save\", \"reset\", hover0])\n",
    "    p.grid.grid_line_alpha = 0.4\n",
    "    p.xaxis.axis_label = 'Generation'\n",
    "    p.yaxis.axis_label = name\n",
    "    p.line(df_record[\"gen\"],\n",
    "           [x[idx] for x in df_record[\"avg\"]],\n",
    "           color=viridis(len(metrics) + 1)[idx], name=\"hover\")\n",
    "\n",
    "    # Bollinger shading glyph\n",
    "    upperband = [x[idx] for x in df_record[\"max\"]]\n",
    "    lowerband = [x[idx] for x in df_record[\"min\"]]\n",
    "    x_data = df_record[\"gen\"]\n",
    "\n",
    "    # Define Bollinger Bands\n",
    "    band_x = np.append(x_data, x_data[::-1])\n",
    "    band_y = np.append(lowerband, upperband[::-1])\n",
    "    p.patch(band_x, band_y, color=viridis(len(metrics) + 1)[idx],\n",
    "            fill_alpha=0.2)\n",
    "    show(p)"
   ]
  },
  {
   "cell_type": "markdown",
   "metadata": {
    "deletable": false,
    "editable": false,
    "nbgrader": {
     "cell_type": "markdown",
     "checksum": "32a017162065ee7861deefca7dfc523a",
     "grade": false,
     "grade_id": "cell-9d060bb9f791bd1c",
     "locked": true,
     "schema_version": 3,
     "solution": false,
     "task": false
    }
   },
   "source": [
    "We select the first Pareto front and output the value of their fitness functions:"
   ]
  },
  {
   "cell_type": "code",
   "execution_count": 60,
   "metadata": {
    "deletable": false,
    "editable": false,
    "nbgrader": {
     "cell_type": "code",
     "checksum": "64a962d25ce8c0483bacbf7bbb433af2",
     "grade": false,
     "grade_id": "cell-e18dee41971295f0",
     "locked": true,
     "schema_version": 3,
     "solution": false,
     "task": false
    }
   },
   "outputs": [],
   "source": [
    "best = tools.sortLogNondominated(pop, 1, first_front_only=True)"
   ]
  },
  {
   "cell_type": "code",
   "execution_count": 61,
   "metadata": {
    "deletable": false,
    "editable": false,
    "nbgrader": {
     "cell_type": "code",
     "checksum": "de79eb76f15e6d7e74f4b0a8a964abea",
     "grade": false,
     "grade_id": "cell-f3566ef24e68a0e0",
     "locked": true,
     "schema_version": 3,
     "solution": false,
     "task": false
    }
   },
   "outputs": [
    {
     "name": "stdout",
     "output_type": "stream",
     "text": [
      "(10695.0, 15000.0)\n",
      "(10695.0, 15000.0)\n",
      "(10695.0, 15000.0)\n",
      "(10695.0, 15000.0)\n",
      "(10695.0, 15000.0)\n",
      "(10695.0, 15000.0)\n",
      "(10695.0, 15000.0)\n",
      "(10695.0, 15000.0)\n",
      "(10695.0, 15000.0)\n",
      "(10695.0, 15000.0)\n",
      "(10695.0, 15000.0)\n",
      "(10695.0, 15000.0)\n",
      "(10695.0, 15000.0)\n",
      "(10695.0, 15000.0)\n",
      "(10695.0, 15000.0)\n",
      "(10695.0, 15000.0)\n",
      "(10695.0, 15000.0)\n",
      "(10695.0, 15000.0)\n",
      "(10695.0, 15000.0)\n",
      "(10695.0, 15000.0)\n",
      "(10695.0, 15000.0)\n",
      "(10695.0, 15000.0)\n",
      "(10695.0, 15000.0)\n",
      "(10695.0, 15000.0)\n",
      "(10695.0, 15000.0)\n",
      "(10695.0, 15000.0)\n",
      "(10695.0, 15000.0)\n",
      "(10695.0, 15000.0)\n",
      "(10695.0, 15000.0)\n",
      "(10695.0, 15000.0)\n",
      "(12825.0, 12000.0)\n",
      "(12825.0, 12000.0)\n"
     ]
    }
   ],
   "source": [
    "for indivi in best:\n",
    "    print(indivi.fitness)"
   ]
  },
  {
   "cell_type": "markdown",
   "metadata": {
    "deletable": false,
    "editable": false,
    "nbgrader": {
     "cell_type": "markdown",
     "checksum": "e2c8f7eb362d93bcf46f9e51d8a77851",
     "grade": false,
     "grade_id": "cell-88cfa98491e9c908",
     "locked": true,
     "schema_version": 3,
     "solution": false,
     "task": false
    }
   },
   "source": [
    "As they are sorted in lexicographical order (first fitness function in ascending order), let's show the last individual (which is the best solution w.r.t. the second fitness function)."
   ]
  },
  {
   "cell_type": "code",
   "execution_count": 62,
   "metadata": {
    "deletable": false,
    "editable": false,
    "nbgrader": {
     "cell_type": "code",
     "checksum": "5b3896c4c795a84fb3fbdcbfa2728a5d",
     "grade": false,
     "grade_id": "cell-3d41b15ec8a9119e",
     "locked": true,
     "schema_version": 3,
     "solution": false,
     "task": false
    }
   },
   "outputs": [
    {
     "data": {
      "text/html": [
       "<div>\n",
       "<style scoped>\n",
       "    .dataframe tbody tr th:only-of-type {\n",
       "        vertical-align: middle;\n",
       "    }\n",
       "\n",
       "    .dataframe tbody tr th {\n",
       "        vertical-align: top;\n",
       "    }\n",
       "\n",
       "    .dataframe thead th {\n",
       "        text-align: right;\n",
       "    }\n",
       "</style>\n",
       "<table border=\"1\" class=\"dataframe\">\n",
       "  <thead>\n",
       "    <tr style=\"text-align: right;\">\n",
       "      <th></th>\n",
       "      <th>A+</th>\n",
       "      <th>A</th>\n",
       "      <th>B+</th>\n",
       "      <th>B</th>\n",
       "      <th>C+</th>\n",
       "      <th>C</th>\n",
       "      <th>C-</th>\n",
       "      <th>D+</th>\n",
       "      <th>D</th>\n",
       "      <th>D-</th>\n",
       "      <th>E+</th>\n",
       "      <th>E</th>\n",
       "      <th>E-</th>\n",
       "    </tr>\n",
       "  </thead>\n",
       "  <tbody>\n",
       "    <tr>\n",
       "      <th>A+</th>\n",
       "      <td>0.257511</td>\n",
       "      <td>0.000000</td>\n",
       "      <td>0.000000</td>\n",
       "      <td>0.000000</td>\n",
       "      <td>0.140056</td>\n",
       "      <td>0.107603</td>\n",
       "      <td>0.163076</td>\n",
       "      <td>0.065693</td>\n",
       "      <td>0.036811</td>\n",
       "      <td>0.000000</td>\n",
       "      <td>0.169531</td>\n",
       "      <td>0.059719</td>\n",
       "      <td>0.000000</td>\n",
       "    </tr>\n",
       "    <tr>\n",
       "      <th>A</th>\n",
       "      <td>0.182451</td>\n",
       "      <td>0.000000</td>\n",
       "      <td>0.000000</td>\n",
       "      <td>0.046847</td>\n",
       "      <td>0.000000</td>\n",
       "      <td>0.180724</td>\n",
       "      <td>0.000000</td>\n",
       "      <td>0.000000</td>\n",
       "      <td>0.043633</td>\n",
       "      <td>0.000514</td>\n",
       "      <td>0.012196</td>\n",
       "      <td>0.085944</td>\n",
       "      <td>0.447692</td>\n",
       "    </tr>\n",
       "    <tr>\n",
       "      <th>B+</th>\n",
       "      <td>0.165316</td>\n",
       "      <td>0.000000</td>\n",
       "      <td>0.183218</td>\n",
       "      <td>0.028071</td>\n",
       "      <td>0.082426</td>\n",
       "      <td>0.000000</td>\n",
       "      <td>0.141535</td>\n",
       "      <td>0.009858</td>\n",
       "      <td>0.164605</td>\n",
       "      <td>0.073785</td>\n",
       "      <td>0.079102</td>\n",
       "      <td>0.000000</td>\n",
       "      <td>0.072083</td>\n",
       "    </tr>\n",
       "    <tr>\n",
       "      <th>B</th>\n",
       "      <td>0.000000</td>\n",
       "      <td>0.097675</td>\n",
       "      <td>0.000000</td>\n",
       "      <td>0.203722</td>\n",
       "      <td>0.052713</td>\n",
       "      <td>0.109946</td>\n",
       "      <td>0.000000</td>\n",
       "      <td>0.000000</td>\n",
       "      <td>0.099239</td>\n",
       "      <td>0.045208</td>\n",
       "      <td>0.173040</td>\n",
       "      <td>0.074803</td>\n",
       "      <td>0.143655</td>\n",
       "    </tr>\n",
       "    <tr>\n",
       "      <th>C+</th>\n",
       "      <td>0.000000</td>\n",
       "      <td>0.000000</td>\n",
       "      <td>0.172397</td>\n",
       "      <td>0.191036</td>\n",
       "      <td>0.000000</td>\n",
       "      <td>0.000000</td>\n",
       "      <td>0.178192</td>\n",
       "      <td>0.000000</td>\n",
       "      <td>0.255373</td>\n",
       "      <td>0.000000</td>\n",
       "      <td>0.099696</td>\n",
       "      <td>0.103307</td>\n",
       "      <td>0.000000</td>\n",
       "    </tr>\n",
       "    <tr>\n",
       "      <th>C</th>\n",
       "      <td>0.062988</td>\n",
       "      <td>0.160719</td>\n",
       "      <td>0.098110</td>\n",
       "      <td>0.028281</td>\n",
       "      <td>0.084818</td>\n",
       "      <td>0.321190</td>\n",
       "      <td>0.000000</td>\n",
       "      <td>0.243895</td>\n",
       "      <td>0.000000</td>\n",
       "      <td>0.000000</td>\n",
       "      <td>0.000000</td>\n",
       "      <td>0.000000</td>\n",
       "      <td>0.000000</td>\n",
       "    </tr>\n",
       "    <tr>\n",
       "      <th>C-</th>\n",
       "      <td>0.000000</td>\n",
       "      <td>0.024621</td>\n",
       "      <td>0.000000</td>\n",
       "      <td>0.000000</td>\n",
       "      <td>0.101977</td>\n",
       "      <td>0.136232</td>\n",
       "      <td>0.191616</td>\n",
       "      <td>0.101075</td>\n",
       "      <td>0.034183</td>\n",
       "      <td>0.188700</td>\n",
       "      <td>0.042885</td>\n",
       "      <td>0.178711</td>\n",
       "      <td>0.000000</td>\n",
       "    </tr>\n",
       "    <tr>\n",
       "      <th>D+</th>\n",
       "      <td>0.197770</td>\n",
       "      <td>0.030784</td>\n",
       "      <td>0.000000</td>\n",
       "      <td>0.208820</td>\n",
       "      <td>0.114627</td>\n",
       "      <td>0.009129</td>\n",
       "      <td>0.039104</td>\n",
       "      <td>0.000000</td>\n",
       "      <td>0.190421</td>\n",
       "      <td>0.032835</td>\n",
       "      <td>0.037754</td>\n",
       "      <td>0.138754</td>\n",
       "      <td>0.000000</td>\n",
       "    </tr>\n",
       "    <tr>\n",
       "      <th>D</th>\n",
       "      <td>0.000000</td>\n",
       "      <td>0.000000</td>\n",
       "      <td>0.034781</td>\n",
       "      <td>0.030891</td>\n",
       "      <td>0.196467</td>\n",
       "      <td>0.021169</td>\n",
       "      <td>0.032797</td>\n",
       "      <td>0.166493</td>\n",
       "      <td>0.072823</td>\n",
       "      <td>0.000000</td>\n",
       "      <td>0.113648</td>\n",
       "      <td>0.039493</td>\n",
       "      <td>0.291438</td>\n",
       "    </tr>\n",
       "    <tr>\n",
       "      <th>D-</th>\n",
       "      <td>0.159386</td>\n",
       "      <td>0.153207</td>\n",
       "      <td>0.000000</td>\n",
       "      <td>0.061799</td>\n",
       "      <td>0.000000</td>\n",
       "      <td>0.000000</td>\n",
       "      <td>0.109576</td>\n",
       "      <td>0.087052</td>\n",
       "      <td>0.000000</td>\n",
       "      <td>0.206667</td>\n",
       "      <td>0.057191</td>\n",
       "      <td>0.050246</td>\n",
       "      <td>0.114876</td>\n",
       "    </tr>\n",
       "    <tr>\n",
       "      <th>E+</th>\n",
       "      <td>0.000897</td>\n",
       "      <td>0.151506</td>\n",
       "      <td>0.165711</td>\n",
       "      <td>0.000000</td>\n",
       "      <td>0.100560</td>\n",
       "      <td>0.000000</td>\n",
       "      <td>0.126804</td>\n",
       "      <td>0.133398</td>\n",
       "      <td>0.000000</td>\n",
       "      <td>0.000000</td>\n",
       "      <td>0.321124</td>\n",
       "      <td>0.000000</td>\n",
       "      <td>0.000000</td>\n",
       "    </tr>\n",
       "    <tr>\n",
       "      <th>E</th>\n",
       "      <td>0.126695</td>\n",
       "      <td>0.000000</td>\n",
       "      <td>0.128611</td>\n",
       "      <td>0.046550</td>\n",
       "      <td>0.086430</td>\n",
       "      <td>0.154906</td>\n",
       "      <td>0.000000</td>\n",
       "      <td>0.062831</td>\n",
       "      <td>0.025903</td>\n",
       "      <td>0.053060</td>\n",
       "      <td>0.088282</td>\n",
       "      <td>0.160812</td>\n",
       "      <td>0.065921</td>\n",
       "    </tr>\n",
       "    <tr>\n",
       "      <th>E-</th>\n",
       "      <td>0.091417</td>\n",
       "      <td>0.049548</td>\n",
       "      <td>0.000000</td>\n",
       "      <td>0.119176</td>\n",
       "      <td>0.000000</td>\n",
       "      <td>0.000000</td>\n",
       "      <td>0.000000</td>\n",
       "      <td>0.082299</td>\n",
       "      <td>0.140845</td>\n",
       "      <td>0.179423</td>\n",
       "      <td>0.000000</td>\n",
       "      <td>0.122973</td>\n",
       "      <td>0.214318</td>\n",
       "    </tr>\n",
       "  </tbody>\n",
       "</table>\n",
       "</div>"
      ],
      "text/plain": [
       "          A+         A        B+         B        C+         C        C-  \\\n",
       "A+  0.257511  0.000000  0.000000  0.000000  0.140056  0.107603  0.163076   \n",
       "A   0.182451  0.000000  0.000000  0.046847  0.000000  0.180724  0.000000   \n",
       "B+  0.165316  0.000000  0.183218  0.028071  0.082426  0.000000  0.141535   \n",
       "B   0.000000  0.097675  0.000000  0.203722  0.052713  0.109946  0.000000   \n",
       "C+  0.000000  0.000000  0.172397  0.191036  0.000000  0.000000  0.178192   \n",
       "C   0.062988  0.160719  0.098110  0.028281  0.084818  0.321190  0.000000   \n",
       "C-  0.000000  0.024621  0.000000  0.000000  0.101977  0.136232  0.191616   \n",
       "D+  0.197770  0.030784  0.000000  0.208820  0.114627  0.009129  0.039104   \n",
       "D   0.000000  0.000000  0.034781  0.030891  0.196467  0.021169  0.032797   \n",
       "D-  0.159386  0.153207  0.000000  0.061799  0.000000  0.000000  0.109576   \n",
       "E+  0.000897  0.151506  0.165711  0.000000  0.100560  0.000000  0.126804   \n",
       "E   0.126695  0.000000  0.128611  0.046550  0.086430  0.154906  0.000000   \n",
       "E-  0.091417  0.049548  0.000000  0.119176  0.000000  0.000000  0.000000   \n",
       "\n",
       "          D+         D        D-        E+         E        E-  \n",
       "A+  0.065693  0.036811  0.000000  0.169531  0.059719  0.000000  \n",
       "A   0.000000  0.043633  0.000514  0.012196  0.085944  0.447692  \n",
       "B+  0.009858  0.164605  0.073785  0.079102  0.000000  0.072083  \n",
       "B   0.000000  0.099239  0.045208  0.173040  0.074803  0.143655  \n",
       "C+  0.000000  0.255373  0.000000  0.099696  0.103307  0.000000  \n",
       "C   0.243895  0.000000  0.000000  0.000000  0.000000  0.000000  \n",
       "C-  0.101075  0.034183  0.188700  0.042885  0.178711  0.000000  \n",
       "D+  0.000000  0.190421  0.032835  0.037754  0.138754  0.000000  \n",
       "D   0.166493  0.072823  0.000000  0.113648  0.039493  0.291438  \n",
       "D-  0.087052  0.000000  0.206667  0.057191  0.050246  0.114876  \n",
       "E+  0.133398  0.000000  0.000000  0.321124  0.000000  0.000000  \n",
       "E   0.062831  0.025903  0.053060  0.088282  0.160812  0.065921  \n",
       "E-  0.082299  0.140845  0.179423  0.000000  0.122973  0.214318  "
      ]
     },
     "execution_count": 62,
     "metadata": {},
     "output_type": "execute_result"
    }
   ],
   "source": [
    "pd.DataFrame(best[-1].reshape((13, 13)), index=grades, columns=grades)"
   ]
  },
  {
   "cell_type": "markdown",
   "metadata": {
    "deletable": false,
    "editable": false,
    "nbgrader": {
     "cell_type": "markdown",
     "checksum": "8fddd1504d7d047076d30ea1b1408f98",
     "grade": false,
     "grade_id": "cell-f51b0657fe0ca213",
     "locked": true,
     "schema_version": 3,
     "solution": false,
     "task": false
    }
   },
   "source": [
    "### Your turn"
   ]
  },
  {
   "cell_type": "markdown",
   "metadata": {
    "deletable": false,
    "editable": false,
    "nbgrader": {
     "cell_type": "markdown",
     "checksum": "df12366acf069fcb44359791a39f848e",
     "grade": false,
     "grade_id": "cell-561fc0c281b1f692",
     "locked": true,
     "schema_version": 3,
     "solution": false,
     "task": false
    }
   },
   "source": [
    "Go back and try to modify `popsize`, `nb_gen`, `crossover_probability`, `indpb_alpha`, `indpb_beta` and `sigma`: can you improve the current solution? Converge faster?\n",
    "\n",
    "Uncomment the cell below to get this lab's bonus."
   ]
  },
  {
   "cell_type": "code",
   "execution_count": null,
   "metadata": {
    "deletable": false,
    "editable": false,
    "nbgrader": {
     "cell_type": "code",
     "checksum": "d379f2a43ed00bd49005f8fd3d0b5077",
     "grade": true,
     "grade_id": "cell-4e901aa27c470946",
     "locked": true,
     "points": 5,
     "schema_version": 3,
     "solution": false,
     "task": false
    }
   },
   "outputs": [],
   "source": []
  }
 ],
 "metadata": {
  "kernelspec": {
   "display_name": "Python 3 (ipykernel)",
   "language": "python",
   "name": "python3"
  },
  "language_info": {
   "codemirror_mode": {
    "name": "ipython",
    "version": 3
   },
   "file_extension": ".py",
   "mimetype": "text/x-python",
   "name": "python",
   "nbconvert_exporter": "python",
   "pygments_lexer": "ipython3",
   "version": "3.10.6"
  }
 },
 "nbformat": 4,
 "nbformat_minor": 4
}
